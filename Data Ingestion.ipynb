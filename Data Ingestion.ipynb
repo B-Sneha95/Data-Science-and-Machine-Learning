{
 "cells": [
  {
   "cell_type": "markdown",
   "id": "bbe7bac8-6729-4bca-8613-fa7c3b3cecae",
   "metadata": {},
   "source": [
    "# Data  Ingestion"
   ]
  },
  {
   "cell_type": "code",
   "execution_count": null,
   "id": "3de0966a-345a-4bfa-bc23-5848bf8f61d6",
   "metadata": {},
   "outputs": [],
   "source": []
  },
  {
   "cell_type": "code",
   "execution_count": 1,
   "id": "8c7526f5-7aa0-49b8-91f3-890aa9eb43ac",
   "metadata": {},
   "outputs": [
    {
     "name": "stdout",
     "output_type": "stream",
     "text": [
      "C:\\Users\\bsneh\\python Assignments\n"
     ]
    }
   ],
   "source": [
    "import os\n",
    "print(os.getcwd())"
   ]
  },
  {
   "cell_type": "code",
   "execution_count": null,
   "id": "e62d58e1-e0c4-499a-85e7-ac73206873ac",
   "metadata": {},
   "outputs": [],
   "source": [
    "#Comma seperated files CSV\n",
    "import pandas as pd\n",
    "df=pd.read_csv('data.csv')"
   ]
  },
  {
   "cell_type": "code",
   "execution_count": null,
   "id": "4d992074-2103-454b-a438-7f75d0a91ebe",
   "metadata": {},
   "outputs": [],
   "source": [
    "#EXCEL\n",
    "df=pd.read_excel('data1.xlxs',sheetname='sheet1')\n"
   ]
  },
  {
   "cell_type": "code",
   "execution_count": null,
   "id": "c9246ff2-0727-435a-acff-d3511314f1b4",
   "metadata": {},
   "outputs": [],
   "source": [
    "#SQL database \n",
    "# Data base connector-SQL alchemy or sql lite3 -we can import sqlalchemy or sqllite3 for ingestion we can import sqlalchemy or sqllite 3\n",
    "\n",
    "import pandas as pd\n",
    "import sqlite3\n",
    "\n",
    "connect=sqlite3.connect('database.db')\n",
    "df=pd.read_sql_query(query,connect)\n"
   ]
  },
  {
   "cell_type": "code",
   "execution_count": null,
   "id": "df54449e-5f56-4963-b157-93edeadebc50",
   "metadata": {},
   "outputs": [],
   "source": [
    "#json\n",
    "import pandas as pd\n",
    "import json\n",
    "df=pd.read_json('data.json')\n"
   ]
  },
  {
   "cell_type": "code",
   "execution_count": null,
   "id": "b6238cfa-c509-4234-beb7-1b2a09035686",
   "metadata": {},
   "outputs": [],
   "source": []
  },
  {
   "cell_type": "code",
   "execution_count": null,
   "id": "dd28e86c-3469-41c1-bfba-8b8805d964d4",
   "metadata": {},
   "outputs": [],
   "source": []
  },
  {
   "cell_type": "code",
   "execution_count": null,
   "id": "dfb826ab-ebf6-4a6d-82db-ed2fc26c4502",
   "metadata": {},
   "outputs": [],
   "source": []
  },
  {
   "cell_type": "code",
   "execution_count": null,
   "id": "550b314f-71b0-44c7-95c9-d7f5272f7602",
   "metadata": {},
   "outputs": [],
   "source": []
  },
  {
   "cell_type": "code",
   "execution_count": null,
   "id": "6b56e186-e34a-44d4-bff8-340138e928b7",
   "metadata": {},
   "outputs": [],
   "source": []
  },
  {
   "cell_type": "code",
   "execution_count": null,
   "id": "c9959d51-bc76-495f-ac2b-9a7f8b95a54c",
   "metadata": {},
   "outputs": [],
   "source": []
  },
  {
   "cell_type": "code",
   "execution_count": null,
   "id": "dade481b-e262-4861-b6f4-092852ab6bd4",
   "metadata": {},
   "outputs": [],
   "source": []
  }
 ],
 "metadata": {
  "kernelspec": {
   "display_name": "Python 3 (ipykernel)",
   "language": "python",
   "name": "python3"
  },
  "language_info": {
   "codemirror_mode": {
    "name": "ipython",
    "version": 3
   },
   "file_extension": ".py",
   "mimetype": "text/x-python",
   "name": "python",
   "nbconvert_exporter": "python",
   "pygments_lexer": "ipython3",
   "version": "3.12.4"
  }
 },
 "nbformat": 4,
 "nbformat_minor": 5
}
