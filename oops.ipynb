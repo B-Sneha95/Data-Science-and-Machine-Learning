{
 "cells": [
  {
   "cell_type": "markdown",
   "id": "5e6e448a-cdce-4aeb-b507-a709d1da8a8d",
   "metadata": {},
   "source": [
    "### USER DEFINED FUNCTIONS"
   ]
  },
  {
   "cell_type": "code",
   "execution_count": 1,
   "id": "3bc909d2-e7ea-466a-bbe4-14bff99517eb",
   "metadata": {},
   "outputs": [
    {
     "name": "stdout",
     "output_type": "stream",
     "text": [
      "hello python\n"
     ]
    }
   ],
   "source": [
    "#FUNCTION WITHOUT KEYWORD\n",
    "def msg():\n",
    "    print(\"hello python\")\n",
    "\n",
    "msg()"
   ]
  },
  {
   "cell_type": "code",
   "execution_count": 7,
   "id": "d34cb786-acdf-43a3-8ce6-749d3554be8f",
   "metadata": {},
   "outputs": [
    {
     "data": {
      "text/plain": [
       "140"
      ]
     },
     "execution_count": 7,
     "metadata": {},
     "output_type": "execute_result"
    }
   ],
   "source": [
    "#FUCTIONS WITH RETURN KEYWORD\n",
    "def sum(x,y):\n",
    "    result=x+y\n",
    "    return result\n",
    "sum(100,40)"
   ]
  },
  {
   "cell_type": "code",
   "execution_count": 9,
   "id": "75d26262-c3ce-4318-b266-330deb253b90",
   "metadata": {},
   "outputs": [
    {
     "name": "stdout",
     "output_type": "stream",
     "text": [
      "<function <lambda> at 0x00000282355DEFC0>\n"
     ]
    },
    {
     "data": {
      "text/plain": [
       "446"
      ]
     },
     "execution_count": 9,
     "metadata": {},
     "output_type": "execute_result"
    }
   ],
   "source": [
    "#LAMBDA FUNCTION:anonymous function,no specific name,single line execution\n",
    "sum=lambda a,b:a+b\n",
    "print(sum)\n",
    "sum(112,334)"
   ]
  },
  {
   "cell_type": "code",
   "execution_count": 10,
   "id": "20410274-20ed-467b-8562-4a1bcdfde7a4",
   "metadata": {},
   "outputs": [
    {
     "name": "stdout",
     "output_type": "stream",
     "text": [
      "<function <lambda> at 0x00000282355DF880>\n"
     ]
    },
    {
     "data": {
      "text/plain": [
       "80"
      ]
     },
     "execution_count": 10,
     "metadata": {},
     "output_type": "execute_result"
    }
   ],
   "source": [
    "mul=lambda x,y:x*y\n",
    "print(mul)\n",
    "mul(20,4)"
   ]
  },
  {
   "cell_type": "markdown",
   "id": "ed94338e-97c8-4d38-8ecb-e68e2c0bb69e",
   "metadata": {},
   "source": [
    "### Scope,global,local"
   ]
  },
  {
   "cell_type": "code",
   "execution_count": 11,
   "id": "7f84e22a-9288-4077-856f-93fc3b135bf6",
   "metadata": {},
   "outputs": [
    {
     "name": "stdout",
     "output_type": "stream",
     "text": [
      "10\n",
      "10\n"
     ]
    }
   ],
   "source": [
    "#global scope\n",
    "x=10\n",
    "def display():\n",
    "    print(x)\n",
    "display()\n",
    "print(x)"
   ]
  },
  {
   "cell_type": "code",
   "execution_count": 21,
   "id": "223df50d-c78e-4175-bf25-03e532198dc0",
   "metadata": {},
   "outputs": [
    {
     "name": "stdout",
     "output_type": "stream",
     "text": [
      "30\n"
     ]
    },
    {
     "ename": "NameError",
     "evalue": "name 'y' is not defined",
     "output_type": "error",
     "traceback": [
      "\u001b[1;31m---------------------------------------------------------------------------\u001b[0m",
      "\u001b[1;31mNameError\u001b[0m                                 Traceback (most recent call last)",
      "Cell \u001b[1;32mIn[21], line 8\u001b[0m\n\u001b[0;32m      4\u001b[0m      \u001b[38;5;28mprint\u001b[39m(y)\n\u001b[0;32m      6\u001b[0m myfun1()\n\u001b[1;32m----> 8\u001b[0m \u001b[38;5;28mprint\u001b[39m(y)\n",
      "\u001b[1;31mNameError\u001b[0m: name 'y' is not defined"
     ]
    }
   ],
   "source": [
    "#local scope\n",
    "def myfun1():\n",
    "     y=30\n",
    "     print(y)\n",
    "         \n",
    "myfun1()\n",
    "\n",
    "print(y) "
   ]
  },
  {
   "cell_type": "code",
   "execution_count": 26,
   "id": "ade163f1-4039-4fda-845d-a1af470f1363",
   "metadata": {},
   "outputs": [
    {
     "name": "stdout",
     "output_type": "stream",
     "text": [
      "90\n"
     ]
    }
   ],
   "source": [
    "# modify local to global\n",
    "def modifying():\n",
    "      global x\n",
    "      x=90\n",
    "      \n",
    "modifying()\n",
    "print(x)"
   ]
  },
  {
   "cell_type": "markdown",
   "id": "e054f930-477a-4e7d-9c7f-ca2b2174c2cc",
   "metadata": {},
   "source": [
    "### Arguments in python"
   ]
  },
  {
   "cell_type": "code",
   "execution_count": null,
   "id": "762f7cb0-b9f8-4d34-9193-f522161af4cb",
   "metadata": {},
   "outputs": [],
   "source": [
    "#POSITIONAL ARGUMENTS\n",
    "#THESE ARE MOST COMMON TYPE OF ARGUMENTS AND ARE PASSED IN SPECIFIC ORDER"
   ]
  },
  {
   "cell_type": "code",
   "execution_count": null,
   "id": "9036300b-b66e-4c9f-ae21-6003da6b2a88",
   "metadata": {},
   "outputs": [],
   "source": [
    "def sample(x,y)"
   ]
  },
  {
   "cell_type": "code",
   "execution_count": 29,
   "id": "76246476-7ec8-43c7-a966-4bfaa080ba86",
   "metadata": {},
   "outputs": [
    {
     "name": "stdout",
     "output_type": "stream",
     "text": [
      "Monal,GoodMorning\n"
     ]
    }
   ],
   "source": [
    "#KEYWORD ARGUMENTS \n",
    "#EXAMPLE\n",
    "def greet(name,message):\n",
    "       print(f'{name},{message}')\n",
    "\n",
    "greet(name='Monal',message='GoodMorning')\n",
    "    "
   ]
  },
  {
   "cell_type": "code",
   "execution_count": null,
   "id": "8f6d4db8-20e0-4972-98c4-1ca841591db1",
   "metadata": {},
   "outputs": [],
   "source": [
    "#DEFAULT ARGUMENTS\n",
    "#THESE ARGUMENTS TAKES A DEFAULT VALUE IF NO VALUE IS PASSED\n",
    "# DEFAULT ARGUMENTS MUST FOLLOW NON KEYWORD ARGUMENTS IN THE FUNCTION"
   ]
  },
  {
   "cell_type": "code",
   "execution_count": 30,
   "id": "a9809720-21f6-4378-94e8-c89d1868abba",
   "metadata": {},
   "outputs": [
    {
     "name": "stdout",
     "output_type": "stream",
     "text": [
      "HELLO,john,GOOD MORNING\n"
     ]
    }
   ],
   "source": [
    "#EXAMPLE\n",
    "def greet(name,message='GOOD MORNING'):\n",
    "       print(f'HELLO,{name},{message}')\n",
    "\n",
    "greet(\"john\")"
   ]
  },
  {
   "cell_type": "code",
   "execution_count": null,
   "id": "b6ced925-184f-445d-b826-54416fb8598d",
   "metadata": {},
   "outputs": [],
   "source": [
    "#VARIABLE LENGTH ARGUMENTS\n",
    "#THESE ARE"
   ]
  },
  {
   "cell_type": "code",
   "execution_count": 33,
   "id": "3c2bd288-53c9-4a18-862a-c2ebaa57e3bd",
   "metadata": {},
   "outputs": [
    {
     "name": "stdout",
     "output_type": "stream",
     "text": [
      "Welcome to INDIA, Sneha!\n",
      "Welcome to INDIA, Abhilash!\n",
      "Welcome to INDIA, Samvidh!\n",
      "Welcome to INDIA, Anurag!\n",
      "Welcome to INDIA, Ramya!\n"
     ]
    }
   ],
   "source": [
    "def greet(*names):\n",
    "    for name in names:\n",
    "        print(f'Welcome to INDIA, {name}!')\n",
    "greet('Sneha','Abhilash','Samvidh','Anurag','Ramya')"
   ]
  },
  {
   "cell_type": "code",
   "execution_count": 45,
   "id": "9dc2ff5c-c814-4eb8-aaf9-91983c99cb7c",
   "metadata": {},
   "outputs": [
    {
     "name": "stdout",
     "output_type": "stream",
     "text": [
      "Title: Python Programming, Author: John Doe, Copies: 5\n",
      "Title: Data Science Basics, Author: Jane Smith, Copies: 2\n",
      "3 copies added. Total copies now: 8\n",
      "Book borrowed. Copies remaining: 1\n",
      "Book borrowed. Copies remaining: 0\n",
      "Out of stock.\n",
      "Title: Python Programming, Author: John Doe, Copies: 8\n",
      "Title: Data Science Basics, Author: Jane Smith, Copies: 0\n"
     ]
    }
   ],
   "source": [
    "class Book:\n",
    "    def __init__(self, title, author, copies=0):\n",
    "        self.title = title\n",
    "        self.author = author\n",
    "        self.copies = copies\n",
    "\n",
    "    def display_details(self):\n",
    "        print(f\"Title: {self.title}, Author: {self.author}, Copies: {self.copies}\")\n",
    "\n",
    "    def add_copies(self, num_copies):\n",
    "        self.copies += num_copies\n",
    "        print(f\"{num_copies} copies added. Total copies now: {self.copies}\")\n",
    "\n",
    "    def borrow_book(self):\n",
    "        if self.copies > 0:\n",
    "            self.copies -= 1\n",
    "            print(f\"Book borrowed. Copies remaining: {self.copies}\")\n",
    "        else:\n",
    "            print(\"Out of stock.\")\n",
    "            \n",
    "\n",
    "book1 = Book(\"Python Programming\", \"John Doe\", 5)\n",
    "book2 = Book(\"Data Science Basics\", \"Jane Smith\", 2)\n",
    "\n",
    "\n",
    "book1.display_details()\n",
    "book2.display_details()\n",
    "\n",
    "book1.add_copies(3)\n",
    "\n",
    "book2.borrow_book()\n",
    "book2.borrow_book()\n",
    "book2.borrow_book()  \n",
    "\n",
    "book1.display_details()\n",
    "book2.display_details()\n",
    "\n"
   ]
  },
  {
   "cell_type": "code",
   "execution_count": null,
   "id": "1e8054d7-11f5-4db5-9e29-716874ced75f",
   "metadata": {},
   "outputs": [],
   "source": []
  },
  {
   "cell_type": "code",
   "execution_count": 49,
   "id": "a5916993-a706-414a-a4c3-7bde82ae2b3c",
   "metadata": {},
   "outputs": [
    {
     "ename": "SyntaxError",
     "evalue": "parameter without a default follows parameter with a default (750283090.py, line 2)",
     "output_type": "error",
     "traceback": [
      "\u001b[1;36m  Cell \u001b[1;32mIn[49], line 2\u001b[1;36m\u001b[0m\n\u001b[1;33m    def __init__(model,colour,stock=10,type):\u001b[0m\n\u001b[1;37m                                       ^\u001b[0m\n\u001b[1;31mSyntaxError\u001b[0m\u001b[1;31m:\u001b[0m parameter without a default follows parameter with a default\n"
     ]
    }
   ],
   "source": [
    "class car:\n",
    "    def __init__(model,colour,stock=10,type):\n",
    "        model.colour=colour\n",
    "        model.stock= stock\n",
    "        model.type=type\n",
    "    def colour_car(model):\n",
    "        print(f'colour:{model.colour}')\n",
    "        \n",
    "    def stock_car(model,stock,purchase):\n",
    "        if model.stock>2:\n",
    "          model.stock=model.stock-purchase\n",
    "          print(f'no of cars remaining after purchase:{model.stock}')\n",
    "\n",
    "    def type_car(model,type,self,auto):\n",
    "         if model.type== self:\n",
    "            print(f'car is manual')\n",
    "         if model.type== auto:\n",
    "            print(f'car is Automatic')\n",
    "\n",
    "Mahindra=car('red','6','Automatic')\n",
    "Tata=car('blue','10','Automatic')\n",
    "Swift=car('white','5','manual')\n",
    "\n",
    "\n",
    "\n",
    "Mahindra.type_car()\n",
    "\n",
    "\n",
    "\n",
    "\n",
    "    "
   ]
  },
  {
   "cell_type": "code",
   "execution_count": 30,
   "id": "221d0a0b-eee8-4dc7-8c2c-e6a5f5e11e3b",
   "metadata": {},
   "outputs": [
    {
     "name": "stdout",
     "output_type": "stream",
     "text": [
      "Name: RAKSHI, Age: 24, Gender: FEMALE, Role: Executive,salary:80000,ADHAAR:56241291928\n",
      "Salary: 80000\n",
      "ADHAAR: 56241291928\n",
      "\n",
      "Insurance Check for Sarayu: NotEligible\n",
      "Name: Sarayu, Age: 34, Gender: female, Role: Executive,salary:78999,ADHAAR:8473579284\n"
     ]
    }
   ],
   "source": [
    "class person:\n",
    "    def __init__(self,name,age,gender,salary,ADHAAR):\n",
    "        self.name=name\n",
    "        self.age=age\n",
    "        self.gender=gender\n",
    "        self.__salary=salary\n",
    "        self.__ADHAAR=ADHAAR\n",
    "        \n",
    "    def Occupation(self):\n",
    "        if self.gender=='male':\n",
    "            return 'HardwareEngineer'\n",
    "        elif self.gender=='female':\n",
    "            return 'SoftwareEngineer'\n",
    "        else:\n",
    "             return 'Executive'\n",
    "    # Getter for salary\n",
    "    def get_salary(self):\n",
    "        return self.__salary\n",
    "\n",
    "    # Getter for ADHAAR\n",
    "    def get_ADHAAR(self):\n",
    "        return self.__ADHAAR\n",
    "\n",
    "\n",
    "    def __str__(self):\n",
    "            return f\"Name: {self.name}, Age: {self.age}, Gender: {self.gender}, Role: {self.Occupation()},salary:{self.__salary},ADHAAR:{self.__ADHAAR}\"\n",
    "\n",
    "p1=person('RAKSHI',24,'FEMALE','',80000,56241291928)\n",
    "p1.Occupation()\n",
    "print(p1)\n",
    "print(\"Salary:\", p1.get_salary())\n",
    "print(\"ADHAAR:\", p1.get_ADHAAR())\n",
    "class Insurance(person):\n",
    "        def __init__(self,name,age,gender,occupation,salary,ADHAAR,medical_exam,proof):\n",
    "            super().__init__(name,age,gender,occupation,salary,ADHAAR)\n",
    "            self.medical_exam=medical_exam\n",
    "            self.proof=proof\n",
    "\n",
    "        def check(self):\n",
    "            if self.medical_exam=='Pass' and self.proof=='verified':\n",
    "                return 'Eligible'\n",
    "            else:   \n",
    "                 return 'NotEligible'       \n",
    "\n",
    "p2 = Insurance('Sarayu', 34, 'female', '', 78999, 8473579284, 'Pass', 'Verified')\n",
    "print(\"\\nInsurance Check for Sarayu:\", p2.check())\n",
    "print(p2)\n"
   ]
  },
  {
   "cell_type": "code",
   "execution_count": 35,
   "id": "a0946bc5-76a2-4f4d-a057-02e089755d13",
   "metadata": {},
   "outputs": [
    {
     "name": "stdout",
     "output_type": "stream",
     "text": [
      "Hello my name is John\n"
     ]
    }
   ],
   "source": [
    "class Person:\n",
    "  def __init__(self, name, age):\n",
    "    self.name = name\n",
    "    self.age = age\n",
    "\n",
    "  def myfunc(self):\n",
    "    print(\"Hello my name is \" + self.name)\n",
    "\n",
    "p1 = Person(\"John\", 36)\n",
    "p1.myfunc()"
   ]
  },
  {
   "cell_type": "code",
   "execution_count": 36,
   "id": "aac3e230-0776-4930-a9d0-5c48f0cfded1",
   "metadata": {},
   "outputs": [
    {
     "name": "stdout",
     "output_type": "stream",
     "text": [
      "Hello my name is John\n"
     ]
    }
   ],
   "source": [
    "class Person:\n",
    "  def __init__(mysillyobject, name, age):\n",
    "    mysillyobject.name = name\n",
    "    mysillyobject.age = age\n",
    "\n",
    "  def myfunc(abc):\n",
    "    print(\"Hello my name is \" + abc.name)\n",
    "\n",
    "p1 = Person(\"John\", 36)\n",
    "p1.myfunc()"
   ]
  },
  {
   "cell_type": "code",
   "execution_count": 38,
   "id": "a502ef6f-26a2-4fea-981f-2a177c2d1b12",
   "metadata": {},
   "outputs": [
    {
     "name": "stdout",
     "output_type": "stream",
     "text": [
      "2025-11-03 00:00:00\n"
     ]
    }
   ],
   "source": [
    "import datetime\n",
    "x=datetime.datetime(2025,11,3)\n",
    "print(x)"
   ]
  },
  {
   "cell_type": "code",
   "execution_count": 51,
   "id": "79b34e2c-2d02-47b5-a59c-87d1303a5b63",
   "metadata": {},
   "outputs": [
    {
     "name": "stdout",
     "output_type": "stream",
     "text": [
      "2025\n",
      "Wed\n",
      "Wednesday\n",
      "May\n",
      "May\n",
      "25\n",
      "2025\n",
      "15\n",
      "03\n",
      "PM\n"
     ]
    }
   ],
   "source": [
    "x=datetime.datetime.now()\n",
    "print(x.year)\n",
    "print(x.strftime('%a'))\n",
    "print(x.strftime('%A'))\n",
    "print(x.strftime('%b'))\n",
    "print(x.strftime('%B'))\n",
    "print(x.strftime('%y'))\n",
    "print(x.strftime('%Y'))\n",
    "print(x.strftime('%H'))\n",
    "print(x.strftime('%I'))\n",
    "print(x.strftime('%p'))\n"
   ]
  },
  {
   "cell_type": "code",
   "execution_count": null,
   "id": "865d8782-a048-45ae-9cc1-34167138f31e",
   "metadata": {},
   "outputs": [],
   "source": [
    "x=datetime.datetime(2025,11,3)\n",
    "print(x)"
   ]
  }
 ],
 "metadata": {
  "kernelspec": {
   "display_name": "Python 3 (ipykernel)",
   "language": "python",
   "name": "python3"
  },
  "language_info": {
   "codemirror_mode": {
    "name": "ipython",
    "version": 3
   },
   "file_extension": ".py",
   "mimetype": "text/x-python",
   "name": "python",
   "nbconvert_exporter": "python",
   "pygments_lexer": "ipython3",
   "version": "3.12.4"
  }
 },
 "nbformat": 4,
 "nbformat_minor": 5
}
