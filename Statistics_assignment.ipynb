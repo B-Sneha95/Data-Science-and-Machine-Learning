{
 "cells": [
  {
   "cell_type": "markdown",
   "id": "a0e00e85-6a30-4be6-a330-0a9ee48a436e",
   "metadata": {},
   "source": [
    "#STATISTICS"
   ]
  },
  {
   "cell_type": "code",
   "execution_count": null,
   "id": "008e94aa-1a5a-469d-9674-2af6dc4797fa",
   "metadata": {},
   "outputs": [],
   "source": [
    "import seaborn as sns\n",
    "import matplotlib.pyplot as plt\n",
    "import pandas as pd\n",
    "import numpy as np"
   ]
  },
  {
   "cell_type": "code",
   "execution_count": null,
   "id": "46e47d21-6a3b-4ccc-831b-31df651d2c3c",
   "metadata": {},
   "outputs": [],
   "source": []
  },
  {
   "cell_type": "code",
   "execution_count": 2,
   "id": "ae35e0ee-1818-4049-b4a2-e5445fcee83a",
   "metadata": {},
   "outputs": [
    {
     "name": "stdout",
     "output_type": "stream",
     "text": [
      "First 5 rows of the dataset:\n",
      "   SepalLength  SepalWidth  PetalLength  PetalWidth Species  SepalArea  \\\n",
      "0          5.1         3.5          1.4         0.2  setosa      17.85   \n",
      "1          4.9         3.0          1.4         0.2  setosa      14.70   \n",
      "2          4.7         3.2          1.3         0.2  setosa      15.04   \n",
      "3          4.6         3.1          1.5         0.2  setosa      14.26   \n",
      "4          5.0         3.6          1.4         0.2  setosa      18.00   \n",
      "\n",
      "   PetalArea  SepalPetalRatio  \n",
      "0       0.28            63.75  \n",
      "1       0.28            52.50  \n",
      "2       0.26            57.85  \n",
      "3       0.30            53.43  \n",
      "4       0.28            64.29  \n"
     ]
    }
   ],
   "source": [
    "import pandas as pd  \n",
    "\n",
    "file_path = \"C:\\\\Users\\\\bsneh\\\\python Assignments\\\\iris_data.xlsx\"\n",
    "\n",
    "#Load the dataset into a Pandas DataFrame.\n",
    "df = pd.read_excel(file_path)  \n",
    "\n",
    "# Display the first 5 rows\n",
    "print(\"First 5 rows of the dataset:\")\n",
    "print(df.head())"
   ]
  },
  {
   "cell_type": "code",
   "execution_count": 6,
   "id": "a949d309-fd1d-460a-803f-7625a706f81c",
   "metadata": {},
   "outputs": [
    {
     "data": {
      "text/plain": [
       "(20, 8)"
      ]
     },
     "execution_count": 6,
     "metadata": {},
     "output_type": "execute_result"
    }
   ],
   "source": [
    "#Number of Rows and Columns:\n",
    "df.shape"
   ]
  },
  {
   "cell_type": "code",
   "execution_count": 7,
   "id": "c80f3f4c-0c5a-418b-ab02-dc06954af48a",
   "metadata": {},
   "outputs": [
    {
     "data": {
      "text/plain": [
       "SepalLength        float64\n",
       "SepalWidth         float64\n",
       "PetalLength        float64\n",
       "PetalWidth         float64\n",
       "Species             object\n",
       "SepalArea          float64\n",
       "PetalArea          float64\n",
       "SepalPetalRatio    float64\n",
       "dtype: object"
      ]
     },
     "execution_count": 7,
     "metadata": {},
     "output_type": "execute_result"
    }
   ],
   "source": [
    "# variable types (categorical, numerical)\n",
    "df.dtypes"
   ]
  },
  {
   "cell_type": "code",
   "execution_count": 23,
   "id": "0f0a9ce6-d84f-4ef2-9461-1305bfb9ae2b",
   "metadata": {},
   "outputs": [
    {
     "data": {
      "text/plain": [
       "5.034999999999999"
      ]
     },
     "execution_count": 23,
     "metadata": {},
     "output_type": "execute_result"
    }
   ],
   "source": [
    "#Calculate the mean,median,mode and for at least three numerical columns\n",
    "df['SepalLength'].mean()"
   ]
  },
  {
   "cell_type": "code",
   "execution_count": 24,
   "id": "47ec1555-e71a-46c1-a414-4dd9715a9da1",
   "metadata": {},
   "outputs": [
    {
     "data": {
      "text/plain": [
       "5.0"
      ]
     },
     "execution_count": 24,
     "metadata": {},
     "output_type": "execute_result"
    }
   ],
   "source": [
    "df['SepalLength'].median()"
   ]
  },
  {
   "cell_type": "code",
   "execution_count": 26,
   "id": "3cecb3b0-ca69-484b-b1c6-e6267f50ecb8",
   "metadata": {},
   "outputs": [
    {
     "data": {
      "text/plain": [
       "0    5.1\n",
       "1    5.4\n",
       "Name: SepalLength, dtype: float64"
      ]
     },
     "execution_count": 26,
     "metadata": {},
     "output_type": "execute_result"
    }
   ],
   "source": [
    "df['SepalLength'].mode()"
   ]
  },
  {
   "cell_type": "code",
   "execution_count": 27,
   "id": "31bf5191-c10a-4dcc-9856-0c4ec4754e20",
   "metadata": {},
   "outputs": [
    {
     "data": {
      "text/plain": [
       "SepalLength\n",
       "5.1    3\n",
       "5.4    3\n",
       "4.9    2\n",
       "4.6    2\n",
       "5.0    2\n",
       "4.8    2\n",
       "5.7    2\n",
       "4.7    1\n",
       "4.4    1\n",
       "4.3    1\n",
       "5.8    1\n",
       "Name: count, dtype: int64"
      ]
     },
     "execution_count": 27,
     "metadata": {},
     "output_type": "execute_result"
    }
   ],
   "source": [
    "df['SepalLength'].value_counts()"
   ]
  },
  {
   "cell_type": "code",
   "execution_count": 28,
   "id": "b8c54746-83a7-4800-9a10-582c801ca8a7",
   "metadata": {},
   "outputs": [
    {
     "data": {
      "text/plain": [
       "1.4349999999999998"
      ]
     },
     "execution_count": 28,
     "metadata": {},
     "output_type": "execute_result"
    }
   ],
   "source": [
    "df['PetalLength'].mean()"
   ]
  },
  {
   "cell_type": "code",
   "execution_count": 29,
   "id": "d827548c-bf7d-489e-ade0-824676e361f2",
   "metadata": {},
   "outputs": [
    {
     "data": {
      "text/plain": [
       "1.4"
      ]
     },
     "execution_count": 29,
     "metadata": {},
     "output_type": "execute_result"
    }
   ],
   "source": [
    "df['PetalLength'].median()"
   ]
  },
  {
   "cell_type": "code",
   "execution_count": 30,
   "id": "bd3db66d-2a87-4c65-b008-a346e2f5dd26",
   "metadata": {},
   "outputs": [
    {
     "data": {
      "text/plain": [
       "0    1.4\n",
       "Name: PetalLength, dtype: float64"
      ]
     },
     "execution_count": 30,
     "metadata": {},
     "output_type": "execute_result"
    }
   ],
   "source": [
    "df['PetalLength'].mode()"
   ]
  },
  {
   "cell_type": "code",
   "execution_count": 31,
   "id": "15c39dd2-8464-42bb-bfde-748944ba9460",
   "metadata": {},
   "outputs": [
    {
     "data": {
      "text/plain": [
       "0.34199999999999997"
      ]
     },
     "execution_count": 31,
     "metadata": {},
     "output_type": "execute_result"
    }
   ],
   "source": [
    "df['PetalArea'].mean()"
   ]
  },
  {
   "cell_type": "code",
   "execution_count": 32,
   "id": "18a00a88-6e0c-41e8-8ef1-4f7af2a7f73a",
   "metadata": {},
   "outputs": [
    {
     "data": {
      "text/plain": [
       "0.3"
      ]
     },
     "execution_count": 32,
     "metadata": {},
     "output_type": "execute_result"
    }
   ],
   "source": [
    "df['PetalArea'].median()"
   ]
  },
  {
   "cell_type": "code",
   "execution_count": 33,
   "id": "01a934db-8edd-4e9b-a5ea-eda3e10c8e9c",
   "metadata": {},
   "outputs": [
    {
     "data": {
      "text/plain": [
       "0    0.28\n",
       "Name: PetalArea, dtype: float64"
      ]
     },
     "execution_count": 33,
     "metadata": {},
     "output_type": "execute_result"
    }
   ],
   "source": [
    "df['PetalArea'].mode()"
   ]
  },
  {
   "cell_type": "code",
   "execution_count": 34,
   "id": "1769b404-b032-466a-a7aa-0cf2c1f2df5c",
   "metadata": {},
   "outputs": [
    {
     "data": {
      "text/plain": [
       "PetalArea\n",
       "0.28    4\n",
       "0.30    3\n",
       "0.42    2\n",
       "0.26    1\n",
       "0.68    1\n",
       "0.15    1\n",
       "0.32    1\n",
       "0.14    1\n",
       "0.11    1\n",
       "0.24    1\n",
       "0.60    1\n",
       "0.52    1\n",
       "0.51    1\n",
       "0.45    1\n",
       "Name: count, dtype: int64"
      ]
     },
     "execution_count": 34,
     "metadata": {},
     "output_type": "execute_result"
    }
   ],
   "source": [
    "df['PetalArea'].value_counts()"
   ]
  },
  {
   "cell_type": "code",
   "execution_count": null,
   "id": "e2c9646a-eb7c-4e0f-af77-8f11b85f599a",
   "metadata": {},
   "outputs": [],
   "source": [
    "# Calculate variance, standard deviation, and range and for the same numerical columns."
   ]
  },
  {
   "cell_type": "code",
   "execution_count": 35,
   "id": "ca6f9fa9-1ccb-4fc9-ba20-f7e9a8b320ce",
   "metadata": {},
   "outputs": [
    {
     "data": {
      "text/plain": [
       "0.15119175694600895"
      ]
     },
     "execution_count": 35,
     "metadata": {},
     "output_type": "execute_result"
    }
   ],
   "source": [
    "df['PetalArea'].std()"
   ]
  },
  {
   "cell_type": "code",
   "execution_count": 36,
   "id": "01c9d2ec-a85a-4af5-8b41-a21ff91af3bb",
   "metadata": {},
   "outputs": [
    {
     "data": {
      "text/plain": [
       "0.022858947368421048"
      ]
     },
     "execution_count": 36,
     "metadata": {},
     "output_type": "execute_result"
    }
   ],
   "source": [
    "df['PetalArea'].var()"
   ]
  },
  {
   "cell_type": "code",
   "execution_count": 37,
   "id": "7a2433c3-ef4d-40ad-8001-0c7c229015b0",
   "metadata": {},
   "outputs": [
    {
     "data": {
      "text/plain": [
       "0.5700000000000001"
      ]
     },
     "execution_count": 37,
     "metadata": {},
     "output_type": "execute_result"
    }
   ],
   "source": [
    "df['PetalArea'].max() - df['PetalArea'].min()"
   ]
  },
  {
   "cell_type": "code",
   "execution_count": null,
   "id": "7066ed23-6cfd-4d55-901c-806e584bdff0",
   "metadata": {},
   "outputs": [],
   "source": [
    "#Sepal length dispersion metrics"
   ]
  },
  {
   "cell_type": "code",
   "execution_count": 38,
   "id": "f30e37d0-3ac4-4eb4-a095-23e26e49d6d3",
   "metadata": {},
   "outputs": [
    {
     "data": {
      "text/plain": [
       "0.4270769682880421"
      ]
     },
     "execution_count": 38,
     "metadata": {},
     "output_type": "execute_result"
    }
   ],
   "source": [
    "df['SepalLength'].std()"
   ]
  },
  {
   "cell_type": "code",
   "execution_count": 39,
   "id": "d361eeb0-3cec-4bbb-8682-9879749dd6a6",
   "metadata": {},
   "outputs": [
    {
     "data": {
      "text/plain": [
       "0.1823947368421053"
      ]
     },
     "execution_count": 39,
     "metadata": {},
     "output_type": "execute_result"
    }
   ],
   "source": [
    "df['SepalLength'].var()"
   ]
  },
  {
   "cell_type": "code",
   "execution_count": 40,
   "id": "6bbaab07-d55c-4b44-8c3f-3d165f4854b6",
   "metadata": {},
   "outputs": [
    {
     "data": {
      "text/plain": [
       "1.5"
      ]
     },
     "execution_count": 40,
     "metadata": {},
     "output_type": "execute_result"
    }
   ],
   "source": [
    "df['SepalLength'].max()-df['SepalLength'].min()"
   ]
  },
  {
   "cell_type": "code",
   "execution_count": null,
   "id": "aa5bb47b-36a4-468a-a993-9483505ac096",
   "metadata": {},
   "outputs": [],
   "source": [
    "#petal length dispersion metrics"
   ]
  },
  {
   "cell_type": "code",
   "execution_count": 41,
   "id": "7575fc59-3dcd-4508-bf48-7aa01293852d",
   "metadata": {},
   "outputs": [
    {
     "data": {
      "text/plain": [
       "0.1460893742308382"
      ]
     },
     "execution_count": 41,
     "metadata": {},
     "output_type": "execute_result"
    }
   ],
   "source": [
    "df['PetalLength'].std()"
   ]
  },
  {
   "cell_type": "code",
   "execution_count": 42,
   "id": "dab163a1-8876-446a-9658-e0763dd1b8f0",
   "metadata": {},
   "outputs": [
    {
     "data": {
      "text/plain": [
       "0.02134210526315789"
      ]
     },
     "execution_count": 42,
     "metadata": {},
     "output_type": "execute_result"
    }
   ],
   "source": [
    "df['PetalLength'].var()"
   ]
  },
  {
   "cell_type": "code",
   "execution_count": 43,
   "id": "ce92943e-f8b7-46a3-a264-8ef335640f08",
   "metadata": {},
   "outputs": [
    {
     "data": {
      "text/plain": [
       "0.5999999999999999"
      ]
     },
     "execution_count": 43,
     "metadata": {},
     "output_type": "execute_result"
    }
   ],
   "source": [
    "df['PetalLength'].max()-df['PetalLength'].min()"
   ]
  },
  {
   "cell_type": "code",
   "execution_count": null,
   "id": "fe2df60b-39d0-4baa-8d18-8fa5e0980c9d",
   "metadata": {},
   "outputs": [],
   "source": [
    "#Identify outliers in a chosen column "
   ]
  },
  {
   "cell_type": "code",
   "execution_count": 50,
   "id": "5d2c8ca1-ffc4-4570-a6fa-742fc7fb82de",
   "metadata": {},
   "outputs": [
    {
     "name": "stdout",
     "output_type": "stream",
     "text": [
      "     z_score\n",
      "0   0.152197\n",
      "1  -0.316102\n",
      "2  -0.784402\n",
      "3  -1.018552\n",
      "4  -0.081952\n",
      "5   0.854647\n",
      "6  -1.018552\n",
      "7  -0.081952\n",
      "8  -1.486851\n",
      "9  -0.316102\n",
      "10  0.854647\n",
      "11 -0.550252\n",
      "12 -0.550252\n",
      "13 -1.721001\n",
      "14  1.791246\n",
      "15  1.557096\n",
      "16  0.854647\n",
      "17  0.152197\n",
      "18  1.557096\n",
      "19  0.152197\n"
     ]
    }
   ],
   "source": [
    "import pandas as pd\n",
    "import seaborn as sns\n",
    "import numpy as np\n",
    "\n",
    "# # Load the Iris dataset\n",
    "# df = sns.load_dataset('iris_data')\n",
    "\n",
    "# Consider a numerical column, for example, 'sepal_length'\n",
    "column = 'SepalLength'\n",
    "\n",
    "# 1. Z-Score Method\n",
    "mean = df[column].mean()\n",
    "std = df[column].std()\n",
    "\n",
    "# Calculate Z-scores\n",
    "df['z_score'] = (df[column] - mean) / std\n",
    "print(df[['z_score']])\n"
   ]
  },
  {
   "cell_type": "code",
   "execution_count": 51,
   "id": "26dc1a07-2647-49f3-8369-369df6de8972",
   "metadata": {},
   "outputs": [
    {
     "name": "stdout",
     "output_type": "stream",
     "text": [
      "Outliers identified using Z-Score Method:\n",
      "Empty DataFrame\n",
      "Columns: [SepalLength, z_score]\n",
      "Index: []\n"
     ]
    }
   ],
   "source": [
    "# Identify outliers (threshold ±3)\n",
    "z_outliers = df[np.abs(df['z_score']) > 3]\n",
    "print(\"Outliers identified using Z-Score Method:\")\n",
    "print(z_outliers[[column, 'z_score']])\n"
   ]
  },
  {
   "cell_type": "code",
   "execution_count": 52,
   "id": "9885d193-0629-4e85-bb77-db0f9b8e182c",
   "metadata": {},
   "outputs": [
    {
     "name": "stdout",
     "output_type": "stream",
     "text": [
      "\n",
      "Outliers identified using IQR Method:\n",
      "Empty DataFrame\n",
      "Columns: [SepalLength]\n",
      "Index: []\n"
     ]
    }
   ],
   "source": [
    "# 2. IQR Method\n",
    "Q1 = df[column].quantile(0.25)\n",
    "Q3 = df[column].quantile(0.75)\n",
    "IQR = Q3 - Q1\n",
    "\n",
    "# Define the lower and upper bounds\n",
    "lower_bound = Q1 - 1.5 * IQR\n",
    "upper_bound = Q3 + 1.5 * IQR\n",
    "\n",
    "# Identify outliers\n",
    "iqr_outliers = df[(df[column] < lower_bound) | (df[column] > upper_bound)]\n",
    "print(\"\\nOutliers identified using IQR Method:\")\n",
    "print(iqr_outliers[[column]])\n"
   ]
  },
  {
   "cell_type": "code",
   "execution_count": 53,
   "id": "7cf3e5bf-18a4-4563-96c0-b47e06884139",
   "metadata": {},
   "outputs": [
    {
     "data": {
      "image/png": "[encoded data removed]",
      "text/plain": [
       "<Figure size 800x500 with 1 Axes>"
      ]
     },
     "metadata": {},
     "output_type": "display_data"
    }
   ],
   "source": [
    "# 3. Visualization using Boxplot\n",
    "import matplotlib.pyplot as plt\n",
    "\n",
    "plt.figure(figsize=(8, 5))\n",
    "sns.boxplot(x=df[column])\n",
    "plt.title(f'Boxplot for {column}')\n",
    "plt.show()"
   ]
  },
  {
   "cell_type": "code",
   "execution_count": 54,
   "id": "704035cf-77d0-4eaa-9ec9-e3b173210694",
   "metadata": {},
   "outputs": [
    {
     "data": {
      "text/plain": [
       "0.22241587623029332"
      ]
     },
     "execution_count": 54,
     "metadata": {},
     "output_type": "execute_result"
    }
   ],
   "source": [
    "#5.Skewness and Kurtosis\n",
    "df['SepalLength'].skew()\n"
   ]
  },
  {
   "cell_type": "code",
   "execution_count": 55,
   "id": "6cb3c3ca-39f3-45c5-be82-cdf5d9f6a113",
   "metadata": {},
   "outputs": [
    {
     "data": {
      "text/plain": [
       "-0.646147413678519"
      ]
     },
     "execution_count": 55,
     "metadata": {},
     "output_type": "execute_result"
    }
   ],
   "source": [
    "df['SepalLength'].kurt()"
   ]
  },
  {
   "cell_type": "code",
   "execution_count": null,
   "id": "c288e8dd-a101-4a8e-a487-cfd56fb83e14",
   "metadata": {},
   "outputs": [],
   "source": [
    "# 6.A gym trainer claimed that all the new boys in the gym are above average weight.\n",
    "# A random sample of thirty boys weight have a mean score of 112.5 kg and the population mean weight is 100 kg and the standard deviation is 15.\n",
    "# Is there a sufficient evidence to support the claim of gym trainer."
   ]
  },
  {
   "cell_type": "code",
   "execution_count": null,
   "id": "ac99ac57-b07b-4bac-b7b6-0f28af73b83e",
   "metadata": {},
   "outputs": [],
   "source": [
    "#Hypothesis testing\n",
    "#H0-all the new boys in the gym are above average weight H>100\n",
    "#H1-all the new boys in the gym are not above average weight H<100\n",
    "#Given Data\n",
    "# Sample mean (𝑥ˉ) = 112.5 kg\n",
    "# Population mean (mue) = 100 kg\n",
    "# Sample size (𝑛) = 30\n",
    "# Standard deviation Sd = 15 kg"
   ]
  },
  {
   "cell_type": "code",
   "execution_count": 57,
   "id": "b036ceb9-b91f-452c-b76e-ce41a1226aca",
   "metadata": {},
   "outputs": [
    {
     "name": "stdout",
     "output_type": "stream",
     "text": [
      "t-statistic: 4.56\n",
      "Critical t-value: 1.70\n",
      "p-value: 0.0000\n",
      "Accept the null hypothesis.\n"
     ]
    }
   ],
   "source": [
    "from scipy.stats import t\n",
    "sample_mean = 112.5\n",
    "population_mean = 100\n",
    "std_dev = 15\n",
    "n = 30\n",
    "alpha = 0.05\n",
    "# Calculate t-statistic\n",
    "t_stat = (sample_mean - population_mean) / (std_dev / (n ** 0.5))\n",
    "\n",
    "# Degrees of freedom\n",
    "df = n - 1\n",
    "\n",
    "# Calculate the p-value (one-tailed test)\n",
    "p_value = 1 - t.cdf(t_stat, df)\n",
    "\n",
    "# Critical t-value for one-tailed test\n",
    "critical_t = t.ppf(1 - alpha, df)\n",
    "\n",
    "# Results\n",
    "print(f\"t-statistic: {t_stat:.2f}\")\n",
    "print(f\"Critical t-value: {critical_t:.2f}\")\n",
    "print(f\"p-value: {p_value:.4f}\")\n",
    "\n",
    "# Decision\n",
    "if t_stat > critical_t:\n",
    "    print(\"Accept the null hypothesis.\")\n",
    "else:\n",
    "    print(\"reject the null hypothesis.\")\n"
   ]
  },
  {
   "cell_type": "code",
   "execution_count": null,
   "id": "7881c2a0-52c4-4598-8db9-35342eb043ff",
   "metadata": {},
   "outputs": [],
   "source": [
    "#7. A company claims that their newly developed die is unbiased. To test this claim, you roll the die 60 times, and the observed frequencies of outcomes are as follows:\n",
    "# Outcome (Face)\n",
    "# 1 2 3 4 5 6\n",
    "# Frequency\n",
    "# 8 10 12 11 9 10\n",
    "# State the null and alternative hypotheses.Calculate the expected frequencies.\n",
    "#Perform a Chi-Square Test for  Goodness of Fit (show all calculations).Conclude if the die is biased at a 5% significance level."
   ]
  },
  {
   "cell_type": "code",
   "execution_count": null,
   "id": "c4537d3d-4ea0-4aeb-a1e8-63afc003306c",
   "metadata": {},
   "outputs": [],
   "source": [
    "from scipy.stats import chi2\n",
    "\n",
    "# Observed and expected frequencies\n",
    "observed = [8, 10, 12, 11, 9, 10]\n",
    "expected = [10, 10, 10, 10, 10, 10]\n",
    "\n",
    "# Calculate Chi-Square statistic\n",
    "chi_square_stat = sum([(o - e) ** 2 / e for o, e in zip(observed, expected)])\n",
    "\n",
    "# Degrees of freedom\n",
    "df = len(observed) - 1\n",
    "\n",
    "# Critical value at 5% significance level\n",
    "critical_value = chi2.ppf(0.95, df)\n",
    "\n",
    "# p-value\n",
    "p_value = 1 - chi2.cdf(chi_square_stat, df)\n",
    "\n",
    "# Print results\n",
    "print(f\"Chi-Square Statistic: {chi_square_stat:.2f}\")\n",
    "print(f\"Critical Value: {critical_value:.2f}\")\n",
    "print(f\"p-value: {p_value:.4f}\")\n",
    "\n",
    "# Decision\n",
    "if chi_square_stat > critical_value:\n",
    "    print(\"Reject the null hypothesis. The die is biased.\")\n",
    "else:\n",
    "    print(\"Fail to reject the null hypothesis. The die is not biased.\")\n"
   ]
  },
  {
   "cell_type": "code",
   "execution_count": null,
   "id": "efc5a784-9217-46ea-a269-5da81d6fa7f7",
   "metadata": {},
   "outputs": [],
   "source": [
    "#8. A researcher wants to know if there is a significant difference in the weight of newborn babies between two hospitals in a city. \n",
    "#The researcher randomly selects 20 newborns from Hospital A and 20 newborns from Hospital B and records their weights in pounds. \n",
    "#The mean weight for the Hospital A group is 7.5, with a standard deviation of 0.8. The mean weight for the Hospital B group is 7.1, \n",
    "#with a standard deviation of 1.2.\n",
    "#Is there a significant difference between the two hospitals?"
   ]
  },
  {
   "cell_type": "code",
   "execution_count": null,
   "id": "ff8716d3-773f-4069-b69a-855dd17d445a",
   "metadata": {},
   "outputs": [],
   "source": [
    "from scipy.stats import t\n",
    "\n",
    "# Given data\n",
    "mean_A, std_A, n_A = 7.5, 0.8, 20\n",
    "mean_B, std_B, n_B = 7.1, 1.2, 20\n",
    "\n",
    "# Calculate the test statistic\n",
    "t_stat = (mean_A - mean_B) / ((std_A**2 / n_A) + (std_B**2 / n_B))**0.5\n",
    "\n",
    "# Degrees of freedom\n",
    "df = ((std_A**2 / n_A) + (std_B**2 / n_B))**2 / (\n",
    "    ((std_A**2 / n_A)**2 / (n_A - 1)) + ((std_B**2 / n_B)**2 / (n_B - 1))\n",
    ")\n",
    "\n",
    "# Significance level (two-tailed)\n",
    "alpha = 0.05\n",
    "\n",
    "# Critical t-value\n",
    "critical_t = t.ppf(1 - alpha / 2, df)\n",
    "\n",
    "# p-value\n",
    "p_value = (1 - t.cdf(abs(t_stat), df)) * 2\n",
    "\n",
    "# Print results\n",
    "print(f\"t-statistic: {t_stat:.2f}\")\n",
    "print(f\"Degrees of Freedom: {df:.2f}\")\n",
    "print(f\"Critical t-value: {critical_t:.2f}\")\n",
    "print(f\"p-value: {p_value:.4f}\")\n",
    "\n",
    "# Decision\n",
    "if abs(t_stat) > critical_t:\n",
    "    print(\"Reject the null hypothesis. There is a significant difference in mean weights.\")\n",
    "else:\n",
    "    print(\"Fail to reject the null hypothesis. There is no significant difference in mean weights.\")\n"
   ]
  },
  {
   "cell_type": "code",
   "execution_count": null,
   "id": "60f012d4-5205-412f-8885-541222f74bb4",
   "metadata": {},
   "outputs": [],
   "source": []
  },
  {
   "cell_type": "code",
   "execution_count": null,
   "id": "516dde22-baa4-4d55-b989-6d6859fea988",
   "metadata": {},
   "outputs": [],
   "source": []
  },
  {
   "cell_type": "code",
   "execution_count": 3,
   "id": "6d01ca39-d26d-48b8-9b6c-2eaadee7a19d",
   "metadata": {},
   "outputs": [
    {
     "ename": "KeyError",
     "evalue": "\"None of [Index(['colours'], dtype='object')] are in the [columns]\"",
     "output_type": "error",
     "traceback": [
      "\u001b[1;31m---------------------------------------------------------------------------\u001b[0m",
      "\u001b[1;31mKeyError\u001b[0m                                  Traceback (most recent call last)",
      "Cell \u001b[1;32mIn[3], line 7\u001b[0m\n\u001b[0;32m      5\u001b[0m data\u001b[38;5;241m=\u001b[39m{\u001b[38;5;124m'\u001b[39m\u001b[38;5;124mcolors\u001b[39m\u001b[38;5;124m'\u001b[39m:[\u001b[38;5;124m'\u001b[39m\u001b[38;5;124mred\u001b[39m\u001b[38;5;124m'\u001b[39m,\u001b[38;5;124m'\u001b[39m\u001b[38;5;124mgreen\u001b[39m\u001b[38;5;124m'\u001b[39m,\u001b[38;5;124m'\u001b[39m\u001b[38;5;124mblue\u001b[39m\u001b[38;5;124m'\u001b[39m,\u001b[38;5;124m'\u001b[39m\u001b[38;5;124mpurple\u001b[39m\u001b[38;5;124m'\u001b[39m]}\n\u001b[0;32m      6\u001b[0m df\u001b[38;5;241m=\u001b[39mpd\u001b[38;5;241m.\u001b[39mDataFrame(data)\n\u001b[1;32m----> 7\u001b[0m one_hot_encoder\u001b[38;5;241m=\u001b[39mpd\u001b[38;5;241m.\u001b[39mget_dummies(df,columns\u001b[38;5;241m=\u001b[39m[\u001b[38;5;124m'\u001b[39m\u001b[38;5;124mcolours\u001b[39m\u001b[38;5;124m'\u001b[39m])\n\u001b[0;32m      9\u001b[0m \u001b[38;5;66;03m# # Define the data\u001b[39;00m\n\u001b[0;32m     10\u001b[0m \u001b[38;5;66;03m# colors = np.array(['Red', 'Green', 'Purple', 'Violet']).reshape(-1, 1)\u001b[39;00m\n\u001b[0;32m     13\u001b[0m encoder \u001b[38;5;241m=\u001b[39m OneHotEncoder()\n",
      "File \u001b[1;32m~\\anaconda3\\Lib\\site-packages\\pandas\\core\\reshape\\encoding.py:169\u001b[0m, in \u001b[0;36mget_dummies\u001b[1;34m(data, prefix, prefix_sep, dummy_na, columns, sparse, drop_first, dtype)\u001b[0m\n\u001b[0;32m    167\u001b[0m     \u001b[38;5;28;01mraise\u001b[39;00m \u001b[38;5;167;01mTypeError\u001b[39;00m(\u001b[38;5;124m\"\u001b[39m\u001b[38;5;124mInput must be a list-like for parameter `columns`\u001b[39m\u001b[38;5;124m\"\u001b[39m)\n\u001b[0;32m    168\u001b[0m \u001b[38;5;28;01melse\u001b[39;00m:\n\u001b[1;32m--> 169\u001b[0m     data_to_encode \u001b[38;5;241m=\u001b[39m data[columns]\n\u001b[0;32m    171\u001b[0m \u001b[38;5;66;03m# validate prefixes and separator to avoid silently dropping cols\u001b[39;00m\n\u001b[0;32m    172\u001b[0m \u001b[38;5;28;01mdef\u001b[39;00m \u001b[38;5;21mcheck_len\u001b[39m(item, name: \u001b[38;5;28mstr\u001b[39m):\n",
      "File \u001b[1;32m~\\anaconda3\\Lib\\site-packages\\pandas\\core\\frame.py:4108\u001b[0m, in \u001b[0;36mDataFrame.__getitem__\u001b[1;34m(self, key)\u001b[0m\n\u001b[0;32m   4106\u001b[0m     \u001b[38;5;28;01mif\u001b[39;00m is_iterator(key):\n\u001b[0;32m   4107\u001b[0m         key \u001b[38;5;241m=\u001b[39m \u001b[38;5;28mlist\u001b[39m(key)\n\u001b[1;32m-> 4108\u001b[0m     indexer \u001b[38;5;241m=\u001b[39m \u001b[38;5;28mself\u001b[39m\u001b[38;5;241m.\u001b[39mcolumns\u001b[38;5;241m.\u001b[39m_get_indexer_strict(key, \u001b[38;5;124m\"\u001b[39m\u001b[38;5;124mcolumns\u001b[39m\u001b[38;5;124m\"\u001b[39m)[\u001b[38;5;241m1\u001b[39m]\n\u001b[0;32m   4110\u001b[0m \u001b[38;5;66;03m# take() does not accept boolean indexers\u001b[39;00m\n\u001b[0;32m   4111\u001b[0m \u001b[38;5;28;01mif\u001b[39;00m \u001b[38;5;28mgetattr\u001b[39m(indexer, \u001b[38;5;124m\"\u001b[39m\u001b[38;5;124mdtype\u001b[39m\u001b[38;5;124m\"\u001b[39m, \u001b[38;5;28;01mNone\u001b[39;00m) \u001b[38;5;241m==\u001b[39m \u001b[38;5;28mbool\u001b[39m:\n",
      "File \u001b[1;32m~\\anaconda3\\Lib\\site-packages\\pandas\\core\\indexes\\base.py:6200\u001b[0m, in \u001b[0;36mIndex._get_indexer_strict\u001b[1;34m(self, key, axis_name)\u001b[0m\n\u001b[0;32m   6197\u001b[0m \u001b[38;5;28;01melse\u001b[39;00m:\n\u001b[0;32m   6198\u001b[0m     keyarr, indexer, new_indexer \u001b[38;5;241m=\u001b[39m \u001b[38;5;28mself\u001b[39m\u001b[38;5;241m.\u001b[39m_reindex_non_unique(keyarr)\n\u001b[1;32m-> 6200\u001b[0m \u001b[38;5;28mself\u001b[39m\u001b[38;5;241m.\u001b[39m_raise_if_missing(keyarr, indexer, axis_name)\n\u001b[0;32m   6202\u001b[0m keyarr \u001b[38;5;241m=\u001b[39m \u001b[38;5;28mself\u001b[39m\u001b[38;5;241m.\u001b[39mtake(indexer)\n\u001b[0;32m   6203\u001b[0m \u001b[38;5;28;01mif\u001b[39;00m \u001b[38;5;28misinstance\u001b[39m(key, Index):\n\u001b[0;32m   6204\u001b[0m     \u001b[38;5;66;03m# GH 42790 - Preserve name from an Index\u001b[39;00m\n",
      "File \u001b[1;32m~\\anaconda3\\Lib\\site-packages\\pandas\\core\\indexes\\base.py:6249\u001b[0m, in \u001b[0;36mIndex._raise_if_missing\u001b[1;34m(self, key, indexer, axis_name)\u001b[0m\n\u001b[0;32m   6247\u001b[0m \u001b[38;5;28;01mif\u001b[39;00m nmissing:\n\u001b[0;32m   6248\u001b[0m     \u001b[38;5;28;01mif\u001b[39;00m nmissing \u001b[38;5;241m==\u001b[39m \u001b[38;5;28mlen\u001b[39m(indexer):\n\u001b[1;32m-> 6249\u001b[0m         \u001b[38;5;28;01mraise\u001b[39;00m \u001b[38;5;167;01mKeyError\u001b[39;00m(\u001b[38;5;124mf\u001b[39m\u001b[38;5;124m\"\u001b[39m\u001b[38;5;124mNone of [\u001b[39m\u001b[38;5;132;01m{\u001b[39;00mkey\u001b[38;5;132;01m}\u001b[39;00m\u001b[38;5;124m] are in the [\u001b[39m\u001b[38;5;132;01m{\u001b[39;00maxis_name\u001b[38;5;132;01m}\u001b[39;00m\u001b[38;5;124m]\u001b[39m\u001b[38;5;124m\"\u001b[39m)\n\u001b[0;32m   6251\u001b[0m     not_found \u001b[38;5;241m=\u001b[39m \u001b[38;5;28mlist\u001b[39m(ensure_index(key)[missing_mask\u001b[38;5;241m.\u001b[39mnonzero()[\u001b[38;5;241m0\u001b[39m]]\u001b[38;5;241m.\u001b[39munique())\n\u001b[0;32m   6252\u001b[0m     \u001b[38;5;28;01mraise\u001b[39;00m \u001b[38;5;167;01mKeyError\u001b[39;00m(\u001b[38;5;124mf\u001b[39m\u001b[38;5;124m\"\u001b[39m\u001b[38;5;132;01m{\u001b[39;00mnot_found\u001b[38;5;132;01m}\u001b[39;00m\u001b[38;5;124m not in index\u001b[39m\u001b[38;5;124m\"\u001b[39m)\n",
      "\u001b[1;31mKeyError\u001b[0m: \"None of [Index(['colours'], dtype='object')] are in the [columns]\""
     ]
    }
   ],
   "source": [
    "from sklearn.preprocessing import OneHotEncoder\n",
    "import numpy as np\n",
    "import pandas as pd\n",
    "\n",
    "data={'colors':['red','green','blue','purple']}\n",
    "df=pd.DataFrame(data)\n",
    "one_hot_encoder=pd.get_dummies(df,columns=['colours'])\n",
    "\n",
    "# # Define the data\n",
    "# colors = np.array(['Red', 'Green', 'Purple', 'Violet']).reshape(-1, 1)\n",
    "\n",
    "\n",
    "encoder = OneHotEncoder()\n",
    "\n",
    "\n",
    "# encoded_colors = encoder.fit_transform(colors).toarray()\n",
    "\n",
    "\n",
    "print(\"Original Colors:\", data)\n",
    "print(\"\\nOne-Hot Encoded Data\", one_hot_encoder)\n"
   ]
  },
  {
   "cell_type": "code",
   "execution_count": 4,
   "id": "50a3a0c8-1fb8-41cd-b14c-099a0a98ac26",
   "metadata": {},
   "outputs": [
    {
     "name": "stdout",
     "output_type": "stream",
     "text": [
      "Original Colors: {'colors': ['red', 'green', 'blue', 'purple']}\n",
      "\n",
      "One-Hot Encoded Data:\n",
      "    colors_blue  colors_green  colors_purple  colors_red\n",
      "0        False         False          False        True\n",
      "1        False          True          False       False\n",
      "2         True         False          False       False\n",
      "3        False         False           True       False\n"
     ]
    }
   ],
   "source": [
    "from sklearn.preprocessing import OneHotEncoder\n",
    "import numpy as np\n",
    "import pandas as pd\n",
    "\n",
    "\n",
    "data = {'colors': ['red', 'green', 'blue', 'purple']}\n",
    "df = pd.DataFrame(data)\n",
    "\n",
    "\n",
    "one_hot_encoder = pd.get_dummies(df, columns=['colors'])\n",
    "\n",
    "\n",
    "print(\"Original Colors:\", data)\n",
    "print(\"\\nOne-Hot Encoded Data:\\n\", one_hot_encoder)\n"
   ]
  },
  {
   "cell_type": "code",
   "execution_count": 5,
   "id": "388de0de-d280-44b1-a374-c5daecf16115",
   "metadata": {},
   "outputs": [
    {
     "name": "stdout",
     "output_type": "stream",
     "text": [
      "Original Data: [10, 100, 1000, 10000]\n",
      "Log Normalized Data: [2.302585092994046, 4.605170185988092, 6.907755278982137, 9.210340371976184]\n"
     ]
    }
   ],
   "source": [
    "#Normalization\n",
    "\n",
    "import numpy as np\n",
    "\n",
    "data = [10, 100, 1000, 10000]\n",
    "\n",
    "def log_normalize(data):\n",
    "    return [np.log(x) for x in data]\n",
    "\n",
    "log_normalized_data = log_normalize(data)\n",
    "\n",
    "print(\"Original Data:\", data)\n",
    "print(\"Log Normalized Data:\", log_normalized_data)\n"
   ]
  },
  {
   "cell_type": "code",
   "execution_count": null,
   "id": "ffd89968-90f6-4f10-b157-5c295393046e",
   "metadata": {},
   "outputs": [],
   "source": []
  },
  {
   "cell_type": "code",
   "execution_count": null,
   "id": "aa425379-fc1d-4d8d-b7a4-5f607166bf9a",
   "metadata": {},
   "outputs": [],
   "source": []
  },
  {
   "cell_type": "markdown",
   "id": "14acbbfd-9ac0-4c55-9198-91d5110edcd7",
   "metadata": {},
   "source": [
    "# modified assignment"
   ]
  },
  {
   "cell_type": "code",
   "execution_count": 2,
   "id": "b863ab22-01cc-421d-9924-741a8fb2209c",
   "metadata": {},
   "outputs": [],
   "source": [
    "import pandas as pd"
   ]
  },
  {
   "cell_type": "code",
   "execution_count": 4,
   "id": "210c6dea-ca78-4ee5-ad9d-c612724a9cc9",
   "metadata": {},
   "outputs": [
    {
     "data": {
      "text/html": [
       "<div>\n",
       "<style scoped>\n",
       "    .dataframe tbody tr th:only-of-type {\n",
       "        vertical-align: middle;\n",
       "    }\n",
       "\n",
       "    .dataframe tbody tr th {\n",
       "        vertical-align: top;\n",
       "    }\n",
       "\n",
       "    .dataframe thead th {\n",
       "        text-align: right;\n",
       "    }\n",
       "</style>\n",
       "<table border=\"1\" class=\"dataframe\">\n",
       "  <thead>\n",
       "    <tr style=\"text-align: right;\">\n",
       "      <th></th>\n",
       "      <th>EmployeeID</th>\n",
       "      <th>PerformanceScore</th>\n",
       "      <th>MonthlySalary</th>\n",
       "      <th>Sales</th>\n",
       "      <th>Age</th>\n",
       "      <th>PurchaseAmount</th>\n",
       "      <th>PageDesign</th>\n",
       "      <th>Conversion</th>\n",
       "    </tr>\n",
       "  </thead>\n",
       "  <tbody>\n",
       "    <tr>\n",
       "      <th>0</th>\n",
       "      <td>1</td>\n",
       "      <td>88</td>\n",
       "      <td>5568</td>\n",
       "      <td>447</td>\n",
       "      <td>21</td>\n",
       "      <td>300</td>\n",
       "      <td>A</td>\n",
       "      <td>0</td>\n",
       "    </tr>\n",
       "    <tr>\n",
       "      <th>1</th>\n",
       "      <td>2</td>\n",
       "      <td>78</td>\n",
       "      <td>4367</td>\n",
       "      <td>330</td>\n",
       "      <td>20</td>\n",
       "      <td>400</td>\n",
       "      <td>A</td>\n",
       "      <td>1</td>\n",
       "    </tr>\n",
       "    <tr>\n",
       "      <th>2</th>\n",
       "      <td>3</td>\n",
       "      <td>64</td>\n",
       "      <td>4152</td>\n",
       "      <td>289</td>\n",
       "      <td>31</td>\n",
       "      <td>100</td>\n",
       "      <td>B</td>\n",
       "      <td>1</td>\n",
       "    </tr>\n",
       "    <tr>\n",
       "      <th>3</th>\n",
       "      <td>4</td>\n",
       "      <td>92</td>\n",
       "      <td>5027</td>\n",
       "      <td>324</td>\n",
       "      <td>24</td>\n",
       "      <td>100</td>\n",
       "      <td>A</td>\n",
       "      <td>1</td>\n",
       "    </tr>\n",
       "    <tr>\n",
       "      <th>4</th>\n",
       "      <td>5</td>\n",
       "      <td>57</td>\n",
       "      <td>5695</td>\n",
       "      <td>484</td>\n",
       "      <td>56</td>\n",
       "      <td>400</td>\n",
       "      <td>A</td>\n",
       "      <td>0</td>\n",
       "    </tr>\n",
       "    <tr>\n",
       "      <th>5</th>\n",
       "      <td>6</td>\n",
       "      <td>81</td>\n",
       "      <td>3502</td>\n",
       "      <td>212</td>\n",
       "      <td>34</td>\n",
       "      <td>200</td>\n",
       "      <td>B</td>\n",
       "      <td>0</td>\n",
       "    </tr>\n",
       "    <tr>\n",
       "      <th>6</th>\n",
       "      <td>7</td>\n",
       "      <td>70</td>\n",
       "      <td>6154</td>\n",
       "      <td>412</td>\n",
       "      <td>41</td>\n",
       "      <td>600</td>\n",
       "      <td>A</td>\n",
       "      <td>1</td>\n",
       "    </tr>\n",
       "    <tr>\n",
       "      <th>7</th>\n",
       "      <td>8</td>\n",
       "      <td>85</td>\n",
       "      <td>4893</td>\n",
       "      <td>345</td>\n",
       "      <td>29</td>\n",
       "      <td>500</td>\n",
       "      <td>B</td>\n",
       "      <td>0</td>\n",
       "    </tr>\n",
       "    <tr>\n",
       "      <th>8</th>\n",
       "      <td>9</td>\n",
       "      <td>77</td>\n",
       "      <td>5346</td>\n",
       "      <td>398</td>\n",
       "      <td>37</td>\n",
       "      <td>300</td>\n",
       "      <td>A</td>\n",
       "      <td>1</td>\n",
       "    </tr>\n",
       "    <tr>\n",
       "      <th>9</th>\n",
       "      <td>10</td>\n",
       "      <td>90</td>\n",
       "      <td>4723</td>\n",
       "      <td>425</td>\n",
       "      <td>26</td>\n",
       "      <td>400</td>\n",
       "      <td>B</td>\n",
       "      <td>0</td>\n",
       "    </tr>\n",
       "  </tbody>\n",
       "</table>\n",
       "</div>"
      ],
      "text/plain": [
       "   EmployeeID  PerformanceScore  MonthlySalary  Sales  Age  PurchaseAmount  \\\n",
       "0           1                88           5568    447   21             300   \n",
       "1           2                78           4367    330   20             400   \n",
       "2           3                64           4152    289   31             100   \n",
       "3           4                92           5027    324   24             100   \n",
       "4           5                57           5695    484   56             400   \n",
       "5           6                81           3502    212   34             200   \n",
       "6           7                70           6154    412   41             600   \n",
       "7           8                85           4893    345   29             500   \n",
       "8           9                77           5346    398   37             300   \n",
       "9          10                90           4723    425   26             400   \n",
       "\n",
       "  PageDesign  Conversion  \n",
       "0          A           0  \n",
       "1          A           1  \n",
       "2          B           1  \n",
       "3          A           1  \n",
       "4          A           0  \n",
       "5          B           0  \n",
       "6          A           1  \n",
       "7          B           0  \n",
       "8          A           1  \n",
       "9          B           0  "
      ]
     },
     "execution_count": 4,
     "metadata": {},
     "output_type": "execute_result"
    }
   ],
   "source": [
    "data = {\n",
    "    \"EmployeeID\": [1, 2, 3, 4, 5, 6, 7, 8, 9, 10],\n",
    "    \"PerformanceScore\": [88, 78, 64, 92, 57, 81, 70, 85, 77, 90],\n",
    "    \"MonthlySalary\": [5568, 4367, 4152, 5027, 5695, 3502, 6154, 4893, 5346, 4723],\n",
    "    \"Sales\": [447, 330, 289, 324, 484, 212, 412, 345, 398, 425],\n",
    "    \"Age\": [21, 20, 31, 24, 56, 34, 41, 29, 37, 26],\n",
    "    \"PurchaseAmount\": [300, 400, 100, 100, 400, 200, 600, 500, 300, 400],\n",
    "    \"PageDesign\": [\"A\", \"A\", \"B\", \"A\", \"A\", \"B\", \"A\", \"B\", \"A\", \"B\"],\n",
    "    \"Conversion\": [0, 1, 1, 1, 0, 0, 1, 0, 1, 0],\n",
    "}\n",
    "df=pd.DataFrame(data)\n",
    "df"
   ]
  },
  {
   "cell_type": "code",
   "execution_count": 9,
   "id": "6a322b3e-3263-4d84-9432-eaf761b8b229",
   "metadata": {},
   "outputs": [
    {
     "data": {
      "text/plain": [
       "PerformanceScore      78.2\n",
       "MonthlySalary       4942.7\n",
       "Sales                366.6\n",
       "dtype: float64"
      ]
     },
     "execution_count": 9,
     "metadata": {},
     "output_type": "execute_result"
    }
   ],
   "source": [
    "#Q1:Calculate the mean, median, and mode for at least three numerical columns\n",
    "columns = [\"PerformanceScore\", \"MonthlySalary\", \"Sales\"]\n",
    "mean_values = df[columns].mean()\n",
    "mean_values"
   ]
  },
  {
   "cell_type": "code",
   "execution_count": 10,
   "id": "7bd47c30-d42f-4bb0-bd0b-5323814ee35e",
   "metadata": {},
   "outputs": [
    {
     "data": {
      "text/plain": [
       "PerformanceScore      79.5\n",
       "MonthlySalary       4960.0\n",
       "Sales                371.5\n",
       "dtype: float64"
      ]
     },
     "execution_count": 10,
     "metadata": {},
     "output_type": "execute_result"
    }
   ],
   "source": [
    "median_values = df[columns].median()\n",
    "median_values"
   ]
  },
  {
   "cell_type": "code",
   "execution_count": 11,
   "id": "c0f52678-23a6-4185-9f38-c8d650ef0c7e",
   "metadata": {},
   "outputs": [
    {
     "data": {
      "text/plain": [
       "PerformanceScore      57\n",
       "MonthlySalary       3502\n",
       "Sales                212\n",
       "Name: 0, dtype: int64"
      ]
     },
     "execution_count": 11,
     "metadata": {},
     "output_type": "execute_result"
    }
   ],
   "source": [
    "mode_values = df[columns].mode().iloc[0]  # Take the first mode if multiple exist\n",
    "mode_values"
   ]
  },
  {
   "cell_type": "code",
   "execution_count": 15,
   "id": "8ec7ef1b-2a01-417b-ab37-4890ec1b0f35",
   "metadata": {},
   "outputs": [
    {
     "data": {
      "text/plain": [
       "(PerformanceScore      35\n",
       " MonthlySalary       2652\n",
       " Sales                272\n",
       " dtype: int64,\n",
       " PerformanceScore       133.288889\n",
       " MonthlySalary       630772.455556\n",
       " Sales                 6694.266667\n",
       " dtype: float64,\n",
       " PerformanceScore     11.545081\n",
       " MonthlySalary       794.211846\n",
       " Sales                81.818498\n",
       " dtype: float64)"
      ]
     },
     "execution_count": 15,
     "metadata": {},
     "output_type": "execute_result"
    }
   ],
   "source": [
    "#2. Calculate range, variance, and standard deviation for selected columns\n",
    "range_values = df[columns].max() - df[columns].min()\n",
    "\n",
    "variance_values = df[columns].var()\n",
    "\n",
    "std_dev_values = df[columns].std()\n",
    "\n",
    "range_values, variance_values,std_dev_values"
   ]
  },
  {
   "cell_type": "code",
   "execution_count": 18,
   "id": "b79025e3-d98a-4322-a970-4d95d2af6f01",
   "metadata": {},
   "outputs": [
    {
     "data": {
      "image/png": "[encoded data removed]",
      "text/plain": [
       "<Figure size 400x300 with 1 Axes>"
      ]
     },
     "metadata": {},
     "output_type": "display_data"
    },
    {
     "data": {
      "text/plain": [
       "(1056.5,\n",
       " 2871.25,\n",
       " 7097.25,\n",
       " Empty DataFrame\n",
       " Columns: [EmployeeID, PerformanceScore, MonthlySalary, Sales, Age, PurchaseAmount, PageDesign, Conversion]\n",
       " Index: [])"
      ]
     },
     "execution_count": 18,
     "metadata": {},
     "output_type": "execute_result"
    }
   ],
   "source": [
    "#Q3.Q3:Identify outliers in a chosen column using:\n",
    "import matplotlib.pyplot as plt\n",
    "\n",
    "# MonthlySalary analysis\n",
    "q1 = df[\"MonthlySalary\"].quantile(0.25)\n",
    "q3 = df[\"MonthlySalary\"].quantile(0.75)\n",
    "iqr = q3 - q1\n",
    "\n",
    "# Outlier bounds\n",
    "lower_bound = q1 - 1.5 * iqr\n",
    "upper_bound = q3 + 1.5 * iqr\n",
    "\n",
    "# Identify outliers\n",
    "outliers = df[(df[\"MonthlySalary\"] < lower_bound) | (df[\"MonthlySalary\"] > upper_bound)]\n",
    "\n",
    "# Visualize with a boxplot\n",
    "plt.figure(figsize=(4, 3))\n",
    "plt.boxplot(df[\"MonthlySalary\"], vert=False, patch_artist=True, boxprops=dict(facecolor='skyblue'))\n",
    "plt.title(\"Boxplot of Monthly Salary\")\n",
    "plt.xlabel(\"Monthly Salary\")\n",
    "plt.show()\n",
    "\n",
    "# Display IQR, bounds, and outliers\n",
    "iqr, lower_bound, upper_bound, outliers\n"
   ]
  },
  {
   "cell_type": "code",
   "execution_count": 19,
   "id": "d290e953-9fc5-4c96-ba21-3653f987e36e",
   "metadata": {},
   "outputs": [
    {
     "data": {
      "text/plain": [
       "(-0.32506286141433144, -0.24503714758763007)"
      ]
     },
     "execution_count": 19,
     "metadata": {},
     "output_type": "execute_result"
    }
   ],
   "source": [
    "#Q4:Calculate Skewness and Kurtosis for one numerical column.\n",
    "from scipy.stats import kurtosis, skew\n",
    "\n",
    "# Calculate skewness and kurtosis for MonthlySalary\n",
    "skewness = df[\"MonthlySalary\"].skew()\n",
    "kurt = df[\"MonthlySalary\"].kurtosis()\n",
    "\n",
    "skewness, kurt\n"
   ]
  },
  {
   "cell_type": "code",
   "execution_count": 21,
   "id": "566abfad-8825-40e2-89d8-b002bf273826",
   "metadata": {},
   "outputs": [
    {
     "data": {
      "text/plain": [
       "(2.1908902300206643, 2.045229642132703, True)"
      ]
     },
     "execution_count": 21,
     "metadata": {},
     "output_type": "execute_result"
    }
   ],
   "source": [
    "#Q5:\n",
    "from scipy.stats import t\n",
    "\n",
    "# Given data\n",
    "sample_mean = 52000\n",
    "population_mean = 50000\n",
    "std_dev = 5000\n",
    "sample_size = 30\n",
    "alpha = 0.05\n",
    "\n",
    "# Calculate t-statistic\n",
    "t_statistic = (sample_mean - population_mean) / (std_dev / (sample_size**0.5))\n",
    "\n",
    "# Calculate critical t-value for two-tailed test\n",
    "t_critical = t.ppf(1 - alpha / 2, df=sample_size - 1)\n",
    "\n",
    "# Determine whether to reject the null hypothesis\n",
    "reject_null = abs(t_statistic) > t_critical\n",
    "\n",
    "t_statistic, t_critical, reject_null\n"
   ]
  },
  {
   "cell_type": "code",
   "execution_count": null,
   "id": "c3d2a761-d33d-420e-bb3a-a5bcce110786",
   "metadata": {},
   "outputs": [],
   "source": []
  },
  {
   "cell_type": "code",
   "execution_count": null,
   "id": "71f889f3-3f06-44a0-a652-12194ea3869c",
   "metadata": {},
   "outputs": [],
   "source": []
  },
  {
   "cell_type": "code",
   "execution_count": null,
   "id": "eebd48cb-f77c-44af-b06d-74e752728f13",
   "metadata": {},
   "outputs": [],
   "source": []
  },
  {
   "cell_type": "code",
   "execution_count": null,
   "id": "84d10486-071b-4625-9235-08708d0a2fe5",
   "metadata": {},
   "outputs": [],
   "source": []
  },
  {
   "cell_type": "code",
   "execution_count": null,
   "id": "0753b7f3-b94e-4b64-ab06-5af048036d4d",
   "metadata": {},
   "outputs": [],
   "source": []
  },
  {
   "cell_type": "code",
   "execution_count": null,
   "id": "0d0cbc29-aad5-4a4e-a4eb-29184fd9c6c7",
   "metadata": {},
   "outputs": [],
   "source": []
  },
  {
   "cell_type": "code",
   "execution_count": null,
   "id": "6c8d5796-6258-4465-9c58-c4c49fe712f2",
   "metadata": {},
   "outputs": [],
   "source": []
  },
  {
   "cell_type": "code",
   "execution_count": null,
   "id": "c15dd196-caaf-4c63-8528-1547892045f9",
   "metadata": {},
   "outputs": [],
   "source": []
  },
  {
   "cell_type": "code",
   "execution_count": null,
   "id": "9e70d771-ccc6-4c51-bd4d-8643de890336",
   "metadata": {},
   "outputs": [],
   "source": []
  },
  {
   "cell_type": "code",
   "execution_count": null,
   "id": "3563fa45-b680-47a0-a4b2-3f8f15fbccee",
   "metadata": {},
   "outputs": [],
   "source": []
  },
  {
   "cell_type": "code",
   "execution_count": null,
   "id": "24109a33-ec1b-48e6-86ba-c3e800337b9f",
   "metadata": {},
   "outputs": [],
   "source": []
  },
  {
   "cell_type": "code",
   "execution_count": null,
   "id": "0b23aed1-fe37-4df6-93b5-6009de4fc290",
   "metadata": {},
   "outputs": [],
   "source": []
  },
  {
   "cell_type": "code",
   "execution_count": null,
   "id": "a8a6b20f-b56b-47f8-a3bb-52849c91dfa7",
   "metadata": {},
   "outputs": [],
   "source": []
  }
 ],
 "metadata": {
  "kernelspec": {
   "display_name": "Python 3 (ipykernel)",
   "language": "python",
   "name": "python3"
  },
  "language_info": {
   "codemirror_mode": {
    "name": "ipython",
    "version": 3
   },
   "file_extension": ".py",
   "mimetype": "text/x-python",
   "name": "python",
   "nbconvert_exporter": "python",
   "pygments_lexer": "ipython3",
   "version": "3.12.4"
  }
 },
 "nbformat": 4,
 "nbformat_minor": 5
}
