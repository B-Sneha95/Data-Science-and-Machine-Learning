{
 "cells": [
  {
   "cell_type": "markdown",
   "id": "80f70ecf-5aea-4b2c-8037-e3c41798181e",
   "metadata": {},
   "source": [
    "# Pandas"
   ]
  },
  {
   "cell_type": "code",
   "execution_count": null,
   "id": "1346c15c-b42e-40e3-a3f8-927b18599a84",
   "metadata": {},
   "outputs": [],
   "source": [
    "#Pandas is a Python library used for data analysis and data manipulation "
   ]
  },
  {
   "cell_type": "code",
   "execution_count": 5,
   "id": "bfd91a63-20d5-452c-b69c-9a515d517290",
   "metadata": {},
   "outputs": [
    {
     "name": "stdout",
     "output_type": "stream",
     "text": [
      "{'Name': ['Sneha', 'Saranya', 'Sailu', 'Neha'], 'Age': [20, 30, 40, 50]}\n"
     ]
    }
   ],
   "source": [
    "\n",
    "data={\"Name\":['Sneha','Saranya','Sailu','Neha'],\"Age\":[20,30,40,50]}\n",
    "print(data)\n",
    "\n"
   ]
  },
  {
   "cell_type": "code",
   "execution_count": 5,
   "id": "9db041bb-d4fb-486b-a916-beb14ba56de1",
   "metadata": {},
   "outputs": [],
   "source": [
    "import pandas as pd"
   ]
  },
  {
   "cell_type": "markdown",
   "id": "b1c623d5-1ebc-41f8-a812-233a20b78424",
   "metadata": {},
   "source": [
    "# Creating series"
   ]
  },
  {
   "cell_type": "code",
   "execution_count": 80,
   "id": "2bc663f0-efed-47f6-9d7f-9ce33d77af0a",
   "metadata": {},
   "outputs": [
    {
     "name": "stdout",
     "output_type": "stream",
     "text": [
      "A    100\n",
      "B    200\n",
      "C    300\n",
      "dtype: object\n"
     ]
    }
   ],
   "source": [
    "data={'A':100,'B':200,'C':'300'}\n",
    "series=pd.Series(data)\n",
    "print(series)\n"
   ]
  },
  {
   "cell_type": "code",
   "execution_count": 3,
   "id": "f9f36ab3-e2a8-452b-b141-65bc7b4f82d7",
   "metadata": {},
   "outputs": [
    {
     "name": "stdout",
     "output_type": "stream",
     "text": [
      "sneha       6\n",
      "banu        6\n",
      "sonu        6\n",
      "Samvidh     6\n",
      "Abhilash    6\n",
      "janu        6\n",
      "dtype: int64\n"
     ]
    }
   ],
   "source": [
    "#Saclar\n",
    "series=pd.Series(6,index=['sneha','banu','sonu','Samvidh','Abhilash','janu'])\n",
    "print(series)"
   ]
  },
  {
   "cell_type": "markdown",
   "id": "6574db8b-1a00-4096-9c78-c21798786264",
   "metadata": {},
   "source": [
    "# Slicing and Indexing"
   ]
  },
  {
   "cell_type": "code",
   "execution_count": null,
   "id": "e595f07c-139f-41c7-a067-d6927bb210f4",
   "metadata": {},
   "outputs": [],
   "source": [
    "#Indexing means accessing the elements using their index\n",
    "#Slicing allows you to get a subset of series"
   ]
  },
  {
   "cell_type": "code",
   "execution_count": 10,
   "id": "ddc8f708-437d-4a3f-a70d-79340e2b393d",
   "metadata": {},
   "outputs": [
    {
     "name": "stdout",
     "output_type": "stream",
     "text": [
      "11\n",
      "a    11\n",
      "b    22\n",
      "c    33\n",
      "dtype: int64\n"
     ]
    }
   ],
   "source": [
    "series=pd.Series([11,22,33],index=['a','b','c'])\n",
    "print(series['a'])\n",
    "print(series['a':'c'])"
   ]
  },
  {
   "cell_type": "code",
   "execution_count": 34,
   "id": "e4022497-8bec-486f-a594-6cb0acfd1225",
   "metadata": {},
   "outputs": [
    {
     "name": "stdout",
     "output_type": "stream",
     "text": [
      "{'Name': 'Sneha', 'City': 'Nellore', 'Gender': 'Female'}\n",
      "    Name     City  Gender\n",
      "0  Sneha  Nellore  Female\n"
     ]
    }
   ],
   "source": [
    "import pandas as pd\n",
    "data = {'Name': 'Sneha', 'City': 'Nellore', 'Gender': 'Female'}\n",
    "print(data)\n",
    "S=pd.DataFrame([data])\n",
    "print(S)"
   ]
  },
  {
   "cell_type": "code",
   "execution_count": 33,
   "id": "a195ae1c-98db-475c-b500-27ddf921bcf5",
   "metadata": {},
   "outputs": [
    {
     "name": "stdout",
     "output_type": "stream",
     "text": [
      "{'Name': ['Sneha', 'Giri', 'Janu'], 'city': ['Nellore', 'Anantapur', 'Vijayawada'], 'Gender': ['female', 'male', 'female']}\n",
      "    Name        city  Gender\n",
      "0  Sneha     Nellore  female\n",
      "1   Giri   Anantapur    male\n",
      "2   Janu  Vijayawada  female\n"
     ]
    },
    {
     "data": {
      "text/plain": [
       "NULL   NaN\n",
       "dtype: float64"
      ]
     },
     "execution_count": 33,
     "metadata": {},
     "output_type": "execute_result"
    }
   ],
   "source": [
    "import pandas as pd\n",
    "data={'Name':['Sneha','Giri','Janu'],'city':['Nellore','Anantapur','Vijayawada'],'Gender':['female','male','female']}\n",
    "print(data)\n",
    "S=pd.DataFrame(data)\n",
    "print(S)\n",
    "P=pd.Series(index=['NULL'])\n",
    "P"
   ]
  },
  {
   "cell_type": "code",
   "execution_count": 22,
   "id": "9f744bb5-4d0c-49ba-8a58-027ed62ff13b",
   "metadata": {},
   "outputs": [
    {
     "name": "stdout",
     "output_type": "stream",
     "text": [
      "Giri\n"
     ]
    }
   ],
   "source": [
    "D=pd.Series(data)\n",
    "print(D['Name'][1])"
   ]
  },
  {
   "cell_type": "code",
   "execution_count": 43,
   "id": "3af9b8b9-8cce-4f98-a938-8d4d009699e8",
   "metadata": {},
   "outputs": [
    {
     "name": "stdout",
     "output_type": "stream",
     "text": [
      "a    11\n",
      "b    22\n",
      "c    33\n",
      "dtype: int64\n",
      "b    22\n",
      "c    33\n",
      "dtype: int64\n"
     ]
    }
   ],
   "source": [
    "#Booleanindexing\n",
    "import pandas as pd\n",
    "series=pd.Series([11,22,33],index=['a','b','c'])\n",
    "print(series)\n",
    "print(series[series>11])\n"
   ]
  },
  {
   "cell_type": "markdown",
   "id": "5b28068d-9946-4c8a-8197-ac3af8d520fd",
   "metadata": {},
   "source": [
    "# LOC & ILOC"
   ]
  },
  {
   "cell_type": "code",
   "execution_count": null,
   "id": "1629f9d4-ffd1-4f19-bfff-32add4e1642f",
   "metadata": {},
   "outputs": [],
   "source": [
    "#loc is label based\n",
    "#Iloc is integer based"
   ]
  },
  {
   "cell_type": "code",
   "execution_count": 48,
   "id": "6cefb37c-f00d-470e-bb90-f13a2e5c068e",
   "metadata": {},
   "outputs": [
    {
     "name": "stdout",
     "output_type": "stream",
     "text": [
      "22\n",
      "33\n",
      "11\n"
     ]
    }
   ],
   "source": [
    "#loc\n",
    "series=pd.Series([11,22,33],index=['a','b','c'])\n",
    "print(series.loc['b'])\n",
    "print(series.loc['c'])\n",
    "print(series.loc['a'])\n"
   ]
  },
  {
   "cell_type": "code",
   "execution_count": 59,
   "id": "1ca60865-6bea-4b18-916f-8a0911f3c047",
   "metadata": {},
   "outputs": [
    {
     "name": "stdout",
     "output_type": "stream",
     "text": [
      "11\n",
      "22\n",
      "33\n"
     ]
    }
   ],
   "source": [
    "print(series.iloc[0])\n",
    "print(series.iloc[1])\n",
    "print(series.iloc[2])"
   ]
  },
  {
   "cell_type": "code",
   "execution_count": 50,
   "id": "b0d5ad39-a68c-48d3-b8e0-efdfaf8ea8b9",
   "metadata": {},
   "outputs": [
    {
     "name": "stdout",
     "output_type": "stream",
     "text": [
      "0    100\n",
      "1    200\n",
      "2    300\n",
      "3    400\n",
      "4    600\n",
      "5    600\n",
      "6    800\n",
      "dtype: int64\n"
     ]
    }
   ],
   "source": [
    "K=pd.Series([100,200,300,400,600,600,800])\n",
    "print(K)"
   ]
  },
  {
   "cell_type": "code",
   "execution_count": 62,
   "id": "14b8daf4-9b87-4931-bc2d-ea9bbdc513e3",
   "metadata": {},
   "outputs": [
    {
     "data": {
      "text/plain": [
       "1700"
      ]
     },
     "execution_count": 62,
     "metadata": {},
     "output_type": "execute_result"
    }
   ],
   "source": [
    "K.iloc[5]\n",
    "K.iloc[5]+K.iloc[2]+K.iloc[6]"
   ]
  },
  {
   "cell_type": "code",
   "execution_count": 63,
   "id": "6cf7eb89-973a-43c0-a78b-a2d41ac5e5b1",
   "metadata": {},
   "outputs": [
    {
     "data": {
      "text/plain": [
       "800"
      ]
     },
     "execution_count": 63,
     "metadata": {},
     "output_type": "execute_result"
    }
   ],
   "source": [
    "K.iloc[-1]"
   ]
  },
  {
   "cell_type": "markdown",
   "id": "a3065baf-28bd-4916-8a3e-6b44325aadd8",
   "metadata": {},
   "source": [
    "# Manipulating Series\n"
   ]
  },
  {
   "cell_type": "code",
   "execution_count": 64,
   "id": "c0cd09db-f2c3-46b1-aa73-98f89dfea7bd",
   "metadata": {},
   "outputs": [
    {
     "name": "stdout",
     "output_type": "stream",
     "text": [
      "a    11\n",
      "b    22\n",
      "c    33\n",
      "d    66\n",
      "dtype: int64\n"
     ]
    }
   ],
   "source": [
    "#adding value to series\n",
    "series['d']=66\n",
    "print(series)"
   ]
  },
  {
   "cell_type": "code",
   "execution_count": 65,
   "id": "65b79bf6-be80-4360-a95f-149cf8b9b379",
   "metadata": {},
   "outputs": [
    {
     "data": {
      "text/plain": [
       "a    99\n",
       "b    22\n",
       "c    33\n",
       "d    66\n",
       "dtype: int64"
      ]
     },
     "execution_count": 65,
     "metadata": {},
     "output_type": "execute_result"
    }
   ],
   "source": [
    "#udate value in series\n",
    "series['a']=99\n",
    "series"
   ]
  },
  {
   "cell_type": "code",
   "execution_count": 69,
   "id": "2e75e9b2-8f8d-4eb0-bf3b-32fbd1c70d91",
   "metadata": {},
   "outputs": [
    {
     "name": "stdout",
     "output_type": "stream",
     "text": [
      "a    99\n",
      "c    33\n",
      "d    66\n",
      "dtype: int64\n"
     ]
    }
   ],
   "source": [
    "#delete value in series\n",
    "series=series.drop('b')\n",
    "print(series)"
   ]
  },
  {
   "cell_type": "markdown",
   "id": "5dd8fdec-68e0-47a2-ad46-9bb9bc8e4b23",
   "metadata": {},
   "source": [
    "# Data Frame"
   ]
  },
  {
   "cell_type": "code",
   "execution_count": null,
   "id": "d779a17b-add8-4ef9-a998-eccf83860d87",
   "metadata": {},
   "outputs": [],
   "source": [
    "#Data frame is like a table with rows and coloumns\n",
    "#used for data manipulation"
   ]
  },
  {
   "cell_type": "markdown",
   "id": "53950450-146e-46eb-a7ef-4928d333691c",
   "metadata": {},
   "source": [
    "# Creating data frame in many ways\n"
   ]
  },
  {
   "cell_type": "code",
   "execution_count": 76,
   "id": "15043268-b2da-4a32-9710-ce9b2625fc5b",
   "metadata": {},
   "outputs": [
    {
     "name": "stdout",
     "output_type": "stream",
     "text": [
      "       Name        City\n",
      "0     Sneha   Hyderabad\n",
      "1    Rakshi  Vijayawada\n",
      "2  Harshini    Warangal\n"
     ]
    }
   ],
   "source": [
    "#USING DICTIONARY\n",
    "import pandas as pd\n",
    "V={\n",
    "    'Name':['Sneha','Rakshi','Harshini'],\n",
    "    'City':['Hyderabad','Vijayawada','Warangal']\n",
    "}\n",
    "df=pd.DataFrame(V)\n",
    "print(df)"
   ]
  },
  {
   "cell_type": "code",
   "execution_count": 78,
   "id": "b792f199-6423-4e44-8c35-964469e8c5f6",
   "metadata": {},
   "outputs": [
    {
     "name": "stdout",
     "output_type": "stream",
     "text": [
      "      0   1          2\n",
      "0  Raja  30        HYD\n",
      "1  Rani  50   Banglore\n",
      "2  Sita  32  Tadepalli\n",
      "3   Ram  25     Rajolu\n"
     ]
    }
   ],
   "source": [
    "#From a list of lists\n",
    "data=[['Raja',30,'HYD'],['Rani',50,'Banglore'],['Sita',32,'Tadepalli'],['Ram',25,'Rajolu']]\n",
    "df=pd.DataFrame(data)\n",
    "print(df)"
   ]
  },
  {
   "cell_type": "code",
   "execution_count": 83,
   "id": "9a21d0b1-ecc0-4f06-845e-9c26a213e8f2",
   "metadata": {},
   "outputs": [
    {
     "data": {
      "text/html": [
       "<div>\n",
       "<style scoped>\n",
       "    .dataframe tbody tr th:only-of-type {\n",
       "        vertical-align: middle;\n",
       "    }\n",
       "\n",
       "    .dataframe tbody tr th {\n",
       "        vertical-align: top;\n",
       "    }\n",
       "\n",
       "    .dataframe thead th {\n",
       "        text-align: right;\n",
       "    }\n",
       "</style>\n",
       "<table border=\"1\" class=\"dataframe\">\n",
       "  <thead>\n",
       "    <tr style=\"text-align: right;\">\n",
       "      <th></th>\n",
       "      <th>Name</th>\n",
       "      <th>Age</th>\n",
       "      <th>city</th>\n",
       "    </tr>\n",
       "  </thead>\n",
       "  <tbody>\n",
       "    <tr>\n",
       "      <th>0</th>\n",
       "      <td>Raja</td>\n",
       "      <td>30</td>\n",
       "      <td>Hyderabad</td>\n",
       "    </tr>\n",
       "    <tr>\n",
       "      <th>1</th>\n",
       "      <td>Rani</td>\n",
       "      <td>50</td>\n",
       "      <td>Banglore</td>\n",
       "    </tr>\n",
       "    <tr>\n",
       "      <th>2</th>\n",
       "      <td>Sita</td>\n",
       "      <td>32</td>\n",
       "      <td>Tadepalli</td>\n",
       "    </tr>\n",
       "    <tr>\n",
       "      <th>3</th>\n",
       "      <td>Ram</td>\n",
       "      <td>25</td>\n",
       "      <td>Rajolu</td>\n",
       "    </tr>\n",
       "  </tbody>\n",
       "</table>\n",
       "</div>"
      ],
      "text/plain": [
       "   Name  Age       city\n",
       "0  Raja   30  Hyderabad\n",
       "1  Rani   50   Banglore\n",
       "2  Sita   32  Tadepalli\n",
       "3   Ram   25     Rajolu"
      ]
     },
     "execution_count": 83,
     "metadata": {},
     "output_type": "execute_result"
    }
   ],
   "source": [
    "data=[['Raja',30,'Hyderabad'],['Rani',50,'Banglore'],['Sita',32,'Tadepalli'],['Ram',25,'Rajolu']]\n",
    "df=pd.DataFrame(data,columns=['Name','Age','city'])\n",
    "df"
   ]
  },
  {
   "cell_type": "markdown",
   "id": "220b6779-c1c0-458a-93d9-9dc137f3bedc",
   "metadata": {},
   "source": [
    "# Slicing and Indexing a data frame"
   ]
  },
  {
   "cell_type": "code",
   "execution_count": 81,
   "id": "0ff92385-3a0c-49c5-ace6-cf1ce5dfc776",
   "metadata": {},
   "outputs": [
    {
     "data": {
      "text/html": [
       "<div>\n",
       "<style scoped>\n",
       "    .dataframe tbody tr th:only-of-type {\n",
       "        vertical-align: middle;\n",
       "    }\n",
       "\n",
       "    .dataframe tbody tr th {\n",
       "        vertical-align: top;\n",
       "    }\n",
       "\n",
       "    .dataframe thead th {\n",
       "        text-align: right;\n",
       "    }\n",
       "</style>\n",
       "<table border=\"1\" class=\"dataframe\">\n",
       "  <thead>\n",
       "    <tr style=\"text-align: right;\">\n",
       "      <th></th>\n",
       "      <th>Name</th>\n",
       "      <th>Age</th>\n",
       "      <th>city</th>\n",
       "    </tr>\n",
       "  </thead>\n",
       "  <tbody>\n",
       "    <tr>\n",
       "      <th>0</th>\n",
       "      <td>Raja</td>\n",
       "      <td>30</td>\n",
       "      <td>HYD</td>\n",
       "    </tr>\n",
       "    <tr>\n",
       "      <th>1</th>\n",
       "      <td>Rani</td>\n",
       "      <td>50</td>\n",
       "      <td>Banglore</td>\n",
       "    </tr>\n",
       "    <tr>\n",
       "      <th>2</th>\n",
       "      <td>Sita</td>\n",
       "      <td>32</td>\n",
       "      <td>Tadepalli</td>\n",
       "    </tr>\n",
       "    <tr>\n",
       "      <th>3</th>\n",
       "      <td>Ram</td>\n",
       "      <td>25</td>\n",
       "      <td>Rajolu</td>\n",
       "    </tr>\n",
       "  </tbody>\n",
       "</table>\n",
       "</div>"
      ],
      "text/plain": [
       "   Name  Age       city\n",
       "0  Raja   30        HYD\n",
       "1  Rani   50   Banglore\n",
       "2  Sita   32  Tadepalli\n",
       "3   Ram   25     Rajolu"
      ]
     },
     "execution_count": 81,
     "metadata": {},
     "output_type": "execute_result"
    }
   ],
   "source": [
    "\n",
    "df"
   ]
  },
  {
   "cell_type": "code",
   "execution_count": 82,
   "id": "4ad69bfd-a4aa-4d57-81b3-60218c93f9f8",
   "metadata": {},
   "outputs": [
    {
     "data": {
      "text/plain": [
       "0          HYD\n",
       "1     Banglore\n",
       "2    Tadepalli\n",
       "3       Rajolu\n",
       "Name: city, dtype: object"
      ]
     },
     "execution_count": 82,
     "metadata": {},
     "output_type": "execute_result"
    }
   ],
   "source": [
    "df['city']"
   ]
  },
  {
   "cell_type": "code",
   "execution_count": 90,
   "id": "8be43455-95d6-43f0-89dc-b6cc91b23e33",
   "metadata": {},
   "outputs": [
    {
     "data": {
      "text/html": [
       "<div>\n",
       "<style scoped>\n",
       "    .dataframe tbody tr th:only-of-type {\n",
       "        vertical-align: middle;\n",
       "    }\n",
       "\n",
       "    .dataframe tbody tr th {\n",
       "        vertical-align: top;\n",
       "    }\n",
       "\n",
       "    .dataframe thead th {\n",
       "        text-align: right;\n",
       "    }\n",
       "</style>\n",
       "<table border=\"1\" class=\"dataframe\">\n",
       "  <thead>\n",
       "    <tr style=\"text-align: right;\">\n",
       "      <th></th>\n",
       "      <th>Name</th>\n",
       "      <th>Age</th>\n",
       "      <th>city</th>\n",
       "    </tr>\n",
       "  </thead>\n",
       "  <tbody>\n",
       "    <tr>\n",
       "      <th>1</th>\n",
       "      <td>Rani</td>\n",
       "      <td>50</td>\n",
       "      <td>Banglore</td>\n",
       "    </tr>\n",
       "    <tr>\n",
       "      <th>2</th>\n",
       "      <td>Sita</td>\n",
       "      <td>32</td>\n",
       "      <td>Tadepalli</td>\n",
       "    </tr>\n",
       "  </tbody>\n",
       "</table>\n",
       "</div>"
      ],
      "text/plain": [
       "   Name  Age       city\n",
       "1  Rani   50   Banglore\n",
       "2  Sita   32  Tadepalli"
      ]
     },
     "execution_count": 90,
     "metadata": {},
     "output_type": "execute_result"
    }
   ],
   "source": [
    "#boolean indexing\n",
    "data=[['Raja',30,'Hyderabad'],['Rani',50,'Banglore'],['Sita',32,'Tadepalli'],['Ram',25,'Rajolu']]\n",
    "df=pd.DataFrame(data,columns=['Name','Age','city'])\n",
    "df\n",
    "df[df['Age']>30]"
   ]
  },
  {
   "cell_type": "code",
   "execution_count": 99,
   "id": "5bc2638b-25d1-4f07-aa71-2b459d12e5c5",
   "metadata": {},
   "outputs": [
    {
     "data": {
      "text/html": [
       "<div>\n",
       "<style scoped>\n",
       "    .dataframe tbody tr th:only-of-type {\n",
       "        vertical-align: middle;\n",
       "    }\n",
       "\n",
       "    .dataframe tbody tr th {\n",
       "        vertical-align: top;\n",
       "    }\n",
       "\n",
       "    .dataframe thead th {\n",
       "        text-align: right;\n",
       "    }\n",
       "</style>\n",
       "<table border=\"1\" class=\"dataframe\">\n",
       "  <thead>\n",
       "    <tr style=\"text-align: right;\">\n",
       "      <th></th>\n",
       "      <th>Name</th>\n",
       "      <th>Age</th>\n",
       "      <th>city</th>\n",
       "    </tr>\n",
       "  </thead>\n",
       "  <tbody>\n",
       "    <tr>\n",
       "      <th>0</th>\n",
       "      <td>Raja</td>\n",
       "      <td>30</td>\n",
       "      <td>Hyderabad</td>\n",
       "    </tr>\n",
       "    <tr>\n",
       "      <th>1</th>\n",
       "      <td>Rani</td>\n",
       "      <td>50</td>\n",
       "      <td>Banglore</td>\n",
       "    </tr>\n",
       "    <tr>\n",
       "      <th>2</th>\n",
       "      <td>Sita</td>\n",
       "      <td>32</td>\n",
       "      <td>Tadepalli</td>\n",
       "    </tr>\n",
       "    <tr>\n",
       "      <th>3</th>\n",
       "      <td>Ram</td>\n",
       "      <td>25</td>\n",
       "      <td>Rajolu</td>\n",
       "    </tr>\n",
       "  </tbody>\n",
       "</table>\n",
       "</div>"
      ],
      "text/plain": [
       "   Name  Age       city\n",
       "0  Raja   30  Hyderabad\n",
       "1  Rani   50   Banglore\n",
       "2  Sita   32  Tadepalli\n",
       "3   Ram   25     Rajolu"
      ]
     },
     "execution_count": 99,
     "metadata": {},
     "output_type": "execute_result"
    }
   ],
   "source": [
    "df"
   ]
  },
  {
   "cell_type": "code",
   "execution_count": 96,
   "id": "b09cbabd-eb83-4b09-bea7-544a209a1b6c",
   "metadata": {},
   "outputs": [
    {
     "data": {
      "text/html": [
       "<div>\n",
       "<style scoped>\n",
       "    .dataframe tbody tr th:only-of-type {\n",
       "        vertical-align: middle;\n",
       "    }\n",
       "\n",
       "    .dataframe tbody tr th {\n",
       "        vertical-align: top;\n",
       "    }\n",
       "\n",
       "    .dataframe thead th {\n",
       "        text-align: right;\n",
       "    }\n",
       "</style>\n",
       "<table border=\"1\" class=\"dataframe\">\n",
       "  <thead>\n",
       "    <tr style=\"text-align: right;\">\n",
       "      <th></th>\n",
       "      <th>Name</th>\n",
       "      <th>city</th>\n",
       "    </tr>\n",
       "  </thead>\n",
       "  <tbody>\n",
       "    <tr>\n",
       "      <th>0</th>\n",
       "      <td>Raja</td>\n",
       "      <td>Hyderabad</td>\n",
       "    </tr>\n",
       "    <tr>\n",
       "      <th>1</th>\n",
       "      <td>Rani</td>\n",
       "      <td>Banglore</td>\n",
       "    </tr>\n",
       "    <tr>\n",
       "      <th>2</th>\n",
       "      <td>Sita</td>\n",
       "      <td>Tadepalli</td>\n",
       "    </tr>\n",
       "  </tbody>\n",
       "</table>\n",
       "</div>"
      ],
      "text/plain": [
       "   Name       city\n",
       "0  Raja  Hyderabad\n",
       "1  Rani   Banglore\n",
       "2  Sita  Tadepalli"
      ]
     },
     "execution_count": 96,
     "metadata": {},
     "output_type": "execute_result"
    }
   ],
   "source": [
    "#using LOC ILOC\n",
    "#loc:we should give lables\n",
    "df.loc[0:2,['Name','city']]"
   ]
  },
  {
   "cell_type": "code",
   "execution_count": 98,
   "id": "84a393b1-54e3-42b9-8469-6146a1dbcb38",
   "metadata": {},
   "outputs": [
    {
     "data": {
      "text/html": [
       "<div>\n",
       "<style scoped>\n",
       "    .dataframe tbody tr th:only-of-type {\n",
       "        vertical-align: middle;\n",
       "    }\n",
       "\n",
       "    .dataframe tbody tr th {\n",
       "        vertical-align: top;\n",
       "    }\n",
       "\n",
       "    .dataframe thead th {\n",
       "        text-align: right;\n",
       "    }\n",
       "</style>\n",
       "<table border=\"1\" class=\"dataframe\">\n",
       "  <thead>\n",
       "    <tr style=\"text-align: right;\">\n",
       "      <th></th>\n",
       "      <th>Age</th>\n",
       "      <th>city</th>\n",
       "    </tr>\n",
       "  </thead>\n",
       "  <tbody>\n",
       "    <tr>\n",
       "      <th>0</th>\n",
       "      <td>30</td>\n",
       "      <td>Hyderabad</td>\n",
       "    </tr>\n",
       "    <tr>\n",
       "      <th>1</th>\n",
       "      <td>50</td>\n",
       "      <td>Banglore</td>\n",
       "    </tr>\n",
       "  </tbody>\n",
       "</table>\n",
       "</div>"
      ],
      "text/plain": [
       "   Age       city\n",
       "0   30  Hyderabad\n",
       "1   50   Banglore"
      ]
     },
     "execution_count": 98,
     "metadata": {},
     "output_type": "execute_result"
    }
   ],
   "source": [
    "#iloc:we should give integer values\n",
    "df.iloc[0:2,[1,2]]"
   ]
  },
  {
   "cell_type": "markdown",
   "id": "c3ef7b19-896e-4a16-8828-c8a2e09bee4e",
   "metadata": {},
   "source": [
    "# Manipulating Rows and Columns"
   ]
  },
  {
   "cell_type": "code",
   "execution_count": 100,
   "id": "d2854393-278c-4cf8-88c6-5149857bdc5a",
   "metadata": {},
   "outputs": [
    {
     "data": {
      "text/html": [
       "<div>\n",
       "<style scoped>\n",
       "    .dataframe tbody tr th:only-of-type {\n",
       "        vertical-align: middle;\n",
       "    }\n",
       "\n",
       "    .dataframe tbody tr th {\n",
       "        vertical-align: top;\n",
       "    }\n",
       "\n",
       "    .dataframe thead th {\n",
       "        text-align: right;\n",
       "    }\n",
       "</style>\n",
       "<table border=\"1\" class=\"dataframe\">\n",
       "  <thead>\n",
       "    <tr style=\"text-align: right;\">\n",
       "      <th></th>\n",
       "      <th>Name</th>\n",
       "      <th>Age</th>\n",
       "      <th>city</th>\n",
       "      <th>Salary</th>\n",
       "    </tr>\n",
       "  </thead>\n",
       "  <tbody>\n",
       "    <tr>\n",
       "      <th>0</th>\n",
       "      <td>Raja</td>\n",
       "      <td>30</td>\n",
       "      <td>Hyderabad</td>\n",
       "      <td>20000</td>\n",
       "    </tr>\n",
       "    <tr>\n",
       "      <th>1</th>\n",
       "      <td>Rani</td>\n",
       "      <td>50</td>\n",
       "      <td>Banglore</td>\n",
       "      <td>30000</td>\n",
       "    </tr>\n",
       "    <tr>\n",
       "      <th>2</th>\n",
       "      <td>Sita</td>\n",
       "      <td>32</td>\n",
       "      <td>Tadepalli</td>\n",
       "      <td>40000</td>\n",
       "    </tr>\n",
       "    <tr>\n",
       "      <th>3</th>\n",
       "      <td>Ram</td>\n",
       "      <td>25</td>\n",
       "      <td>Rajolu</td>\n",
       "      <td>90000</td>\n",
       "    </tr>\n",
       "  </tbody>\n",
       "</table>\n",
       "</div>"
      ],
      "text/plain": [
       "   Name  Age       city  Salary\n",
       "0  Raja   30  Hyderabad   20000\n",
       "1  Rani   50   Banglore   30000\n",
       "2  Sita   32  Tadepalli   40000\n",
       "3   Ram   25     Rajolu   90000"
      ]
     },
     "execution_count": 100,
     "metadata": {},
     "output_type": "execute_result"
    }
   ],
   "source": [
    "#Adding columns\n",
    "df['Salary']=[20000,30000,40000,90000]\n",
    "df"
   ]
  },
  {
   "cell_type": "code",
   "execution_count": 102,
   "id": "26701e5f-f625-4bbc-a9b5-9a0b401cf08b",
   "metadata": {},
   "outputs": [
    {
     "data": {
      "text/html": [
       "<div>\n",
       "<style scoped>\n",
       "    .dataframe tbody tr th:only-of-type {\n",
       "        vertical-align: middle;\n",
       "    }\n",
       "\n",
       "    .dataframe tbody tr th {\n",
       "        vertical-align: top;\n",
       "    }\n",
       "\n",
       "    .dataframe thead th {\n",
       "        text-align: right;\n",
       "    }\n",
       "</style>\n",
       "<table border=\"1\" class=\"dataframe\">\n",
       "  <thead>\n",
       "    <tr style=\"text-align: right;\">\n",
       "      <th></th>\n",
       "      <th>Name</th>\n",
       "      <th>Age</th>\n",
       "      <th>city</th>\n",
       "      <th>Salary</th>\n",
       "    </tr>\n",
       "  </thead>\n",
       "  <tbody>\n",
       "    <tr>\n",
       "      <th>0</th>\n",
       "      <td>Raja</td>\n",
       "      <td>30</td>\n",
       "      <td>Hyderabad</td>\n",
       "      <td>85000</td>\n",
       "    </tr>\n",
       "    <tr>\n",
       "      <th>1</th>\n",
       "      <td>Rani</td>\n",
       "      <td>50</td>\n",
       "      <td>Banglore</td>\n",
       "      <td>30000</td>\n",
       "    </tr>\n",
       "    <tr>\n",
       "      <th>2</th>\n",
       "      <td>Sita</td>\n",
       "      <td>32</td>\n",
       "      <td>Tadepalli</td>\n",
       "      <td>40000</td>\n",
       "    </tr>\n",
       "    <tr>\n",
       "      <th>3</th>\n",
       "      <td>Ram</td>\n",
       "      <td>25</td>\n",
       "      <td>Rajolu</td>\n",
       "      <td>90000</td>\n",
       "    </tr>\n",
       "  </tbody>\n",
       "</table>\n",
       "</div>"
      ],
      "text/plain": [
       "   Name  Age       city  Salary\n",
       "0  Raja   30  Hyderabad   85000\n",
       "1  Rani   50   Banglore   30000\n",
       "2  Sita   32  Tadepalli   40000\n",
       "3   Ram   25     Rajolu   90000"
      ]
     },
     "execution_count": 102,
     "metadata": {},
     "output_type": "execute_result"
    }
   ],
   "source": [
    "#Updating dataframe\n",
    "df.loc[df['Name']=='Raja','Salary']=85000\n",
    "df"
   ]
  },
  {
   "cell_type": "code",
   "execution_count": 104,
   "id": "50368640-f37a-4e90-a632-7565c39dda8f",
   "metadata": {},
   "outputs": [
    {
     "data": {
      "text/html": [
       "<div>\n",
       "<style scoped>\n",
       "    .dataframe tbody tr th:only-of-type {\n",
       "        vertical-align: middle;\n",
       "    }\n",
       "\n",
       "    .dataframe tbody tr th {\n",
       "        vertical-align: top;\n",
       "    }\n",
       "\n",
       "    .dataframe thead th {\n",
       "        text-align: right;\n",
       "    }\n",
       "</style>\n",
       "<table border=\"1\" class=\"dataframe\">\n",
       "  <thead>\n",
       "    <tr style=\"text-align: right;\">\n",
       "      <th></th>\n",
       "      <th>Name</th>\n",
       "      <th>Age</th>\n",
       "      <th>city</th>\n",
       "    </tr>\n",
       "  </thead>\n",
       "  <tbody>\n",
       "    <tr>\n",
       "      <th>0</th>\n",
       "      <td>Raja</td>\n",
       "      <td>30</td>\n",
       "      <td>Hyderabad</td>\n",
       "    </tr>\n",
       "    <tr>\n",
       "      <th>1</th>\n",
       "      <td>Rani</td>\n",
       "      <td>50</td>\n",
       "      <td>Banglore</td>\n",
       "    </tr>\n",
       "    <tr>\n",
       "      <th>2</th>\n",
       "      <td>Sita</td>\n",
       "      <td>32</td>\n",
       "      <td>Tadepalli</td>\n",
       "    </tr>\n",
       "    <tr>\n",
       "      <th>3</th>\n",
       "      <td>Ram</td>\n",
       "      <td>25</td>\n",
       "      <td>Rajolu</td>\n",
       "    </tr>\n",
       "  </tbody>\n",
       "</table>\n",
       "</div>"
      ],
      "text/plain": [
       "   Name  Age       city\n",
       "0  Raja   30  Hyderabad\n",
       "1  Rani   50   Banglore\n",
       "2  Sita   32  Tadepalli\n",
       "3   Ram   25     Rajolu"
      ]
     },
     "execution_count": 104,
     "metadata": {},
     "output_type": "execute_result"
    }
   ],
   "source": [
    "#deleting \n",
    "df.drop('Salary',axis=1,inplace=True)\n",
    "df"
   ]
  },
  {
   "cell_type": "code",
   "execution_count": null,
   "id": "03b0abb5-4d62-4d2c-9573-db54f09ad646",
   "metadata": {},
   "outputs": [],
   "source": []
  },
  {
   "cell_type": "code",
   "execution_count": null,
   "id": "86fb5666-efb8-46ff-8d5d-ece1f7cc2b22",
   "metadata": {},
   "outputs": [],
   "source": []
  },
  {
   "cell_type": "code",
   "execution_count": null,
   "id": "5886e92e-cf9c-4e23-a242-d1f1d66370ab",
   "metadata": {},
   "outputs": [],
   "source": [
    "ID Name   Age City\n",
    "1  Alisha 25  Delhi\n",
    "2  Hannah 30  Mumbai\n",
    "3  Alisha 25  Delhi\n",
    "4  Steffy 35  Kolkatta"
   ]
  },
  {
   "cell_type": "code",
   "execution_count": null,
   "id": "26f975fd-0640-4be1-9be4-1f97f86e2a5a",
   "metadata": {},
   "outputs": [],
   "source": []
  },
  {
   "cell_type": "code",
   "execution_count": null,
   "id": "15a968a1-a604-4316-be4a-d67d67edcaab",
   "metadata": {},
   "outputs": [],
   "source": []
  },
  {
   "cell_type": "code",
   "execution_count": null,
   "id": "f80e5824-45e4-4a38-b5a9-1bbc8b1f8121",
   "metadata": {},
   "outputs": [],
   "source": []
  },
  {
   "cell_type": "code",
   "execution_count": null,
   "id": "0473267a-9095-49ed-a379-7ca257a87f30",
   "metadata": {},
   "outputs": [],
   "source": []
  },
  {
   "cell_type": "code",
   "execution_count": null,
   "id": "6ea5ac6a-7141-4940-9719-572b5573a890",
   "metadata": {},
   "outputs": [],
   "source": []
  }
 ],
 "metadata": {
  "kernelspec": {
   "display_name": "Python 3 (ipykernel)",
   "language": "python",
   "name": "python3"
  },
  "language_info": {
   "codemirror_mode": {
    "name": "ipython",
    "version": 3
   },
   "file_extension": ".py",
   "mimetype": "text/x-python",
   "name": "python",
   "nbconvert_exporter": "python",
   "pygments_lexer": "ipython3",
   "version": "3.12.4"
  }
 },
 "nbformat": 4,
 "nbformat_minor": 5
}
