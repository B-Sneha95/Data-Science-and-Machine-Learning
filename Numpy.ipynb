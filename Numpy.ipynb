{
 "cells": [
  {
   "cell_type": "code",
   "execution_count": 3,
   "id": "0d9e9d44-8339-4d54-b33e-c919633f2030",
   "metadata": {},
   "outputs": [
    {
     "name": "stdout",
     "output_type": "stream",
     "text": [
      "[1 2 3]\n"
     ]
    }
   ],
   "source": [
    "import numpy as np\n",
    "a = np.array([1, 2, 3])\n",
    "print(a)"
   ]
  },
  {
   "cell_type": "code",
   "execution_count": 5,
   "id": "29514780-4258-4af1-b00d-403ae4482881",
   "metadata": {},
   "outputs": [
    {
     "data": {
      "text/plain": [
       "1"
      ]
     },
     "execution_count": 5,
     "metadata": {},
     "output_type": "execute_result"
    }
   ],
   "source": [
    "a.ndim"
   ]
  },
  {
   "cell_type": "code",
   "execution_count": 6,
   "id": "dcad2de2-0fbb-409c-8f72-02d659b22d76",
   "metadata": {},
   "outputs": [
    {
     "data": {
      "text/plain": [
       "(3,)"
      ]
     },
     "execution_count": 6,
     "metadata": {},
     "output_type": "execute_result"
    }
   ],
   "source": [
    "a.shape"
   ]
  },
  {
   "cell_type": "code",
   "execution_count": 21,
   "id": "fb8f47a4-1b97-49ab-ba13-e21ba2b04607",
   "metadata": {},
   "outputs": [
    {
     "name": "stdout",
     "output_type": "stream",
     "text": [
      "[[[1 2 3 4]\n",
      "  [5 6 7 8]]]\n",
      "<class 'numpy.ndarray'>\n"
     ]
    },
    {
     "data": {
      "text/plain": [
       "3"
      ]
     },
     "execution_count": 21,
     "metadata": {},
     "output_type": "execute_result"
    }
   ],
   "source": [
    "import numpy as np\n",
    "b=np.array([[(1,2,3,4),(5,6,7,8)]])\n",
    "print(b)\n",
    "print(type(b))\n",
    "b.ndim"
   ]
  },
  {
   "cell_type": "code",
   "execution_count": 14,
   "id": "4a29a42d-9050-4eac-971f-750d91c9c17b",
   "metadata": {},
   "outputs": [
    {
     "name": "stdout",
     "output_type": "stream",
     "text": [
      "[[['a' 'b' 'c' 'd']\n",
      "  ['e' 'f' 'g' 'h']\n",
      "  ['i' 'j' 'k' 'l']]]\n"
     ]
    }
   ],
   "source": [
    "import numpy as np\n",
    "c=np.array([[['a','b','c','d'],['e','f','g','h'],['i','j','k','l']]])\n",
    "print(c)"
   ]
  },
  {
   "cell_type": "code",
   "execution_count": 20,
   "id": "29e9a42b-870c-499c-b628-b302d541ccb8",
   "metadata": {},
   "outputs": [
    {
     "name": "stdout",
     "output_type": "stream",
     "text": [
      "3D Array:\n",
      "[[[ 1  2  3]\n",
      "  [ 4  5  6]]\n",
      "\n",
      " [[ 7  8  9]\n",
      "  [10 11 12]]]\n"
     ]
    },
    {
     "data": {
      "text/plain": [
       "3"
      ]
     },
     "execution_count": 20,
     "metadata": {},
     "output_type": "execute_result"
    }
   ],
   "source": [
    "\n",
    "array_3d = np.array([[[1, 2, 3], [4, 5, 6]],\n",
    "                     [[7, 8, 9], [10, 11, 12]]])\n",
    "print(\"3D Array:\")\n",
    "print(array_3d)\n",
    "array_3d[0,1,1]\n",
    "array_3d.ndim"
   ]
  },
  {
   "cell_type": "code",
   "execution_count": 31,
   "id": "9f66f3e5-c9fa-46a6-b857-ac434fe0ebf1",
   "metadata": {},
   "outputs": [
    {
     "name": "stdout",
     "output_type": "stream",
     "text": [
      "[[['a' 'b' 'c' 'd']\n",
      "  ['e' 'f' 'g' 'h']\n",
      "  ['i' 'j' 'k' 'l']]]\n"
     ]
    },
    {
     "data": {
      "text/plain": [
       "'f'"
      ]
     },
     "execution_count": 31,
     "metadata": {},
     "output_type": "execute_result"
    }
   ],
   "source": [
    "import numpy as np\n",
    "\n",
    "c = np.array([[[ 'a', 'b', 'c', 'd'], \n",
    "               [ 'e', 'f', 'g', 'h'], \n",
    "               [ 'i', 'j', 'k', 'l']]])\n",
    "print(c)\n",
    "c.ndim\n",
    "c[0,1,1]"
   ]
  },
  {
   "cell_type": "code",
   "execution_count": 27,
   "id": "abeb3384-7a04-4930-b454-b2a8d4c63557",
   "metadata": {},
   "outputs": [
    {
     "name": "stdout",
     "output_type": "stream",
     "text": [
      "2D Array:\n",
      "[[1 2 3]\n",
      " [4 5 6]\n",
      " [7 8 9]]\n"
     ]
    },
    {
     "data": {
      "text/plain": [
       "5"
      ]
     },
     "execution_count": 27,
     "metadata": {},
     "output_type": "execute_result"
    }
   ],
   "source": [
    "\n",
    "D2_array = np.array([[1, 2, 3], [4, 5, 6], [7, 8, 9]])\n",
    "print(\"2D Array:\")\n",
    "print(D2_array)\n",
    "\n",
    "D2_array[1,1]"
   ]
  },
  {
   "cell_type": "code",
   "execution_count": 32,
   "id": "82579132-624e-4646-9af2-27e076cee72d",
   "metadata": {},
   "outputs": [
    {
     "data": {
      "text/plain": [
       "(3, 3)"
      ]
     },
     "execution_count": 32,
     "metadata": {},
     "output_type": "execute_result"
    }
   ],
   "source": [
    "D2_array.shape"
   ]
  },
  {
   "cell_type": "code",
   "execution_count": 33,
   "id": "a2d1d6fb-ffec-4a36-8bad-5feb832519da",
   "metadata": {},
   "outputs": [
    {
     "data": {
      "text/plain": [
       "dtype('int32')"
      ]
     },
     "execution_count": 33,
     "metadata": {},
     "output_type": "execute_result"
    }
   ],
   "source": [
    "D2_array.dtype"
   ]
  },
  {
   "cell_type": "code",
   "execution_count": 34,
   "id": "df29d7a7-b973-4c15-a8c2-d342668e3d0d",
   "metadata": {},
   "outputs": [
    {
     "data": {
      "text/plain": [
       "2"
      ]
     },
     "execution_count": 34,
     "metadata": {},
     "output_type": "execute_result"
    }
   ],
   "source": [
    "D2_array.ndim"
   ]
  },
  {
   "cell_type": "code",
   "execution_count": 35,
   "id": "77585b39-dba1-4335-8aba-b8c0c2062ea2",
   "metadata": {},
   "outputs": [
    {
     "data": {
      "text/plain": [
       "4"
      ]
     },
     "execution_count": 35,
     "metadata": {},
     "output_type": "execute_result"
    }
   ],
   "source": [
    "D2_array.itemsize"
   ]
  },
  {
   "cell_type": "code",
   "execution_count": 36,
   "id": "2a48dcc3-5491-46b8-961d-70d8bdabadf7",
   "metadata": {},
   "outputs": [
    {
     "data": {
      "text/plain": [
       "36"
      ]
     },
     "execution_count": 36,
     "metadata": {},
     "output_type": "execute_result"
    }
   ],
   "source": [
    "D2_array.nbytes"
   ]
  },
  {
   "cell_type": "code",
   "execution_count": 7,
   "id": "37203b4b-24df-4181-ac12-b4ec7fed2721",
   "metadata": {},
   "outputs": [
    {
     "data": {
      "text/plain": [
       "0"
      ]
     },
     "execution_count": 7,
     "metadata": {},
     "output_type": "execute_result"
    }
   ],
   "source": [
    "import numpy as np\n",
    "\n",
    "e=np.array(3)\n",
    "e.ndim\n"
   ]
  },
  {
   "cell_type": "code",
   "execution_count": 8,
   "id": "3e9a4527-3e88-496e-a848-64ec01899743",
   "metadata": {},
   "outputs": [
    {
     "data": {
      "text/plain": [
       "1"
      ]
     },
     "execution_count": 8,
     "metadata": {},
     "output_type": "execute_result"
    }
   ],
   "source": [
    "# 1 dimension\n",
    "D=np.array([1,2,3,4])\n",
    "D\n",
    "D.ndim"
   ]
  },
  {
   "cell_type": "code",
   "execution_count": 9,
   "id": "3422d770-7065-4716-aea0-343fa7353785",
   "metadata": {},
   "outputs": [
    {
     "data": {
      "text/plain": [
       "2"
      ]
     },
     "execution_count": 9,
     "metadata": {},
     "output_type": "execute_result"
    }
   ],
   "source": [
    "#2 dimension\n",
    "T=np.array([[2,3],[4,5]])\n",
    "T.ndim"
   ]
  },
  {
   "cell_type": "code",
   "execution_count": 10,
   "id": "5ea7f861-fc34-4590-9394-8ec467d058a7",
   "metadata": {},
   "outputs": [
    {
     "data": {
      "text/plain": [
       "3"
      ]
     },
     "execution_count": 10,
     "metadata": {},
     "output_type": "execute_result"
    }
   ],
   "source": [
    "#3 dimension\n",
    "R=np.array([[[1,2,3],[9,8,7],[4,5,6]]])\n",
    "R.ndim"
   ]
  },
  {
   "cell_type": "code",
   "execution_count": 12,
   "id": "d92f1b46-c432-45a4-ba27-56822e6a1a6f",
   "metadata": {},
   "outputs": [
    {
     "data": {
      "text/plain": [
       "array([ 11,  22,  33, 444])"
      ]
     },
     "execution_count": 12,
     "metadata": {},
     "output_type": "execute_result"
    }
   ],
   "source": [
    "#Accesing Array elements:Indexing\n",
    "#0th location\n",
    "S=np.array([11,22,33,444])\n",
    "S"
   ]
  },
  {
   "cell_type": "code",
   "execution_count": 13,
   "id": "c3de5e54-dadf-448b-ba65-422a1beabc29",
   "metadata": {},
   "outputs": [
    {
     "data": {
      "text/plain": [
       "22"
      ]
     },
     "execution_count": 13,
     "metadata": {},
     "output_type": "execute_result"
    }
   ],
   "source": [
    "S[1]"
   ]
  },
  {
   "cell_type": "code",
   "execution_count": 19,
   "id": "8c86f261-0bf3-4a7b-9cbd-d959d4646c0b",
   "metadata": {},
   "outputs": [
    {
     "data": {
      "text/plain": [
       "array([[[23, 34, 35],\n",
       "        [56, 78, 98]],\n",
       "\n",
       "       [[12, 33, 44],\n",
       "        [56, 78, 98]]])"
      ]
     },
     "execution_count": 19,
     "metadata": {},
     "output_type": "execute_result"
    }
   ],
   "source": [
    "import numpy as np\n",
    "F=np.array([[[23,34,35],[56,78,98]],[[12,33,44],[56,78,98]]])\n",
    "F"
   ]
  },
  {
   "cell_type": "code",
   "execution_count": 20,
   "id": "9c4c5bf9-d1e2-471c-b57a-6c6d4a355287",
   "metadata": {},
   "outputs": [
    {
     "data": {
      "text/plain": [
       "3"
      ]
     },
     "execution_count": 20,
     "metadata": {},
     "output_type": "execute_result"
    }
   ],
   "source": [
    "F.ndim"
   ]
  },
  {
   "cell_type": "code",
   "execution_count": 21,
   "id": "dc455468-7797-4735-bc7e-6034e9dadd09",
   "metadata": {},
   "outputs": [
    {
     "data": {
      "text/plain": [
       "array([[[23, 34, 35],\n",
       "        [56, 78, 98]],\n",
       "\n",
       "       [[12, 33, 44],\n",
       "        [56, 78, 98]],\n",
       "\n",
       "       [[45, 67, 88],\n",
       "        [76, 54, 21]]])"
      ]
     },
     "execution_count": 21,
     "metadata": {},
     "output_type": "execute_result"
    }
   ],
   "source": [
    "C=np.array([[[23,34,35],[56,78,98]],[[12,33,44],[56,78,98]],[[45,67,88],[76,54,21]]])\n",
    "C"
   ]
  },
  {
   "cell_type": "code",
   "execution_count": 22,
   "id": "5a88a092-8ccb-44bc-b077-e95fd7103c39",
   "metadata": {},
   "outputs": [
    {
     "data": {
      "text/plain": [
       "3"
      ]
     },
     "execution_count": 22,
     "metadata": {},
     "output_type": "execute_result"
    }
   ],
   "source": [
    "C.ndim"
   ]
  },
  {
   "cell_type": "code",
   "execution_count": 24,
   "id": "bc87e03f-ad7d-4873-aaa0-bc426df7e3dd",
   "metadata": {},
   "outputs": [
    {
     "data": {
      "text/plain": [
       "78"
      ]
     },
     "execution_count": 24,
     "metadata": {},
     "output_type": "execute_result"
    }
   ],
   "source": [
    "C[0,1,1]"
   ]
  },
  {
   "cell_type": "code",
   "execution_count": 6,
   "id": "0b8aac2f-3696-492d-ba12-48d56472a684",
   "metadata": {},
   "outputs": [
    {
     "data": {
      "text/plain": [
       "array([[[23, 34, 35],\n",
       "        [56, 78, 98],\n",
       "        [22, 44, 55]],\n",
       "\n",
       "       [[12, 33, 44],\n",
       "        [56, 78, 98],\n",
       "        [77, 88, 99]],\n",
       "\n",
       "       [[45, 67, 88],\n",
       "        [76, 54, 21],\n",
       "        [74, 68, 90]],\n",
       "\n",
       "       [[45, 67, 88],\n",
       "        [76, 54, 21],\n",
       "        [74, 68, 90]]])"
      ]
     },
     "execution_count": 6,
     "metadata": {},
     "output_type": "execute_result"
    }
   ],
   "source": [
    "import numpy as np\n",
    "R=np.array([[[23,34,35],[56,78,98],[22,44,55]],[[12,33,44],[56,78,98],[77,88,99]],[[45,67,88],[76,54,21],[74,68,90]],[[45,67,88],[76,54,21],[74,68,90]]])\n",
    "R"
   ]
  },
  {
   "cell_type": "code",
   "execution_count": 7,
   "id": "cdaf9763-0414-4f2d-ad85-e6ab9d2ebed6",
   "metadata": {},
   "outputs": [
    {
     "data": {
      "text/plain": [
       "3"
      ]
     },
     "execution_count": 7,
     "metadata": {},
     "output_type": "execute_result"
    }
   ],
   "source": [
    "R.ndim"
   ]
  },
  {
   "cell_type": "code",
   "execution_count": 8,
   "id": "26f10dd4-085f-48f3-bd2b-2d367fabb711",
   "metadata": {},
   "outputs": [
    {
     "data": {
      "text/plain": [
       "98"
      ]
     },
     "execution_count": 8,
     "metadata": {},
     "output_type": "execute_result"
    }
   ],
   "source": [
    "R[1,1,2]"
   ]
  },
  {
   "cell_type": "code",
   "execution_count": 9,
   "id": "649a0ec6-93bc-4873-8273-e9debda01c0d",
   "metadata": {},
   "outputs": [
    {
     "data": {
      "text/plain": [
       "(4, 3, 3)"
      ]
     },
     "execution_count": 9,
     "metadata": {},
     "output_type": "execute_result"
    }
   ],
   "source": [
    "R.shape"
   ]
  },
  {
   "cell_type": "code",
   "execution_count": null,
   "id": "6d8b6137-c574-421e-9091-5190e6d7b0c3",
   "metadata": {},
   "outputs": [],
   "source": []
  },
  {
   "cell_type": "code",
   "execution_count": null,
   "id": "27249235-f7ee-4081-9bdf-418f8adbc3ec",
   "metadata": {},
   "outputs": [],
   "source": []
  },
  {
   "cell_type": "code",
   "execution_count": null,
   "id": "d8a4a7cc-0b92-4f98-83f1-87ce632d3fcd",
   "metadata": {},
   "outputs": [],
   "source": []
  },
  {
   "cell_type": "code",
   "execution_count": 19,
   "id": "e7ffa2e1-7fa2-4533-8b8d-9649571a9e66",
   "metadata": {},
   "outputs": [
    {
     "name": "stdout",
     "output_type": "stream",
     "text": [
      "json_data:\n",
      "{'Name': 'Sneha', 'Age': 25, 'Gender': 'Femalle'}\n",
      "Name: Sneha\n",
      "Age: 25\n",
      "Gender: Femalle\n"
     ]
    }
   ],
   "source": [
    "import json \n",
    "json_obj='{\"Name\": \"Sneha\",\"Age\":25,\"Gender\":\"Femalle\"}'\n",
    "python_obj=json.loads(json_obj)\n",
    "print('json_data:')\n",
    "print(python_obj)\n",
    "print('Name:',python_obj['Name'])\n",
    "print('Age:',python_obj['Age'])\n",
    "print('Gender:',python_obj['Gender'])\n"
   ]
  },
  {
   "cell_type": "code",
   "execution_count": null,
   "id": "3f73e5fe-6675-486a-ab11-1b3bc1cbb5f5",
   "metadata": {},
   "outputs": [],
   "source": []
  },
  {
   "cell_type": "code",
   "execution_count": null,
   "id": "2eb6867a-5ff9-4ad2-bc71-49ac18efe960",
   "metadata": {},
   "outputs": [],
   "source": []
  },
  {
   "cell_type": "code",
   "execution_count": null,
   "id": "1e8860d6-2e56-4fef-9e92-80d13625789e",
   "metadata": {},
   "outputs": [],
   "source": []
  },
  {
   "cell_type": "code",
   "execution_count": null,
   "id": "0e93cf46-dd64-4906-b570-5dfd9dd26462",
   "metadata": {},
   "outputs": [],
   "source": []
  },
  {
   "cell_type": "code",
   "execution_count": null,
   "id": "a9740cdf-662e-4cbb-b56f-207d41d8a5ee",
   "metadata": {},
   "outputs": [],
   "source": []
  }
 ],
 "metadata": {
  "kernelspec": {
   "display_name": "Python 3 (ipykernel)",
   "language": "python",
   "name": "python3"
  },
  "language_info": {
   "codemirror_mode": {
    "name": "ipython",
    "version": 3
   },
   "file_extension": ".py",
   "mimetype": "text/x-python",
   "name": "python",
   "nbconvert_exporter": "python",
   "pygments_lexer": "ipython3",
   "version": "3.12.4"
  }
 },
 "nbformat": 4,
 "nbformat_minor": 5
}
