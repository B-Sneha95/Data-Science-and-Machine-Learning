{
 "cells": [
  {
   "cell_type": "markdown",
   "id": "f0054037-5874-43d4-99cf-1b06a343aa4c",
   "metadata": {},
   "source": [
    "# Numpy"
   ]
  },
  {
   "cell_type": "code",
   "execution_count": null,
   "id": "72264071-b766-48bb-a314-46e16b431ba1",
   "metadata": {},
   "outputs": [],
   "source": [
    "#Numpy is a Python library. Numpy is Numerical Python.\n",
    "#It is a library consisting of multi-dimensional arrays.\n",
    "#It allows only one datatype\n",
    "#It doesn't have builtin functions\n",
    "#Import numpy library for numerical python\n",
    "#Numpy is faster than list\n",
    "#pip install numpy-package installation\n"
   ]
  },
  {
   "cell_type": "code",
   "execution_count": 68,
   "id": "cf500f3d-afb0-43b1-ba65-0bf9c5f5009e",
   "metadata": {},
   "outputs": [
    {
     "name": "stdout",
     "output_type": "stream",
     "text": [
      "Requirement already satisfied: numpy in c:\\users\\bsneh\\anaconda3\\lib\\site-packages (1.26.4)\n"
     ]
    }
   ],
   "source": [
    "!pip install numpy\n",
    "import numpy as np\n"
   ]
  },
  {
   "cell_type": "code",
   "execution_count": 12,
   "id": "5a84b8f8-3055-4346-baf8-ee7520ff53e1",
   "metadata": {},
   "outputs": [
    {
     "data": {
      "text/plain": [
       "array([1, 2, 3, 4, 5, 6])"
      ]
     },
     "execution_count": 12,
     "metadata": {},
     "output_type": "execute_result"
    }
   ],
   "source": [
    "a=np.array([1,2,3,4,5,6])\n",
    "a"
   ]
  },
  {
   "cell_type": "code",
   "execution_count": 13,
   "id": "3fdbd4d9-2da2-4330-aefb-848ea36987d0",
   "metadata": {},
   "outputs": [
    {
     "data": {
      "text/plain": [
       "1"
      ]
     },
     "execution_count": 13,
     "metadata": {},
     "output_type": "execute_result"
    }
   ],
   "source": [
    "a.ndim"
   ]
  },
  {
   "cell_type": "code",
   "execution_count": 14,
   "id": "bca50269-5633-4c49-848b-facbaeb850fb",
   "metadata": {},
   "outputs": [
    {
     "data": {
      "text/plain": [
       "(6,)"
      ]
     },
     "execution_count": 14,
     "metadata": {},
     "output_type": "execute_result"
    }
   ],
   "source": [
    "a.shape"
   ]
  },
  {
   "cell_type": "code",
   "execution_count": 15,
   "id": "7b7ae92f-6ab9-4b2e-8d08-da82f9bab0a1",
   "metadata": {},
   "outputs": [
    {
     "data": {
      "text/plain": [
       "array([ 1,  3,  5,  7,  9, 11, 13, 15, 17, 19])"
      ]
     },
     "execution_count": 15,
     "metadata": {},
     "output_type": "execute_result"
    }
   ],
   "source": [
    "b=np.arange(1,20,2)\n",
    "b"
   ]
  },
  {
   "cell_type": "code",
   "execution_count": 38,
   "id": "8ca88ee4-e06a-48d7-b028-106c91b72879",
   "metadata": {},
   "outputs": [
    {
     "name": "stdout",
     "output_type": "stream",
     "text": [
      "10\n",
      "\n",
      "\n",
      "[2 2 2 2]\n",
      "\n",
      "\n",
      "[[45 45 67]\n",
      " [67 89 87]]\n"
     ]
    }
   ],
   "source": [
    "a=np.array(10)\n",
    "b=np.array([2,2,2,2])\n",
    "c=np.array([[45,45,67],[67,89,87]])\n",
    "print(a)\n",
    "print('\\n')\n",
    "print(b)\n",
    "print('\\n')\n",
    "print(c)"
   ]
  },
  {
   "cell_type": "code",
   "execution_count": 31,
   "id": "dbfdb153-f104-43b3-8a79-fd7169e34505",
   "metadata": {},
   "outputs": [
    {
     "name": "stdout",
     "output_type": "stream",
     "text": [
      "0\n",
      "1\n",
      "2\n"
     ]
    }
   ],
   "source": [
    "print(a.ndim)\n",
    "print(b.ndim)\n",
    "print(c.ndim)"
   ]
  },
  {
   "cell_type": "code",
   "execution_count": 27,
   "id": "9ba34ebe-a9f6-4243-9bbb-b5bdda2e7170",
   "metadata": {},
   "outputs": [
    {
     "data": {
      "text/plain": [
       "array([[[45, 45, 67],\n",
       "        [67, 89, 87]],\n",
       "\n",
       "       [[45, 45, 67],\n",
       "        [67, 89, 87]]])"
      ]
     },
     "execution_count": 27,
     "metadata": {},
     "output_type": "execute_result"
    }
   ],
   "source": [
    "d=np.array([[[45,45,67],[67,89,87]],[[45,45,67],[67,89,87]]])\n",
    "d"
   ]
  },
  {
   "cell_type": "code",
   "execution_count": 28,
   "id": "6e9f19ab-25fc-49d3-8dbb-fb2d9cae3f3e",
   "metadata": {},
   "outputs": [
    {
     "data": {
      "text/plain": [
       "3"
      ]
     },
     "execution_count": 28,
     "metadata": {},
     "output_type": "execute_result"
    }
   ],
   "source": [
    "d.ndim"
   ]
  },
  {
   "cell_type": "code",
   "execution_count": 43,
   "id": "2e4bf800-fa16-4c9a-8d25-b9593665efb8",
   "metadata": {},
   "outputs": [
    {
     "data": {
      "text/plain": [
       "array([[1, 0, 0, 0],\n",
       "       [0, 1, 0, 0],\n",
       "       [0, 0, 1, 0],\n",
       "       [0, 0, 0, 1]])"
      ]
     },
     "execution_count": 43,
     "metadata": {},
     "output_type": "execute_result"
    }
   ],
   "source": [
    "np.eye(4, dtype=int)"
   ]
  },
  {
   "cell_type": "code",
   "execution_count": 51,
   "id": "fd0c3090-6b85-4c7f-98cb-cd239449356f",
   "metadata": {},
   "outputs": [
    {
     "data": {
      "text/plain": [
       "array([[0, 0, 0, 0],\n",
       "       [0, 0, 0, 0],\n",
       "       [0, 0, 0, 0],\n",
       "       [0, 0, 0, 0]])"
      ]
     },
     "execution_count": 51,
     "metadata": {},
     "output_type": "execute_result"
    }
   ],
   "source": [
    "np.zeros((4,4), dtype=int)"
   ]
  },
  {
   "cell_type": "code",
   "execution_count": 52,
   "id": "76d048eb-52fe-432a-b51f-61ea802a4b9c",
   "metadata": {},
   "outputs": [
    {
     "data": {
      "text/plain": [
       "array([[1, 1, 1],\n",
       "       [1, 1, 1],\n",
       "       [1, 1, 1],\n",
       "       [1, 1, 1],\n",
       "       [1, 1, 1]])"
      ]
     },
     "execution_count": 52,
     "metadata": {},
     "output_type": "execute_result"
    }
   ],
   "source": [
    "np.ones((5,3), dtype=int)"
   ]
  },
  {
   "cell_type": "code",
   "execution_count": 54,
   "id": "9a248ca9-05e9-4c63-88f2-e2568c5d99dc",
   "metadata": {},
   "outputs": [
    {
     "data": {
      "text/plain": [
       "array([[9, 9, 9, 9],\n",
       "       [9, 9, 9, 9],\n",
       "       [9, 9, 9, 9],\n",
       "       [9, 9, 9, 9],\n",
       "       [9, 9, 9, 9],\n",
       "       [9, 9, 9, 9]])"
      ]
     },
     "execution_count": 54,
     "metadata": {},
     "output_type": "execute_result"
    }
   ],
   "source": [
    "np.full((6,4), 9,dtype=int)"
   ]
  },
  {
   "cell_type": "code",
   "execution_count": 56,
   "id": "49336e81-d798-47d7-a487-0f721b815247",
   "metadata": {},
   "outputs": [
    {
     "data": {
      "text/plain": [
       "array([[0, 0, 0],\n",
       "       [0, 0, 0],\n",
       "       [0, 0, 0]])"
      ]
     },
     "execution_count": 56,
     "metadata": {},
     "output_type": "execute_result"
    }
   ],
   "source": [
    "np.zeros((3,3),dtype=int)"
   ]
  },
  {
   "cell_type": "code",
   "execution_count": 57,
   "id": "232e93ab-25a8-438f-bcbb-9f54f5f6d404",
   "metadata": {},
   "outputs": [
    {
     "data": {
      "text/plain": [
       "array([[1, 1, 1],\n",
       "       [1, 1, 1],\n",
       "       [1, 1, 1]])"
      ]
     },
     "execution_count": 57,
     "metadata": {},
     "output_type": "execute_result"
    }
   ],
   "source": [
    "np.ones((3,3),dtype=int)"
   ]
  },
  {
   "cell_type": "code",
   "execution_count": 58,
   "id": "ea914869-2360-4402-ac3a-1199fcf77256",
   "metadata": {},
   "outputs": [
    {
     "data": {
      "text/plain": [
       "array([[2, 2, 2],\n",
       "       [2, 2, 2],\n",
       "       [2, 2, 2],\n",
       "       [2, 2, 2]])"
      ]
     },
     "execution_count": 58,
     "metadata": {},
     "output_type": "execute_result"
    }
   ],
   "source": [
    "np.full((4,3),2,dtype=int)"
   ]
  },
  {
   "cell_type": "code",
   "execution_count": 59,
   "id": "f66f16b6-cad7-424a-8692-07ffdc9e5fe7",
   "metadata": {},
   "outputs": [
    {
     "data": {
      "text/plain": [
       "array([[11,  0,  0,  0,  0,  0],\n",
       "       [ 0, 22,  0,  0,  0,  0],\n",
       "       [ 0,  0, 33,  0,  0,  0],\n",
       "       [ 0,  0,  0, 44,  0,  0],\n",
       "       [ 0,  0,  0,  0, 55,  0],\n",
       "       [ 0,  0,  0,  0,  0, 66]])"
      ]
     },
     "execution_count": 59,
     "metadata": {},
     "output_type": "execute_result"
    }
   ],
   "source": [
    "A=[11,22,33,44,55,66]\n",
    "np.diag(A)"
   ]
  },
  {
   "cell_type": "markdown",
   "id": "54724bfe-363f-455f-a0e0-53e0299b4f22",
   "metadata": {},
   "source": [
    "# RESHAPE"
   ]
  },
  {
   "cell_type": "code",
   "execution_count": 76,
   "id": "a135ffaa-5df8-41fe-8145-0668bb2a2d73",
   "metadata": {},
   "outputs": [
    {
     "data": {
      "text/plain": [
       "array([1, 2, 3, 4, 5, 6, 7, 8, 9, 6, 6, 5, 4, 3, 2])"
      ]
     },
     "execution_count": 76,
     "metadata": {},
     "output_type": "execute_result"
    }
   ],
   "source": [
    "N=[1,2,3,4,5,6,7,8,9,6,6,5,4,3,2]\n",
    "N1=np.array(N)"
   ]
  },
  {
   "cell_type": "code",
   "execution_count": 71,
   "id": "4ede9585-d3f6-4764-a4e7-4b36b297fcd5",
   "metadata": {},
   "outputs": [
    {
     "data": {
      "text/plain": [
       "1"
      ]
     },
     "execution_count": 71,
     "metadata": {},
     "output_type": "execute_result"
    }
   ],
   "source": [
    "np.ndim(N)"
   ]
  },
  {
   "cell_type": "code",
   "execution_count": 81,
   "id": "7c0c2921-e55f-4d8c-8d39-b57a659af8a8",
   "metadata": {},
   "outputs": [
    {
     "data": {
      "text/plain": [
       "array([[1, 2, 3],\n",
       "       [4, 5, 6],\n",
       "       [7, 8, 9],\n",
       "       [6, 6, 5],\n",
       "       [4, 3, 2]])"
      ]
     },
     "execution_count": 81,
     "metadata": {},
     "output_type": "execute_result"
    }
   ],
   "source": [
    "N2=N1.reshape((5,3))\n",
    "N2"
   ]
  },
  {
   "cell_type": "code",
   "execution_count": 80,
   "id": "81c5e565-a09d-4bbd-9ea4-2a6a64324a4c",
   "metadata": {},
   "outputs": [
    {
     "data": {
      "text/plain": [
       "array([[1, 2, 3],\n",
       "       [4, 5, 6],\n",
       "       [7, 8, 9],\n",
       "       [6, 6, 5],\n",
       "       [4, 3, 2]])"
      ]
     },
     "execution_count": 80,
     "metadata": {},
     "output_type": "execute_result"
    }
   ],
   "source": [
    "import numpy as np\n",
    "N = [1,2,3,4,5,6,7,8,9,6,6,5,4,3,2]\n",
    "N_array = np.array(N)\n",
    "N1 = N_array.reshape((5, 3))\n",
    "N1\n"
   ]
  },
  {
   "cell_type": "code",
   "execution_count": 82,
   "id": "86751e1c-fb15-450c-8136-9e4ed50d05bd",
   "metadata": {},
   "outputs": [
    {
     "data": {
      "text/plain": [
       "array([ 2,  4,  6,  8, 10, 12, 14, 16, 18])"
      ]
     },
     "execution_count": 82,
     "metadata": {},
     "output_type": "execute_result"
    }
   ],
   "source": [
    "x=np.arange(2,20,2)\n",
    "x"
   ]
  },
  {
   "cell_type": "code",
   "execution_count": 84,
   "id": "eaa5c28f-e0db-4c53-85ba-4e98e89b4e0e",
   "metadata": {},
   "outputs": [
    {
     "data": {
      "text/plain": [
       "array([ 2,  4,  6,  8, 10, 12, 14, 16, 18])"
      ]
     },
     "execution_count": 84,
     "metadata": {},
     "output_type": "execute_result"
    }
   ],
   "source": [
    "R=np.array(x)\n",
    "R"
   ]
  },
  {
   "cell_type": "code",
   "execution_count": 86,
   "id": "b5816914-9b82-4021-8d85-ce486585b970",
   "metadata": {},
   "outputs": [
    {
     "data": {
      "text/plain": [
       "array([[ 2,  4,  6],\n",
       "       [ 8, 10, 12],\n",
       "       [14, 16, 18]])"
      ]
     },
     "execution_count": 86,
     "metadata": {},
     "output_type": "execute_result"
    }
   ],
   "source": [
    "y=R.reshape(3,3)\n",
    "y"
   ]
  },
  {
   "cell_type": "code",
   "execution_count": 88,
   "id": "e20c6921-61cc-4ce4-a993-407b4078e41f",
   "metadata": {},
   "outputs": [
    {
     "data": {
      "text/plain": [
       "(3, 3)"
      ]
     },
     "execution_count": 88,
     "metadata": {},
     "output_type": "execute_result"
    }
   ],
   "source": [
    "y.shape"
   ]
  },
  {
   "cell_type": "code",
   "execution_count": 89,
   "id": "f818d048-df57-416c-bae4-69095b59886b",
   "metadata": {},
   "outputs": [
    {
     "data": {
      "text/plain": [
       "2"
      ]
     },
     "execution_count": 89,
     "metadata": {},
     "output_type": "execute_result"
    }
   ],
   "source": [
    "y.ndim"
   ]
  },
  {
   "cell_type": "code",
   "execution_count": 94,
   "id": "66eba11d-c08f-45ae-9673-04c1a66c0628",
   "metadata": {},
   "outputs": [
    {
     "name": "stdout",
     "output_type": "stream",
     "text": [
      "[ 1  2  3  4  5  6  7  8  9 10 11 12 13 14 15 16]\n",
      "(16,)\n",
      "1\n"
     ]
    }
   ],
   "source": [
    "x=np.arange(1,17)\n",
    "print(x)\n",
    "print(x.shape)\n",
    "print(x.ndim)\n"
   ]
  },
  {
   "cell_type": "code",
   "execution_count": 95,
   "id": "9a7b4cb4-67a5-4c72-92a3-be5566e6fa2e",
   "metadata": {},
   "outputs": [
    {
     "name": "stdout",
     "output_type": "stream",
     "text": [
      "[[ 1  2]\n",
      " [ 3  4]\n",
      " [ 5  6]\n",
      " [ 7  8]\n",
      " [ 9 10]\n",
      " [11 12]\n",
      " [13 14]\n",
      " [15 16]]\n"
     ]
    }
   ],
   "source": [
    "r=x.reshape(8,2)\n",
    "print(r)"
   ]
  },
  {
   "cell_type": "code",
   "execution_count": 97,
   "id": "08c30b06-d018-4b2e-abab-549d862f9d30",
   "metadata": {},
   "outputs": [
    {
     "name": "stdout",
     "output_type": "stream",
     "text": [
      "[[ 1  2  3  4  5  6  7  8]\n",
      " [ 9 10 11 12 13 14 15 16]]\n"
     ]
    }
   ],
   "source": [
    "r=x.reshape(2,8)\n",
    "print(r)"
   ]
  },
  {
   "cell_type": "code",
   "execution_count": 98,
   "id": "d976a260-64a3-42d4-b462-abac1e66d4b7",
   "metadata": {},
   "outputs": [
    {
     "name": "stdout",
     "output_type": "stream",
     "text": [
      "[[ 1  2  3  4]\n",
      " [ 5  6  7  8]\n",
      " [ 9 10 11 12]\n",
      " [13 14 15 16]]\n"
     ]
    }
   ],
   "source": [
    "r=x.reshape(4,4)\n",
    "print(r)"
   ]
  },
  {
   "cell_type": "code",
   "execution_count": 99,
   "id": "ef575065-ffb2-490b-9574-a01ec51b6ea7",
   "metadata": {},
   "outputs": [
    {
     "name": "stdout",
     "output_type": "stream",
     "text": [
      "[[ 1]\n",
      " [ 2]\n",
      " [ 3]\n",
      " [ 4]\n",
      " [ 5]\n",
      " [ 6]\n",
      " [ 7]\n",
      " [ 8]\n",
      " [ 9]\n",
      " [10]\n",
      " [11]\n",
      " [12]\n",
      " [13]\n",
      " [14]\n",
      " [15]\n",
      " [16]]\n"
     ]
    }
   ],
   "source": [
    "r=x.reshape(16,1)\n",
    "print(r)"
   ]
  },
  {
   "cell_type": "code",
   "execution_count": 100,
   "id": "bec49a35-4258-4142-8893-aac58ba19bbe",
   "metadata": {},
   "outputs": [
    {
     "name": "stdout",
     "output_type": "stream",
     "text": [
      "[[[ 1]\n",
      "  [ 2]\n",
      "  [ 3]\n",
      "  [ 4]]\n",
      "\n",
      " [[ 5]\n",
      "  [ 6]\n",
      "  [ 7]\n",
      "  [ 8]]\n",
      "\n",
      " [[ 9]\n",
      "  [10]\n",
      "  [11]\n",
      "  [12]]\n",
      "\n",
      " [[13]\n",
      "  [14]\n",
      "  [15]\n",
      "  [16]]]\n"
     ]
    }
   ],
   "source": [
    "r=x.reshape(4,4,1)\n",
    "print(r)"
   ]
  },
  {
   "cell_type": "code",
   "execution_count": 101,
   "id": "d83d78db-f5e3-46d8-9ef5-bc8502cfa8dc",
   "metadata": {},
   "outputs": [
    {
     "name": "stdout",
     "output_type": "stream",
     "text": [
      "[[[ 1]\n",
      "  [ 2]]\n",
      "\n",
      " [[ 3]\n",
      "  [ 4]]\n",
      "\n",
      " [[ 5]\n",
      "  [ 6]]\n",
      "\n",
      " [[ 7]\n",
      "  [ 8]]\n",
      "\n",
      " [[ 9]\n",
      "  [10]]\n",
      "\n",
      " [[11]\n",
      "  [12]]\n",
      "\n",
      " [[13]\n",
      "  [14]]\n",
      "\n",
      " [[15]\n",
      "  [16]]]\n"
     ]
    }
   ],
   "source": [
    "r=x.reshape(8,2,1)\n",
    "print(r)"
   ]
  },
  {
   "cell_type": "code",
   "execution_count": 103,
   "id": "4b44bddd-b138-4b58-8cd7-5d43f8f121e7",
   "metadata": {},
   "outputs": [
    {
     "data": {
      "text/plain": [
       "3"
      ]
     },
     "execution_count": 103,
     "metadata": {},
     "output_type": "execute_result"
    }
   ],
   "source": [
    "r.ndim"
   ]
  },
  {
   "cell_type": "markdown",
   "id": "bddd0358-4777-46f6-8ed7-797ba08731e5",
   "metadata": {},
   "source": [
    "# Ravel"
   ]
  },
  {
   "cell_type": "code",
   "execution_count": 104,
   "id": "cb3d63eb-d81c-4b61-9e9a-ece796f237e8",
   "metadata": {},
   "outputs": [
    {
     "data": {
      "text/plain": [
       "array([ 1,  2,  3,  4,  5,  6,  7,  8,  9, 10, 11, 12, 13, 14, 15, 16])"
      ]
     },
     "execution_count": 104,
     "metadata": {},
     "output_type": "execute_result"
    }
   ],
   "source": [
    "#ravel:undo the reshape\n",
    "x.ravel()"
   ]
  },
  {
   "cell_type": "code",
   "execution_count": 105,
   "id": "f5919b93-4eee-431a-843e-03cf630062e3",
   "metadata": {},
   "outputs": [
    {
     "name": "stdout",
     "output_type": "stream",
     "text": [
      "[[[ 1]\n",
      "  [ 2]]\n",
      "\n",
      " [[ 3]\n",
      "  [ 4]]\n",
      "\n",
      " [[ 5]\n",
      "  [ 6]]\n",
      "\n",
      " [[ 7]\n",
      "  [ 8]]\n",
      "\n",
      " [[ 9]\n",
      "  [10]]\n",
      "\n",
      " [[11]\n",
      "  [12]]\n",
      "\n",
      " [[13]\n",
      "  [14]]\n",
      "\n",
      " [[15]\n",
      "  [16]]]\n"
     ]
    }
   ],
   "source": [
    "r=x.reshape(8,2,1)\n",
    "print(r)"
   ]
  },
  {
   "cell_type": "markdown",
   "id": "26e83ef1-37bf-4d31-aed6-28afe7875f26",
   "metadata": {},
   "source": [
    "# flatten"
   ]
  },
  {
   "cell_type": "code",
   "execution_count": 106,
   "id": "6e77c88c-967d-4cf5-9f3f-43ea36659c77",
   "metadata": {},
   "outputs": [
    {
     "data": {
      "text/plain": [
       "array([ 1,  2,  3,  4,  5,  6,  7,  8,  9, 10, 11, 12, 13, 14, 15, 16])"
      ]
     },
     "execution_count": 106,
     "metadata": {},
     "output_type": "execute_result"
    }
   ],
   "source": [
    "#converts to 1 dimension -flatten\n",
    "x.flatten()\n"
   ]
  },
  {
   "cell_type": "code",
   "execution_count": 108,
   "id": "8862a0ee-9f12-48fa-ae41-e8d7811f1df7",
   "metadata": {},
   "outputs": [
    {
     "name": "stdout",
     "output_type": "stream",
     "text": [
      "[12 12 13 14 15 16 17 18 19 20]\n"
     ]
    }
   ],
   "source": [
    "E=[12,12,13,14,15,16,17,18,19,20]\n",
    "E1=np.array(E)\n",
    "print(E1)"
   ]
  },
  {
   "cell_type": "code",
   "execution_count": 111,
   "id": "f104eb1f-8357-4885-9922-bc1330722549",
   "metadata": {},
   "outputs": [
    {
     "data": {
      "text/plain": [
       "array([[[12],\n",
       "        [12]],\n",
       "\n",
       "       [[13],\n",
       "        [14]],\n",
       "\n",
       "       [[15],\n",
       "        [16]],\n",
       "\n",
       "       [[17],\n",
       "        [18]],\n",
       "\n",
       "       [[19],\n",
       "        [20]]])"
      ]
     },
     "execution_count": 111,
     "metadata": {},
     "output_type": "execute_result"
    }
   ],
   "source": [
    "V=E1.reshape(5,2,1)\n",
    "V"
   ]
  },
  {
   "cell_type": "code",
   "execution_count": 116,
   "id": "8513f7ce-9d6b-47da-933e-d8b387625a04",
   "metadata": {},
   "outputs": [
    {
     "name": "stdout",
     "output_type": "stream",
     "text": [
      "16\n"
     ]
    }
   ],
   "source": [
    "print(V[2][1][0])"
   ]
  },
  {
   "cell_type": "code",
   "execution_count": 117,
   "id": "39617850-bcca-4b09-90b3-ec7c1453d244",
   "metadata": {},
   "outputs": [
    {
     "data": {
      "text/plain": [
       "array([[1, 2, 3],\n",
       "       [4, 5, 6],\n",
       "       [7, 8, 9]])"
      ]
     },
     "execution_count": 117,
     "metadata": {},
     "output_type": "execute_result"
    }
   ],
   "source": [
    "a=[1,2,3,4,5,6,7,8,9]\n",
    "a1=np.array(a)\n",
    "a1.reshape(3,3)"
   ]
  },
  {
   "cell_type": "code",
   "execution_count": 118,
   "id": "fdaa3c8b-992b-4c8e-bf99-4f05124cd18d",
   "metadata": {},
   "outputs": [
    {
     "data": {
      "text/plain": [
       "array([False, False, False, False,  True,  True,  True,  True,  True])"
      ]
     },
     "execution_count": 118,
     "metadata": {},
     "output_type": "execute_result"
    }
   ],
   "source": [
    "a1>4"
   ]
  },
  {
   "cell_type": "code",
   "execution_count": 120,
   "id": "2e3a1763-7107-49ee-aaa3-ea13177e8bd3",
   "metadata": {},
   "outputs": [
    {
     "data": {
      "text/plain": [
       "array([5, 6, 7, 8, 9])"
      ]
     },
     "execution_count": 120,
     "metadata": {},
     "output_type": "execute_result"
    }
   ],
   "source": [
    "a1[a1>4]"
   ]
  },
  {
   "cell_type": "markdown",
   "id": "6faef1b2-6c05-4389-8af3-e9b0cf24895f",
   "metadata": {},
   "source": [
    "# Transpose\n",
    "a1.transpose()"
   ]
  },
  {
   "cell_type": "code",
   "execution_count": 124,
   "id": "ee462055-05c9-4639-abf2-5785e7e6a1cb",
   "metadata": {},
   "outputs": [
    {
     "data": {
      "text/plain": [
       "array([[1, 2, 3],\n",
       "       [4, 5, 6],\n",
       "       [7, 8, 9]])"
      ]
     },
     "execution_count": 124,
     "metadata": {},
     "output_type": "execute_result"
    }
   ],
   "source": [
    "S=a1.reshape(3,3)\n",
    "S"
   ]
  },
  {
   "cell_type": "code",
   "execution_count": 126,
   "id": "9a113d54-ab17-4860-ac20-cfb5f043902a",
   "metadata": {},
   "outputs": [
    {
     "data": {
      "text/plain": [
       "array([[1, 4, 7],\n",
       "       [2, 5, 8],\n",
       "       [3, 6, 9]])"
      ]
     },
     "execution_count": 126,
     "metadata": {},
     "output_type": "execute_result"
    }
   ],
   "source": [
    "S.transpose()"
   ]
  },
  {
   "cell_type": "markdown",
   "id": "3b790d79-c484-4f5b-b396-fb5130629a6a",
   "metadata": {},
   "source": [
    "# Copy and View\n"
   ]
  },
  {
   "cell_type": "code",
   "execution_count": null,
   "id": "713d7dee-bcfa-4a81-ad95-330d4d0f98f1",
   "metadata": {},
   "outputs": [],
   "source": [
    "# The main difference between copy and view is that the copy is a new array and the view is just a view of the original array\n",
    "#The copy owns the data and does not affect any changes made to the original data when any change is made to the copy \n",
    "#The view does not own the data and will affect the originat data when any changes are made to the view"
   ]
  },
  {
   "cell_type": "code",
   "execution_count": 127,
   "id": "21fa0ee3-415a-40a1-b17c-c60fbef1d2a5",
   "metadata": {},
   "outputs": [
    {
     "data": {
      "text/plain": [
       "array([0, 1, 2, 3, 4, 5, 6, 7, 8, 9])"
      ]
     },
     "execution_count": 127,
     "metadata": {},
     "output_type": "execute_result"
    }
   ],
   "source": [
    "x1=np.arange(10)\n",
    "x1"
   ]
  },
  {
   "cell_type": "markdown",
   "id": "0fef4b26-be57-4fb9-aef6-cadd416b30aa",
   "metadata": {},
   "source": [
    "# View"
   ]
  },
  {
   "cell_type": "code",
   "execution_count": 128,
   "id": "6bf5e759-81b3-48ce-b974-973c51f1e788",
   "metadata": {},
   "outputs": [],
   "source": [
    "#view\n",
    "#Any changes made to the original data will affect the view and vice versa\n",
    "x2=x1"
   ]
  },
  {
   "cell_type": "code",
   "execution_count": 129,
   "id": "ad496b29-407e-40ba-8b9e-d430fbde5f7e",
   "metadata": {},
   "outputs": [
    {
     "name": "stdout",
     "output_type": "stream",
     "text": [
      "[0 1 2 3 4 5 6 7 8 9]\n",
      "[0 1 2 3 4 5 6 7 8 9]\n"
     ]
    }
   ],
   "source": [
    "print(x1)\n",
    "print(x2)\n"
   ]
  },
  {
   "cell_type": "code",
   "execution_count": 130,
   "id": "ae239fe8-ce36-48e5-87e0-d83cfd45c09a",
   "metadata": {},
   "outputs": [],
   "source": [
    "#now\n",
    "x2[0]=10"
   ]
  },
  {
   "cell_type": "code",
   "execution_count": 131,
   "id": "6e23b53f-23b5-4ac8-b2d8-a7b6c8123f35",
   "metadata": {},
   "outputs": [
    {
     "name": "stdout",
     "output_type": "stream",
     "text": [
      "[10  1  2  3  4  5  6  7  8  9]\n",
      "[10  1  2  3  4  5  6  7  8  9]\n"
     ]
    }
   ],
   "source": [
    "print(x1)\n",
    "print(x2)"
   ]
  },
  {
   "cell_type": "code",
   "execution_count": 132,
   "id": "75c5a9a6-1560-4edc-abf8-07e94598ce8e",
   "metadata": {},
   "outputs": [
    {
     "name": "stdout",
     "output_type": "stream",
     "text": [
      "2236077681584\n",
      "2236077681584\n"
     ]
    }
   ],
   "source": [
    "print(id(x1))\n",
    "print(id(x2))"
   ]
  },
  {
   "cell_type": "code",
   "execution_count": 133,
   "id": "3a298555-8747-4950-b7db-4fcffbcb1175",
   "metadata": {},
   "outputs": [
    {
     "data": {
      "text/plain": [
       "True"
      ]
     },
     "execution_count": 133,
     "metadata": {},
     "output_type": "execute_result"
    }
   ],
   "source": [
    "#check whether they shares the same memory\n",
    "np.shares_memory(x1,x2)"
   ]
  },
  {
   "cell_type": "code",
   "execution_count": 134,
   "id": "9bc12ad7-01d2-4809-97a8-61e4d96ce6c7",
   "metadata": {},
   "outputs": [
    {
     "data": {
      "text/plain": [
       "array([10,  1,  2,  3,  4,  5,  6,  7,  8,  9])"
      ]
     },
     "execution_count": 134,
     "metadata": {},
     "output_type": "execute_result"
    }
   ],
   "source": [
    "#create a view of x1 and store it in x3\n",
    "x3=x1.view()\n",
    "x3"
   ]
  },
  {
   "cell_type": "code",
   "execution_count": 135,
   "id": "098bd231-09b1-4e42-8de4-afe0cf0c6d7e",
   "metadata": {},
   "outputs": [
    {
     "data": {
      "text/plain": [
       "True"
      ]
     },
     "execution_count": 135,
     "metadata": {},
     "output_type": "execute_result"
    }
   ],
   "source": [
    "np.shares_memory(x1,x3)"
   ]
  },
  {
   "cell_type": "code",
   "execution_count": 136,
   "id": "016faee5-246f-44d5-8733-f4a3faa4ad94",
   "metadata": {},
   "outputs": [
    {
     "data": {
      "text/plain": [
       "array([100,   1,   2,   3,   4,   5,   6,   7,   8,   9])"
      ]
     },
     "execution_count": 136,
     "metadata": {},
     "output_type": "execute_result"
    }
   ],
   "source": [
    "#change 1st element x3=100\n",
    "x3[0]=100\n",
    "x3"
   ]
  },
  {
   "cell_type": "code",
   "execution_count": 137,
   "id": "2d8ed872-664f-420c-9086-a99d3b7aa6c8",
   "metadata": {},
   "outputs": [
    {
     "name": "stdout",
     "output_type": "stream",
     "text": [
      "[100   1   2   3   4   5   6   7   8   9]\n",
      "[100   1   2   3   4   5   6   7   8   9]\n"
     ]
    }
   ],
   "source": [
    "print(x1)\n",
    "print(x3)"
   ]
  },
  {
   "cell_type": "markdown",
   "id": "ab1916c7-0906-4127-bcd2-cc3892d5710b",
   "metadata": {},
   "source": [
    "# COPY"
   ]
  },
  {
   "cell_type": "code",
   "execution_count": 138,
   "id": "922ce5e7-c2ba-4833-831a-8944cacebe49",
   "metadata": {},
   "outputs": [
    {
     "data": {
      "text/plain": [
       "array([100,   1,   2,   3,   4,   5,   6,   7,   8,   9])"
      ]
     },
     "execution_count": 138,
     "metadata": {},
     "output_type": "execute_result"
    }
   ],
   "source": [
    "#now create an array x4 which is a copy of x1\n",
    "#ANy changes made to the original array will not affect the copy\n",
    "x4=np.copy(x1)\n",
    "x4"
   ]
  },
  {
   "cell_type": "code",
   "execution_count": 140,
   "id": "708df4c6-5ae4-425e-ae90-1ad985972b3c",
   "metadata": {},
   "outputs": [],
   "source": [
    "x4[-1]=900"
   ]
  },
  {
   "cell_type": "code",
   "execution_count": 143,
   "id": "cd92aa01-1bef-413b-a6e8-2ced058b757e",
   "metadata": {},
   "outputs": [
    {
     "name": "stdout",
     "output_type": "stream",
     "text": [
      "2236077681584\n",
      "2236076280304\n"
     ]
    }
   ],
   "source": [
    "print(id(x1))\n",
    "print(id(x4))"
   ]
  },
  {
   "cell_type": "code",
   "execution_count": 142,
   "id": "facf4e5a-41c5-433c-b8db-81cce2d7ae3b",
   "metadata": {},
   "outputs": [
    {
     "data": {
      "text/plain": [
       "False"
      ]
     },
     "execution_count": 142,
     "metadata": {},
     "output_type": "execute_result"
    }
   ],
   "source": [
    "np.shares_memory(x1,x4)"
   ]
  },
  {
   "cell_type": "code",
   "execution_count": 141,
   "id": "c8b2ce80-a7bc-45bb-9dbc-efb3e11ab764",
   "metadata": {},
   "outputs": [
    {
     "name": "stdout",
     "output_type": "stream",
     "text": [
      "[100   1   2   3   4   5   6   7   8   9]\n",
      "[100   1   2   3   4   5   6   7   8 900]\n"
     ]
    }
   ],
   "source": [
    "print(x1)\n",
    "print(x4)"
   ]
  },
  {
   "cell_type": "markdown",
   "id": "814b6d1e-3473-4d0e-a624-6e945888388e",
   "metadata": {},
   "source": [
    "\n",
    "# hstack and vstack funtion"
   ]
  },
  {
   "cell_type": "code",
   "execution_count": null,
   "id": "0292e90f-2763-4cd6-bc17-8de16876ade7",
   "metadata": {},
   "outputs": [],
   "source": [
    "#Numpy provides a helper function\n",
    "#Hstack :to stack along the rows \n",
    "#Vstack:tostack along the columns\n",
    "#Stacking=concat"
   ]
  },
  {
   "cell_type": "code",
   "execution_count": 146,
   "id": "a3d7b472-807e-4796-aa9d-5e78d3599cbe",
   "metadata": {},
   "outputs": [
    {
     "name": "stdout",
     "output_type": "stream",
     "text": [
      "[100   1   2   3   4   5   6   7   8   9]\n",
      "[100   1   2   3   4   5   6   7   8 900]\n"
     ]
    },
    {
     "data": {
      "text/plain": [
       "array([[100,   1,   2,   3,   4,   5,   6,   7,   8,   9],\n",
       "       [100,   1,   2,   3,   4,   5,   6,   7,   8, 900]])"
      ]
     },
     "execution_count": 146,
     "metadata": {},
     "output_type": "execute_result"
    }
   ],
   "source": [
    "#Vstack ----along columns\n",
    "print(x1)\n",
    "print(x4)\n",
    "np.vstack((x1,x4))\n"
   ]
  },
  {
   "cell_type": "code",
   "execution_count": 147,
   "id": "ab251439-467d-4502-8435-2a21308d9075",
   "metadata": {},
   "outputs": [
    {
     "name": "stdout",
     "output_type": "stream",
     "text": [
      "[100   1   2   3   4   5   6   7   8   9]\n",
      "[100   1   2   3   4   5   6   7   8 900]\n"
     ]
    },
    {
     "data": {
      "text/plain": [
       "array([100,   1,   2,   3,   4,   5,   6,   7,   8,   9, 100,   1,   2,\n",
       "         3,   4,   5,   6,   7,   8, 900])"
      ]
     },
     "execution_count": 147,
     "metadata": {},
     "output_type": "execute_result"
    }
   ],
   "source": [
    "#hstack ----along rows\n",
    "print(x1)\n",
    "print(x4)\n",
    "np.hstack((x1,x4))"
   ]
  },
  {
   "cell_type": "markdown",
   "id": "64ee08a6-ca81-489d-8830-30b5b5c531db",
   "metadata": {},
   "source": [
    "# Insert,add,delete"
   ]
  },
  {
   "cell_type": "code",
   "execution_count": 148,
   "id": "c8015f59-1cf3-42b9-ba0e-ebd38a0ba4f1",
   "metadata": {},
   "outputs": [
    {
     "name": "stdout",
     "output_type": "stream",
     "text": [
      "[100   1   2   3   4   5   6   7   8   9]\n",
      "[100   1   2   3   4   5   6   7   8 900]\n"
     ]
    }
   ],
   "source": [
    "print(x1)\n",
    "print(x4)"
   ]
  },
  {
   "cell_type": "code",
   "execution_count": 149,
   "id": "62ec5d02-203b-403a-9ae5-029e394b881b",
   "metadata": {},
   "outputs": [
    {
     "data": {
      "text/plain": [
       "array([100,   1,   2,   3, 100,   1,   2,   3,   4,   5,   6,   7,   8,\n",
       "       900,   4,   5,   6,   7,   8,   9])"
      ]
     },
     "execution_count": 149,
     "metadata": {},
     "output_type": "execute_result"
    }
   ],
   "source": [
    "#insert\n",
    "np.insert(x1,4,x4)"
   ]
  },
  {
   "cell_type": "code",
   "execution_count": 150,
   "id": "e0660acd-bdda-4d67-b637-397b26fe37fe",
   "metadata": {},
   "outputs": [
    {
     "name": "stdout",
     "output_type": "stream",
     "text": [
      "[100   1   2   3   4   5   6   7   8   9]\n"
     ]
    },
    {
     "data": {
      "text/plain": [
       "array([1, 2, 3, 4, 5, 6, 7, 8, 9])"
      ]
     },
     "execution_count": 150,
     "metadata": {},
     "output_type": "execute_result"
    }
   ],
   "source": [
    "#delete\n",
    "print(x2)\n",
    "np.delete(x2,0)"
   ]
  },
  {
   "cell_type": "code",
   "execution_count": 153,
   "id": "85a8a5bd-ce61-4ec7-92c8-f3473b265d21",
   "metadata": {},
   "outputs": [
    {
     "data": {
      "text/plain": [
       "array([211, 112, 113, 114, 115, 116, 117, 118, 119, 120])"
      ]
     },
     "execution_count": 153,
     "metadata": {},
     "output_type": "execute_result"
    }
   ],
   "source": [
    "#add\n",
    "np.add(x2,111)"
   ]
  },
  {
   "cell_type": "markdown",
   "id": "6db11eb3-9985-4158-aebf-27af0f0e6475",
   "metadata": {},
   "source": [
    "# Mathematical operations on numpy"
   ]
  },
  {
   "cell_type": "code",
   "execution_count": 154,
   "id": "b75d8a0d-e602-4ddd-b0b7-a9ca9846b621",
   "metadata": {},
   "outputs": [],
   "source": [
    "import numpy as np\n",
    "#defining a\n",
    "a=np.array([[1,2,3],[4,5,6],[7,8,9]])"
   ]
  },
  {
   "cell_type": "code",
   "execution_count": 155,
   "id": "b242de99-2812-4a9f-a780-f580f55bb8c9",
   "metadata": {},
   "outputs": [
    {
     "data": {
      "text/plain": [
       "array([[1, 2, 3],\n",
       "       [4, 5, 6],\n",
       "       [7, 8, 9]])"
      ]
     },
     "execution_count": 155,
     "metadata": {},
     "output_type": "execute_result"
    }
   ],
   "source": [
    "a"
   ]
  },
  {
   "cell_type": "code",
   "execution_count": 156,
   "id": "04c2bfa8-4fe7-4494-9646-54e656fc1188",
   "metadata": {},
   "outputs": [
    {
     "data": {
      "text/plain": [
       "array([[ 0.84147098,  0.90929743,  0.14112001],\n",
       "       [-0.7568025 , -0.95892427, -0.2794155 ],\n",
       "       [ 0.6569866 ,  0.98935825,  0.41211849]])"
      ]
     },
     "execution_count": 156,
     "metadata": {},
     "output_type": "execute_result"
    }
   ],
   "source": [
    "np.sin(a)"
   ]
  },
  {
   "cell_type": "code",
   "execution_count": 157,
   "id": "ab20df33-4356-4595-842c-c0f0c66b569b",
   "metadata": {},
   "outputs": [
    {
     "data": {
      "text/plain": [
       "array([[ 0.54030231, -0.41614684, -0.9899925 ],\n",
       "       [-0.65364362,  0.28366219,  0.96017029],\n",
       "       [ 0.75390225, -0.14550003, -0.91113026]])"
      ]
     },
     "execution_count": 157,
     "metadata": {},
     "output_type": "execute_result"
    }
   ],
   "source": [
    "np.cos(a)"
   ]
  },
  {
   "cell_type": "code",
   "execution_count": 160,
   "id": "8ac77698-9614-4be1-8e6a-e8640ac58c50",
   "metadata": {},
   "outputs": [
    {
     "data": {
      "text/plain": [
       "array([[ 1.55740772, -2.18503986, -0.14254654],\n",
       "       [ 1.15782128, -3.38051501, -0.29100619],\n",
       "       [ 0.87144798, -6.79971146, -0.45231566]])"
      ]
     },
     "execution_count": 160,
     "metadata": {},
     "output_type": "execute_result"
    }
   ],
   "source": [
    "Z=(np.sin(a))/(np.cos(a))\n",
    "Z"
   ]
  },
  {
   "cell_type": "code",
   "execution_count": 161,
   "id": "31419d5c-96ca-4301-b636-576688cca064",
   "metadata": {},
   "outputs": [
    {
     "name": "stdout",
     "output_type": "stream",
     "text": [
      "[[1 2 3]\n",
      " [4 5 6]\n",
      " [7 8 9]]\n"
     ]
    }
   ],
   "source": [
    "print(a)"
   ]
  },
  {
   "cell_type": "code",
   "execution_count": 162,
   "id": "f0414a94-3e72-4f16-bee4-f15f19377250",
   "metadata": {},
   "outputs": [
    {
     "data": {
      "text/plain": [
       "array([[2.71828183e+00, 7.38905610e+00, 2.00855369e+01],\n",
       "       [5.45981500e+01, 1.48413159e+02, 4.03428793e+02],\n",
       "       [1.09663316e+03, 2.98095799e+03, 8.10308393e+03]])"
      ]
     },
     "execution_count": 162,
     "metadata": {},
     "output_type": "execute_result"
    }
   ],
   "source": [
    "np.exp(a)"
   ]
  },
  {
   "cell_type": "code",
   "execution_count": 163,
   "id": "773cff2e-6207-464c-8413-80c1d71f35e4",
   "metadata": {},
   "outputs": [
    {
     "data": {
      "text/plain": [
       "45"
      ]
     },
     "execution_count": 163,
     "metadata": {},
     "output_type": "execute_result"
    }
   ],
   "source": [
    "#Print sum of elements in a\n",
    "np.sum(a)\n"
   ]
  },
  {
   "cell_type": "code",
   "execution_count": 164,
   "id": "786b84ad-7167-4a9f-bc49-47a7cd2993f4",
   "metadata": {},
   "outputs": [
    {
     "data": {
      "text/plain": [
       "array([ 6, 15, 24])"
      ]
     },
     "execution_count": 164,
     "metadata": {},
     "output_type": "execute_result"
    }
   ],
   "source": [
    "#print sum in array a columnwise\n",
    "np.sum(a,axis=1)"
   ]
  },
  {
   "cell_type": "code",
   "execution_count": 165,
   "id": "1e8794ab-802d-429f-a206-3ef3aa330791",
   "metadata": {},
   "outputs": [
    {
     "data": {
      "text/plain": [
       "array([12, 15, 18])"
      ]
     },
     "execution_count": 165,
     "metadata": {},
     "output_type": "execute_result"
    }
   ],
   "source": [
    "#print sum in array a rowwise\n",
    "np.sum(a,axis=0)"
   ]
  },
  {
   "cell_type": "markdown",
   "id": "487904c0-b747-4a6f-a950-4db473d3f506",
   "metadata": {},
   "source": [
    "# Statistics"
   ]
  },
  {
   "cell_type": "code",
   "execution_count": 166,
   "id": "c836f3e1-854c-4075-95df-99957d9946e3",
   "metadata": {},
   "outputs": [
    {
     "data": {
      "text/plain": [
       "5.0"
      ]
     },
     "execution_count": 166,
     "metadata": {},
     "output_type": "execute_result"
    }
   ],
   "source": [
    "np.mean(a)"
   ]
  },
  {
   "cell_type": "code",
   "execution_count": 167,
   "id": "6fe3144b-7fa8-4f5e-ac38-f6bb69b4e34c",
   "metadata": {},
   "outputs": [
    {
     "data": {
      "text/plain": [
       "5.0"
      ]
     },
     "execution_count": 167,
     "metadata": {},
     "output_type": "execute_result"
    }
   ],
   "source": [
    "np.median(a)"
   ]
  },
  {
   "cell_type": "code",
   "execution_count": 170,
   "id": "d0352e4b-d849-479d-ac41-28125e6f5557",
   "metadata": {},
   "outputs": [
    {
     "data": {
      "text/plain": [
       "2.581988897471611"
      ]
     },
     "execution_count": 170,
     "metadata": {},
     "output_type": "execute_result"
    }
   ],
   "source": [
    "np.std(a)"
   ]
  },
  {
   "cell_type": "code",
   "execution_count": 172,
   "id": "8554c3be-2ee1-4239-996d-b691a9e2b955",
   "metadata": {},
   "outputs": [
    {
     "data": {
      "text/plain": [
       "(array([0], dtype=int64), array([0], dtype=int64))"
      ]
     },
     "execution_count": 172,
     "metadata": {},
     "output_type": "execute_result"
    }
   ],
   "source": [
    "c=np.where(a==1)\n",
    "c"
   ]
  },
  {
   "cell_type": "code",
   "execution_count": 176,
   "id": "2d558354-2407-42c9-8f02-3c163ff4329f",
   "metadata": {},
   "outputs": [
    {
     "data": {
      "text/plain": [
       "array([20, 40, 35, 60, 50, 98])"
      ]
     },
     "execution_count": 176,
     "metadata": {},
     "output_type": "execute_result"
    }
   ],
   "source": [
    "d=[20,40,35,60,50,98]\n",
    "d1=np.array(d)\n",
    "d1"
   ]
  },
  {
   "cell_type": "code",
   "execution_count": 179,
   "id": "0f2a0293-025d-4908-9ecf-77d0e5f290be",
   "metadata": {},
   "outputs": [
    {
     "data": {
      "text/plain": [
       "(array([0, 1, 3, 4, 5], dtype=int64),)"
      ]
     },
     "execution_count": 179,
     "metadata": {},
     "output_type": "execute_result"
    }
   ],
   "source": [
    "#provides the index for those numbers which gives remainder 0 when divided by 2\n",
    "\n",
    "d2=np.where(d1%2==0)\n",
    "d2"
   ]
  },
  {
   "cell_type": "code",
   "execution_count": 180,
   "id": "6ffde87e-e589-42e6-aef1-6fd3b94284f8",
   "metadata": {},
   "outputs": [
    {
     "data": {
      "text/plain": [
       "array([ 0,  0,  0, 60,  0, 98])"
      ]
     },
     "execution_count": 180,
     "metadata": {},
     "output_type": "execute_result"
    }
   ],
   "source": [
    "np.where (d1>50 ,d1,0)"
   ]
  },
  {
   "cell_type": "code",
   "execution_count": 181,
   "id": "859bb203-30c3-47b7-ae94-a80c6e9f9c25",
   "metadata": {},
   "outputs": [
    {
     "data": {
      "text/plain": [
       "(array([3, 5], dtype=int64),)"
      ]
     },
     "execution_count": 181,
     "metadata": {},
     "output_type": "execute_result"
    }
   ],
   "source": [
    "np.where (d1>50)"
   ]
  },
  {
   "cell_type": "code",
   "execution_count": 183,
   "id": "91978e93-7858-4ab7-a373-2a777b390943",
   "metadata": {},
   "outputs": [
    {
     "name": "stdout",
     "output_type": "stream",
     "text": [
      "['__and__', '__class__', '__class_getitem__', '__contains__', '__delattr__', '__dir__', '__doc__', '__eq__', '__format__', '__ge__', '__getattribute__', '__getstate__', '__gt__', '__hash__', '__iand__', '__init__', '__init_subclass__', '__ior__', '__isub__', '__iter__', '__ixor__', '__le__', '__len__', '__lt__', '__ne__', '__new__', '__or__', '__rand__', '__reduce__', '__reduce_ex__', '__repr__', '__ror__', '__rsub__', '__rxor__', '__setattr__', '__sizeof__', '__str__', '__sub__', '__subclasshook__', '__xor__', 'add', 'clear', 'copy', 'difference', 'difference_update', 'discard', 'intersection', 'intersection_update', 'isdisjoint', 'issubset', 'issuperset', 'pop', 'remove', 'symmetric_difference', 'symmetric_difference_update', 'union', 'update']\n"
     ]
    }
   ],
   "source": [
    "#to know how many methods are there \n",
    "print(dir(set))"
   ]
  },
  {
   "cell_type": "code",
   "execution_count": 184,
   "id": "0d7f855b-1cac-4df6-9447-dcc5fbc75f9f",
   "metadata": {},
   "outputs": [
    {
     "name": "stdout",
     "output_type": "stream",
     "text": [
      "['__add__', '__class__', '__class_getitem__', '__contains__', '__delattr__', '__delitem__', '__dir__', '__doc__', '__eq__', '__format__', '__ge__', '__getattribute__', '__getitem__', '__getstate__', '__gt__', '__hash__', '__iadd__', '__imul__', '__init__', '__init_subclass__', '__iter__', '__le__', '__len__', '__lt__', '__mul__', '__ne__', '__new__', '__reduce__', '__reduce_ex__', '__repr__', '__reversed__', '__rmul__', '__setattr__', '__setitem__', '__sizeof__', '__str__', '__subclasshook__', 'append', 'clear', 'copy', 'count', 'extend', 'index', 'insert', 'pop', 'remove', 'reverse', 'sort']\n"
     ]
    }
   ],
   "source": [
    "print(dir(list))"
   ]
  },
  {
   "cell_type": "code",
   "execution_count": 185,
   "id": "21eb846a-6021-4cf9-9f46-aed4e783ea1a",
   "metadata": {},
   "outputs": [
    {
     "name": "stdout",
     "output_type": "stream",
     "text": [
      "['__class__', '__class_getitem__', '__contains__', '__delattr__', '__delitem__', '__dir__', '__doc__', '__eq__', '__format__', '__ge__', '__getattribute__', '__getitem__', '__getstate__', '__gt__', '__hash__', '__init__', '__init_subclass__', '__ior__', '__iter__', '__le__', '__len__', '__lt__', '__ne__', '__new__', '__or__', '__reduce__', '__reduce_ex__', '__repr__', '__reversed__', '__ror__', '__setattr__', '__setitem__', '__sizeof__', '__str__', '__subclasshook__', 'clear', 'copy', 'fromkeys', 'get', 'items', 'keys', 'pop', 'popitem', 'setdefault', 'update', 'values']\n"
     ]
    }
   ],
   "source": [
    "print(dir(dict))"
   ]
  },
  {
   "cell_type": "code",
   "execution_count": 186,
   "id": "03879090-ed95-44b8-a468-8f0b0897fbdb",
   "metadata": {},
   "outputs": [
    {
     "name": "stdout",
     "output_type": "stream",
     "text": [
      "['__add__', '__class__', '__class_getitem__', '__contains__', '__delattr__', '__dir__', '__doc__', '__eq__', '__format__', '__ge__', '__getattribute__', '__getitem__', '__getnewargs__', '__getstate__', '__gt__', '__hash__', '__init__', '__init_subclass__', '__iter__', '__le__', '__len__', '__lt__', '__mul__', '__ne__', '__new__', '__reduce__', '__reduce_ex__', '__repr__', '__rmul__', '__setattr__', '__sizeof__', '__str__', '__subclasshook__', 'count', 'index']\n"
     ]
    }
   ],
   "source": [
    "print(dir(tuple))"
   ]
  },
  {
   "cell_type": "code",
   "execution_count": null,
   "id": "a541bef1-6f37-4119-bf82-0947c329636b",
   "metadata": {},
   "outputs": [],
   "source": []
  },
  {
   "cell_type": "code",
   "execution_count": null,
   "id": "201fa930-eadd-49bd-b71e-ecdd39c0ae6b",
   "metadata": {},
   "outputs": [],
   "source": []
  },
  {
   "cell_type": "code",
   "execution_count": null,
   "id": "d9a6aa57-6094-44a1-a21b-1e637d488212",
   "metadata": {},
   "outputs": [],
   "source": []
  },
  {
   "cell_type": "code",
   "execution_count": null,
   "id": "2f5c9228-7059-458e-9b79-30f3809d7861",
   "metadata": {},
   "outputs": [],
   "source": []
  },
  {
   "cell_type": "code",
   "execution_count": null,
   "id": "ed7110ec-f78e-424a-9dc2-cd2e885f273b",
   "metadata": {},
   "outputs": [],
   "source": []
  },
  {
   "cell_type": "code",
   "execution_count": null,
   "id": "f94ce9d2-4a43-4362-88f2-c32b187c1789",
   "metadata": {},
   "outputs": [],
   "source": []
  },
  {
   "cell_type": "code",
   "execution_count": null,
   "id": "1ad63858-0043-47da-8464-d062312d112b",
   "metadata": {},
   "outputs": [],
   "source": []
  },
  {
   "cell_type": "code",
   "execution_count": null,
   "id": "0f3f673c-ef94-4f40-b4ba-b7c3749b7054",
   "metadata": {},
   "outputs": [],
   "source": []
  },
  {
   "cell_type": "code",
   "execution_count": null,
   "id": "607ad882-a8da-42a5-b567-450245569b64",
   "metadata": {},
   "outputs": [],
   "source": []
  },
  {
   "cell_type": "code",
   "execution_count": null,
   "id": "2c6bfb4d-99b6-420c-a0fc-6e32548c8e1a",
   "metadata": {},
   "outputs": [],
   "source": []
  },
  {
   "cell_type": "code",
   "execution_count": null,
   "id": "6d4a81ef-9d25-4981-b3f5-f5b7d5dd4bf3",
   "metadata": {},
   "outputs": [],
   "source": []
  },
  {
   "cell_type": "code",
   "execution_count": null,
   "id": "dad8a589-d911-4cef-84c8-1a5ebe7de23f",
   "metadata": {},
   "outputs": [],
   "source": []
  },
  {
   "cell_type": "code",
   "execution_count": null,
   "id": "577d73ab-9934-4082-b5bc-8463ae272437",
   "metadata": {},
   "outputs": [],
   "source": []
  },
  {
   "cell_type": "code",
   "execution_count": null,
   "id": "59210ccd-7c7a-4e9d-9949-e0044e795a31",
   "metadata": {},
   "outputs": [],
   "source": []
  },
  {
   "cell_type": "code",
   "execution_count": null,
   "id": "99ab209b-e3af-493f-a883-070c72da7931",
   "metadata": {},
   "outputs": [],
   "source": []
  },
  {
   "cell_type": "code",
   "execution_count": null,
   "id": "dadbec93-ab1c-42bd-8df6-f1843e8d85f7",
   "metadata": {},
   "outputs": [],
   "source": []
  },
  {
   "cell_type": "code",
   "execution_count": null,
   "id": "b13e36aa-c369-4ec2-ad69-eb0e8fed3e46",
   "metadata": {},
   "outputs": [],
   "source": []
  },
  {
   "cell_type": "code",
   "execution_count": null,
   "id": "110376e3-1088-4f6c-afac-cdbc036e55f8",
   "metadata": {},
   "outputs": [],
   "source": []
  },
  {
   "cell_type": "code",
   "execution_count": null,
   "id": "022e315f-e8bb-45a0-809e-e051f45f6b1c",
   "metadata": {},
   "outputs": [],
   "source": []
  },
  {
   "cell_type": "code",
   "execution_count": null,
   "id": "2dbf2eee-1af4-4505-b098-fbefe38b738d",
   "metadata": {},
   "outputs": [],
   "source": []
  },
  {
   "cell_type": "code",
   "execution_count": null,
   "id": "ac011959-1081-4931-93ca-6ed75e670a85",
   "metadata": {},
   "outputs": [],
   "source": []
  },
  {
   "cell_type": "code",
   "execution_count": null,
   "id": "6ee4640d-a534-45c9-9e8f-ea5de3937fd0",
   "metadata": {},
   "outputs": [],
   "source": []
  },
  {
   "cell_type": "code",
   "execution_count": null,
   "id": "076362a3-221e-441c-90a5-501edff8793a",
   "metadata": {},
   "outputs": [],
   "source": []
  },
  {
   "cell_type": "code",
   "execution_count": null,
   "id": "9afe8040-0da0-43b0-86b4-89018653ae98",
   "metadata": {},
   "outputs": [],
   "source": []
  },
  {
   "cell_type": "code",
   "execution_count": null,
   "id": "d44783d1-4742-4750-a2f8-ff9cdcc9890d",
   "metadata": {},
   "outputs": [],
   "source": []
  },
  {
   "cell_type": "code",
   "execution_count": null,
   "id": "85c8bd24-1309-40d1-8f27-ee591ff47c65",
   "metadata": {},
   "outputs": [],
   "source": []
  },
  {
   "cell_type": "code",
   "execution_count": null,
   "id": "6e845299-f64c-415e-b8d4-29cd4e27d6a7",
   "metadata": {},
   "outputs": [],
   "source": []
  },
  {
   "cell_type": "code",
   "execution_count": null,
   "id": "42c23f45-0e53-4a7d-a844-c48c5c26f733",
   "metadata": {},
   "outputs": [],
   "source": []
  },
  {
   "cell_type": "code",
   "execution_count": null,
   "id": "2e64798d-4bb9-476b-a6b6-96cf1daa785a",
   "metadata": {},
   "outputs": [],
   "source": []
  },
  {
   "cell_type": "code",
   "execution_count": null,
   "id": "2404ca5f-b555-4096-97bd-13a88031ee8f",
   "metadata": {},
   "outputs": [],
   "source": []
  },
  {
   "cell_type": "code",
   "execution_count": null,
   "id": "4b8e3015-531d-4646-b253-e50ca6eb4bf6",
   "metadata": {},
   "outputs": [],
   "source": []
  },
  {
   "cell_type": "code",
   "execution_count": null,
   "id": "492a3646-93d9-41c3-9c3c-0b963e006e7c",
   "metadata": {},
   "outputs": [],
   "source": []
  },
  {
   "cell_type": "code",
   "execution_count": null,
   "id": "8248e6a9-eb6c-4486-b8ce-74f5a0e5e812",
   "metadata": {},
   "outputs": [],
   "source": []
  },
  {
   "cell_type": "code",
   "execution_count": null,
   "id": "d4c64ac4-5e4b-4e6d-a146-554923176e88",
   "metadata": {},
   "outputs": [],
   "source": []
  },
  {
   "cell_type": "code",
   "execution_count": null,
   "id": "cb64e0bf-2610-46c0-802a-5641a55c508e",
   "metadata": {},
   "outputs": [],
   "source": []
  },
  {
   "cell_type": "code",
   "execution_count": null,
   "id": "a55b1f18-c3c3-4f56-9e27-8d45a5a4e0d0",
   "metadata": {},
   "outputs": [],
   "source": []
  },
  {
   "cell_type": "code",
   "execution_count": null,
   "id": "f9eee309-c743-4ff0-a6c3-16717a891fc2",
   "metadata": {},
   "outputs": [],
   "source": []
  },
  {
   "cell_type": "code",
   "execution_count": null,
   "id": "a3a55f90-d393-44e1-9dee-8693f86941a9",
   "metadata": {},
   "outputs": [],
   "source": []
  },
  {
   "cell_type": "code",
   "execution_count": null,
   "id": "54d6eac0-b95a-410d-b1f8-590ebe5539dc",
   "metadata": {},
   "outputs": [],
   "source": []
  },
  {
   "cell_type": "code",
   "execution_count": 3,
   "id": "0d9e9d44-8339-4d54-b33e-c919633f2030",
   "metadata": {},
   "outputs": [
    {
     "name": "stdout",
     "output_type": "stream",
     "text": [
      "[1 2 3]\n"
     ]
    }
   ],
   "source": [
    "import numpy as np\n",
    "a = np.array([1, 2, 3])\n",
    "print(a)"
   ]
  },
  {
   "cell_type": "code",
   "execution_count": 5,
   "id": "29514780-4258-4af1-b00d-403ae4482881",
   "metadata": {},
   "outputs": [
    {
     "data": {
      "text/plain": [
       "1"
      ]
     },
     "execution_count": 5,
     "metadata": {},
     "output_type": "execute_result"
    }
   ],
   "source": [
    "a.ndim"
   ]
  },
  {
   "cell_type": "code",
   "execution_count": 6,
   "id": "dcad2de2-0fbb-409c-8f72-02d659b22d76",
   "metadata": {},
   "outputs": [
    {
     "data": {
      "text/plain": [
       "(3,)"
      ]
     },
     "execution_count": 6,
     "metadata": {},
     "output_type": "execute_result"
    }
   ],
   "source": [
    "a.shape"
   ]
  },
  {
   "cell_type": "code",
   "execution_count": 21,
   "id": "fb8f47a4-1b97-49ab-ba13-e21ba2b04607",
   "metadata": {},
   "outputs": [
    {
     "name": "stdout",
     "output_type": "stream",
     "text": [
      "[[[1 2 3 4]\n",
      "  [5 6 7 8]]]\n",
      "<class 'numpy.ndarray'>\n"
     ]
    },
    {
     "data": {
      "text/plain": [
       "3"
      ]
     },
     "execution_count": 21,
     "metadata": {},
     "output_type": "execute_result"
    }
   ],
   "source": [
    "import numpy as np\n",
    "b=np.array([[(1,2,3,4),(5,6,7,8)]])\n",
    "print(b)\n",
    "print(type(b))\n",
    "b.ndim"
   ]
  },
  {
   "cell_type": "code",
   "execution_count": 14,
   "id": "4a29a42d-9050-4eac-971f-750d91c9c17b",
   "metadata": {},
   "outputs": [
    {
     "name": "stdout",
     "output_type": "stream",
     "text": [
      "[[['a' 'b' 'c' 'd']\n",
      "  ['e' 'f' 'g' 'h']\n",
      "  ['i' 'j' 'k' 'l']]]\n"
     ]
    }
   ],
   "source": [
    "import numpy as np\n",
    "c=np.array([[['a','b','c','d'],['e','f','g','h'],['i','j','k','l']]])\n",
    "print(c)"
   ]
  },
  {
   "cell_type": "code",
   "execution_count": 20,
   "id": "29e9a42b-870c-499c-b628-b302d541ccb8",
   "metadata": {},
   "outputs": [
    {
     "name": "stdout",
     "output_type": "stream",
     "text": [
      "3D Array:\n",
      "[[[ 1  2  3]\n",
      "  [ 4  5  6]]\n",
      "\n",
      " [[ 7  8  9]\n",
      "  [10 11 12]]]\n"
     ]
    },
    {
     "data": {
      "text/plain": [
       "3"
      ]
     },
     "execution_count": 20,
     "metadata": {},
     "output_type": "execute_result"
    }
   ],
   "source": [
    "\n",
    "array_3d = np.array([[[1, 2, 3], [4, 5, 6]],\n",
    "                     [[7, 8, 9], [10, 11, 12]]])\n",
    "print(\"3D Array:\")\n",
    "print(array_3d)\n",
    "array_3d[0,1,1]\n",
    "array_3d.ndim"
   ]
  },
  {
   "cell_type": "code",
   "execution_count": 31,
   "id": "9f66f3e5-c9fa-46a6-b857-ac434fe0ebf1",
   "metadata": {},
   "outputs": [
    {
     "name": "stdout",
     "output_type": "stream",
     "text": [
      "[[['a' 'b' 'c' 'd']\n",
      "  ['e' 'f' 'g' 'h']\n",
      "  ['i' 'j' 'k' 'l']]]\n"
     ]
    },
    {
     "data": {
      "text/plain": [
       "'f'"
      ]
     },
     "execution_count": 31,
     "metadata": {},
     "output_type": "execute_result"
    }
   ],
   "source": [
    "import numpy as np\n",
    "\n",
    "c = np.array([[[ 'a', 'b', 'c', 'd'], \n",
    "               [ 'e', 'f', 'g', 'h'], \n",
    "               [ 'i', 'j', 'k', 'l']]])\n",
    "print(c)\n",
    "c.ndim\n",
    "c[0,1,1]"
   ]
  },
  {
   "cell_type": "code",
   "execution_count": 27,
   "id": "abeb3384-7a04-4930-b454-b2a8d4c63557",
   "metadata": {},
   "outputs": [
    {
     "name": "stdout",
     "output_type": "stream",
     "text": [
      "2D Array:\n",
      "[[1 2 3]\n",
      " [4 5 6]\n",
      " [7 8 9]]\n"
     ]
    },
    {
     "data": {
      "text/plain": [
       "5"
      ]
     },
     "execution_count": 27,
     "metadata": {},
     "output_type": "execute_result"
    }
   ],
   "source": [
    "\n",
    "D2_array = np.array([[1, 2, 3], [4, 5, 6], [7, 8, 9]])\n",
    "print(\"2D Array:\")\n",
    "print(D2_array)\n",
    "\n",
    "D2_array[1,1]"
   ]
  },
  {
   "cell_type": "code",
   "execution_count": 32,
   "id": "82579132-624e-4646-9af2-27e076cee72d",
   "metadata": {},
   "outputs": [
    {
     "data": {
      "text/plain": [
       "(3, 3)"
      ]
     },
     "execution_count": 32,
     "metadata": {},
     "output_type": "execute_result"
    }
   ],
   "source": [
    "D2_array.shape"
   ]
  },
  {
   "cell_type": "code",
   "execution_count": 33,
   "id": "a2d1d6fb-ffec-4a36-8bad-5feb832519da",
   "metadata": {},
   "outputs": [
    {
     "data": {
      "text/plain": [
       "dtype('int32')"
      ]
     },
     "execution_count": 33,
     "metadata": {},
     "output_type": "execute_result"
    }
   ],
   "source": [
    "D2_array.dtype"
   ]
  },
  {
   "cell_type": "code",
   "execution_count": 34,
   "id": "df29d7a7-b973-4c15-a8c2-d342668e3d0d",
   "metadata": {},
   "outputs": [
    {
     "data": {
      "text/plain": [
       "2"
      ]
     },
     "execution_count": 34,
     "metadata": {},
     "output_type": "execute_result"
    }
   ],
   "source": [
    "D2_array.ndim"
   ]
  },
  {
   "cell_type": "code",
   "execution_count": 35,
   "id": "77585b39-dba1-4335-8aba-b8c0c2062ea2",
   "metadata": {},
   "outputs": [
    {
     "data": {
      "text/plain": [
       "4"
      ]
     },
     "execution_count": 35,
     "metadata": {},
     "output_type": "execute_result"
    }
   ],
   "source": [
    "D2_array.itemsize"
   ]
  },
  {
   "cell_type": "code",
   "execution_count": 36,
   "id": "2a48dcc3-5491-46b8-961d-70d8bdabadf7",
   "metadata": {},
   "outputs": [
    {
     "data": {
      "text/plain": [
       "36"
      ]
     },
     "execution_count": 36,
     "metadata": {},
     "output_type": "execute_result"
    }
   ],
   "source": [
    "D2_array.nbytes"
   ]
  },
  {
   "cell_type": "code",
   "execution_count": 7,
   "id": "37203b4b-24df-4181-ac12-b4ec7fed2721",
   "metadata": {},
   "outputs": [
    {
     "data": {
      "text/plain": [
       "0"
      ]
     },
     "execution_count": 7,
     "metadata": {},
     "output_type": "execute_result"
    }
   ],
   "source": [
    "import numpy as np\n",
    "\n",
    "e=np.array(3)\n",
    "e.ndim\n"
   ]
  },
  {
   "cell_type": "code",
   "execution_count": 8,
   "id": "3e9a4527-3e88-496e-a848-64ec01899743",
   "metadata": {},
   "outputs": [
    {
     "data": {
      "text/plain": [
       "1"
      ]
     },
     "execution_count": 8,
     "metadata": {},
     "output_type": "execute_result"
    }
   ],
   "source": [
    "# 1 dimension\n",
    "D=np.array([1,2,3,4])\n",
    "D\n",
    "D.ndim"
   ]
  },
  {
   "cell_type": "code",
   "execution_count": 9,
   "id": "3422d770-7065-4716-aea0-343fa7353785",
   "metadata": {},
   "outputs": [
    {
     "data": {
      "text/plain": [
       "2"
      ]
     },
     "execution_count": 9,
     "metadata": {},
     "output_type": "execute_result"
    }
   ],
   "source": [
    "#2 dimension\n",
    "T=np.array([[2,3],[4,5]])\n",
    "T.ndim"
   ]
  },
  {
   "cell_type": "code",
   "execution_count": 10,
   "id": "5ea7f861-fc34-4590-9394-8ec467d058a7",
   "metadata": {},
   "outputs": [
    {
     "data": {
      "text/plain": [
       "3"
      ]
     },
     "execution_count": 10,
     "metadata": {},
     "output_type": "execute_result"
    }
   ],
   "source": [
    "#3 dimension\n",
    "R=np.array([[[1,2,3],[9,8,7],[4,5,6]]])\n",
    "R.ndim"
   ]
  },
  {
   "cell_type": "code",
   "execution_count": 12,
   "id": "d92f1b46-c432-45a4-ba27-56822e6a1a6f",
   "metadata": {},
   "outputs": [
    {
     "data": {
      "text/plain": [
       "array([ 11,  22,  33, 444])"
      ]
     },
     "execution_count": 12,
     "metadata": {},
     "output_type": "execute_result"
    }
   ],
   "source": [
    "#Accesing Array elements:Indexing\n",
    "#0th location\n",
    "S=np.array([11,22,33,444])\n",
    "S"
   ]
  },
  {
   "cell_type": "code",
   "execution_count": 13,
   "id": "c3de5e54-dadf-448b-ba65-422a1beabc29",
   "metadata": {},
   "outputs": [
    {
     "data": {
      "text/plain": [
       "22"
      ]
     },
     "execution_count": 13,
     "metadata": {},
     "output_type": "execute_result"
    }
   ],
   "source": [
    "S[1]"
   ]
  },
  {
   "cell_type": "code",
   "execution_count": 19,
   "id": "8c86f261-0bf3-4a7b-9cbd-d959d4646c0b",
   "metadata": {},
   "outputs": [
    {
     "data": {
      "text/plain": [
       "array([[[23, 34, 35],\n",
       "        [56, 78, 98]],\n",
       "\n",
       "       [[12, 33, 44],\n",
       "        [56, 78, 98]]])"
      ]
     },
     "execution_count": 19,
     "metadata": {},
     "output_type": "execute_result"
    }
   ],
   "source": [
    "import numpy as np\n",
    "F=np.array([[[23,34,35],[56,78,98]],[[12,33,44],[56,78,98]]])\n",
    "F"
   ]
  },
  {
   "cell_type": "code",
   "execution_count": 20,
   "id": "9c4c5bf9-d1e2-471c-b57a-6c6d4a355287",
   "metadata": {},
   "outputs": [
    {
     "data": {
      "text/plain": [
       "3"
      ]
     },
     "execution_count": 20,
     "metadata": {},
     "output_type": "execute_result"
    }
   ],
   "source": [
    "F.ndim"
   ]
  },
  {
   "cell_type": "code",
   "execution_count": 21,
   "id": "dc455468-7797-4735-bc7e-6034e9dadd09",
   "metadata": {},
   "outputs": [
    {
     "data": {
      "text/plain": [
       "array([[[23, 34, 35],\n",
       "        [56, 78, 98]],\n",
       "\n",
       "       [[12, 33, 44],\n",
       "        [56, 78, 98]],\n",
       "\n",
       "       [[45, 67, 88],\n",
       "        [76, 54, 21]]])"
      ]
     },
     "execution_count": 21,
     "metadata": {},
     "output_type": "execute_result"
    }
   ],
   "source": [
    "C=np.array([[[23,34,35],[56,78,98]],[[12,33,44],[56,78,98]],[[45,67,88],[76,54,21]]])\n",
    "C"
   ]
  },
  {
   "cell_type": "code",
   "execution_count": 22,
   "id": "5a88a092-8ccb-44bc-b077-e95fd7103c39",
   "metadata": {},
   "outputs": [
    {
     "data": {
      "text/plain": [
       "3"
      ]
     },
     "execution_count": 22,
     "metadata": {},
     "output_type": "execute_result"
    }
   ],
   "source": [
    "C.ndim"
   ]
  },
  {
   "cell_type": "code",
   "execution_count": 24,
   "id": "bc87e03f-ad7d-4873-aaa0-bc426df7e3dd",
   "metadata": {},
   "outputs": [
    {
     "data": {
      "text/plain": [
       "78"
      ]
     },
     "execution_count": 24,
     "metadata": {},
     "output_type": "execute_result"
    }
   ],
   "source": [
    "C[0,1,1]"
   ]
  },
  {
   "cell_type": "code",
   "execution_count": 6,
   "id": "0b8aac2f-3696-492d-ba12-48d56472a684",
   "metadata": {},
   "outputs": [
    {
     "data": {
      "text/plain": [
       "array([[[23, 34, 35],\n",
       "        [56, 78, 98],\n",
       "        [22, 44, 55]],\n",
       "\n",
       "       [[12, 33, 44],\n",
       "        [56, 78, 98],\n",
       "        [77, 88, 99]],\n",
       "\n",
       "       [[45, 67, 88],\n",
       "        [76, 54, 21],\n",
       "        [74, 68, 90]],\n",
       "\n",
       "       [[45, 67, 88],\n",
       "        [76, 54, 21],\n",
       "        [74, 68, 90]]])"
      ]
     },
     "execution_count": 6,
     "metadata": {},
     "output_type": "execute_result"
    }
   ],
   "source": [
    "import numpy as np\n",
    "R=np.array([[[23,34,35],[56,78,98],[22,44,55]],[[12,33,44],[56,78,98],[77,88,99]],[[45,67,88],[76,54,21],[74,68,90]],[[45,67,88],[76,54,21],[74,68,90]]])\n",
    "R"
   ]
  },
  {
   "cell_type": "code",
   "execution_count": 7,
   "id": "cdaf9763-0414-4f2d-ad85-e6ab9d2ebed6",
   "metadata": {},
   "outputs": [
    {
     "data": {
      "text/plain": [
       "3"
      ]
     },
     "execution_count": 7,
     "metadata": {},
     "output_type": "execute_result"
    }
   ],
   "source": [
    "R.ndim"
   ]
  },
  {
   "cell_type": "code",
   "execution_count": 8,
   "id": "26f10dd4-085f-48f3-bd2b-2d367fabb711",
   "metadata": {},
   "outputs": [
    {
     "data": {
      "text/plain": [
       "98"
      ]
     },
     "execution_count": 8,
     "metadata": {},
     "output_type": "execute_result"
    }
   ],
   "source": [
    "R[1,1,2]"
   ]
  },
  {
   "cell_type": "code",
   "execution_count": 9,
   "id": "649a0ec6-93bc-4873-8273-e9debda01c0d",
   "metadata": {},
   "outputs": [
    {
     "data": {
      "text/plain": [
       "(4, 3, 3)"
      ]
     },
     "execution_count": 9,
     "metadata": {},
     "output_type": "execute_result"
    }
   ],
   "source": [
    "R.shape"
   ]
  },
  {
   "cell_type": "code",
   "execution_count": null,
   "id": "27249235-f7ee-4081-9bdf-418f8adbc3ec",
   "metadata": {},
   "outputs": [],
   "source": []
  },
  {
   "cell_type": "code",
   "execution_count": null,
   "id": "19a65606-cd0e-42a8-aa8c-91e39db18a56",
   "metadata": {},
   "outputs": [],
   "source": []
  },
  {
   "cell_type": "code",
   "execution_count": null,
   "id": "b8107fa3-975a-4dd3-90f8-e75da444da7e",
   "metadata": {},
   "outputs": [],
   "source": []
  },
  {
   "cell_type": "code",
   "execution_count": null,
   "id": "39762a92-ebc0-4876-9f1a-cb48aea62e1c",
   "metadata": {},
   "outputs": [],
   "source": []
  },
  {
   "cell_type": "code",
   "execution_count": null,
   "id": "3abe4dfe-30ea-4648-b1db-00f03d608feb",
   "metadata": {},
   "outputs": [],
   "source": []
  },
  {
   "cell_type": "code",
   "execution_count": null,
   "id": "eac63b22-70cd-423f-b858-c20ba3894099",
   "metadata": {},
   "outputs": [],
   "source": []
  },
  {
   "cell_type": "code",
   "execution_count": null,
   "id": "0ea13d39-96c6-4119-be68-c7a18ea52a34",
   "metadata": {},
   "outputs": [],
   "source": []
  },
  {
   "cell_type": "code",
   "execution_count": null,
   "id": "924d80f3-3779-4a6b-95fd-344c5aa4d7d6",
   "metadata": {},
   "outputs": [],
   "source": []
  },
  {
   "cell_type": "code",
   "execution_count": null,
   "id": "260c4a4f-e1ee-4feb-9667-c117c70da7b5",
   "metadata": {},
   "outputs": [],
   "source": []
  },
  {
   "cell_type": "code",
   "execution_count": null,
   "id": "a3c464b6-bb1a-41e7-befd-ef480813d15c",
   "metadata": {},
   "outputs": [],
   "source": []
  },
  {
   "cell_type": "code",
   "execution_count": null,
   "id": "d81a70d5-6452-4f1d-9b74-3aa6e17a1d91",
   "metadata": {},
   "outputs": [],
   "source": []
  },
  {
   "cell_type": "code",
   "execution_count": null,
   "id": "d8a4a7cc-0b92-4f98-83f1-87ce632d3fcd",
   "metadata": {},
   "outputs": [],
   "source": []
  },
  {
   "cell_type": "code",
   "execution_count": 19,
   "id": "e7ffa2e1-7fa2-4533-8b8d-9649571a9e66",
   "metadata": {},
   "outputs": [
    {
     "name": "stdout",
     "output_type": "stream",
     "text": [
      "json_data:\n",
      "{'Name': 'Sneha', 'Age': 25, 'Gender': 'Femalle'}\n",
      "Name: Sneha\n",
      "Age: 25\n",
      "Gender: Femalle\n"
     ]
    }
   ],
   "source": [
    "import json \n",
    "json_obj='{\"Name\": \"Sneha\",\"Age\":25,\"Gender\":\"Femalle\"}'\n",
    "python_obj=json.loads(json_obj)\n",
    "print('json_data:')\n",
    "print(python_obj)\n",
    "print('Name:',python_obj['Name'])\n",
    "print('Age:',python_obj['Age'])\n",
    "print('Gender:',python_obj['Gender'])\n"
   ]
  },
  {
   "cell_type": "code",
   "execution_count": null,
   "id": "3f73e5fe-6675-486a-ab11-1b3bc1cbb5f5",
   "metadata": {},
   "outputs": [],
   "source": []
  },
  {
   "cell_type": "code",
   "execution_count": null,
   "id": "2eb6867a-5ff9-4ad2-bc71-49ac18efe960",
   "metadata": {},
   "outputs": [],
   "source": []
  },
  {
   "cell_type": "code",
   "execution_count": null,
   "id": "1e8860d6-2e56-4fef-9e92-80d13625789e",
   "metadata": {},
   "outputs": [],
   "source": []
  },
  {
   "cell_type": "code",
   "execution_count": null,
   "id": "0e93cf46-dd64-4906-b570-5dfd9dd26462",
   "metadata": {},
   "outputs": [],
   "source": []
  },
  {
   "cell_type": "code",
   "execution_count": null,
   "id": "a9740cdf-662e-4cbb-b56f-207d41d8a5ee",
   "metadata": {},
   "outputs": [],
   "source": []
  }
 ],
 "metadata": {
  "kernelspec": {
   "display_name": "Python 3 (ipykernel)",
   "language": "python",
   "name": "python3"
  },
  "language_info": {
   "codemirror_mode": {
    "name": "ipython",
    "version": 3
   },
   "file_extension": ".py",
   "mimetype": "text/x-python",
   "name": "python",
   "nbconvert_exporter": "python",
   "pygments_lexer": "ipython3",
   "version": "3.12.4"
  }
 },
 "nbformat": 4,
 "nbformat_minor": 5
}
