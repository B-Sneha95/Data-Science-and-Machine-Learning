{
 "cells": [
  {
   "cell_type": "code",
   "execution_count": 3,
   "id": "51f641a1-eeb6-4666-a685-3de9216d39ea",
   "metadata": {},
   "outputs": [
    {
     "name": "stdout",
     "output_type": "stream",
     "text": [
      "Helloworld\n"
     ]
    }
   ],
   "source": [
    "print(\"Helloworld\")"
   ]
  },
  {
   "cell_type": "code",
   "execution_count": 2,
   "id": "7443d8ea-5d3f-40cc-9bdf-9fd5ad701d6d",
   "metadata": {},
   "outputs": [
    {
     "name": "stderr",
     "output_type": "stream",
     "text": [
      "Matplotlib is building the font cache; this may take a moment.\n"
     ]
    },
    {
     "data": {
      "image/png": "[encoded data removed]",
      "text/plain": [
       "<Figure size 640x480 with 1 Axes>"
      ]
     },
     "metadata": {},
     "output_type": "display_data"
    }
   ],
   "source": [
    "\n",
    "import matplotlib.pyplot as plt\n",
    "\n",
    "categories = ['Technology', 'Office Supplies', 'Furniture']\n",
    "values = [5000, 10000, 15000]\n",
    "\n",
    "plt.bar(categories, values, color='skyblue')\n",
    "\n",
    "plt.title(\"Bar Chart: Compare data across different categories\")\n",
    "plt.xlabel(\"Categories\")\n",
    "plt.ylabel(\"Values\")\n",
    "plt.show()\n"
   ]
  },
  {
   "cell_type": "code",
   "execution_count": 2,
   "id": "026e72be-3b8d-4ef3-9b06-b6425718b54a",
   "metadata": {},
   "outputs": [
    {
     "name": "stdout",
     "output_type": "stream",
     "text": [
      "sneha\n"
     ]
    }
   ],
   "source": [
    "print(\"sneha\")"
   ]
  },
  {
   "cell_type": "code",
   "execution_count": 3,
   "id": "caf07ee6-0152-425f-abeb-7092fd37fb7f",
   "metadata": {},
   "outputs": [
    {
     "name": "stdout",
     "output_type": "stream",
     "text": [
      "SNEHA\n"
     ]
    }
   ],
   "source": [
    "print(\"SNEHA\")\n"
   ]
  },
  {
   "cell_type": "code",
   "execution_count": 5,
   "id": "4286d01c-47ea-49ad-a83b-e4a6e212e372",
   "metadata": {},
   "outputs": [
    {
     "name": "stdout",
     "output_type": "stream",
     "text": [
      "7.9\n"
     ]
    }
   ],
   "source": [
    "x=3\n",
    "y=4.9\n",
    "print(x+y)\n"
   ]
  },
  {
   "cell_type": "code",
   "execution_count": 6,
   "id": "2d920018-6de0-43a4-9455-20852b8993ad",
   "metadata": {},
   "outputs": [
    {
     "name": "stdout",
     "output_type": "stream",
     "text": [
      "snehaAbhilash\n"
     ]
    }
   ],
   "source": [
    "x=\"sneha\"\n",
    "y=\"Abhilash\"\n",
    "print(x+y)"
   ]
  },
  {
   "cell_type": "code",
   "execution_count": 20,
   "id": "373a4054-4cb3-4791-a07d-eb35ad89152d",
   "metadata": {},
   "outputs": [
    {
     "data": {
      "text/plain": [
       "'sneha'"
      ]
     },
     "execution_count": 20,
     "metadata": {},
     "output_type": "execute_result"
    }
   ],
   "source": [
    "#list\n",
    "list=[1,2,3,4,5, \"sneha\"]\n",
    "list[5]"
   ]
  },
  {
   "cell_type": "code",
   "execution_count": 19,
   "id": "c64a9c8e-19ea-4266-9771-85a3be29fc0a",
   "metadata": {},
   "outputs": [
    {
     "data": {
      "text/plain": [
       "3666"
      ]
     },
     "execution_count": 19,
     "metadata": {},
     "output_type": "execute_result"
    }
   ],
   "source": [
    "#tuple\n",
    "tuple=(1,2,3666,578)\n",
    "tuple[2]"
   ]
  },
  {
   "cell_type": "code",
   "execution_count": 30,
   "id": "56662ce9-2124-41bb-a673-cca88368a4ee",
   "metadata": {},
   "outputs": [
    {
     "name": "stdout",
     "output_type": "stream",
     "text": [
      "100\n"
     ]
    }
   ],
   "source": [
    "#dictionary\n",
    "dic={\"a\":100, \"v\":50}\n",
    "print(dic[\"a\"])"
   ]
  },
  {
   "cell_type": "code",
   "execution_count": 25,
   "id": "2b78f350-8a85-4540-b514-0a9a492a207e",
   "metadata": {},
   "outputs": [
    {
     "name": "stdout",
     "output_type": "stream",
     "text": [
      "{1, 2, 5, 6}\n"
     ]
    }
   ],
   "source": [
    "#set\n",
    "s={1,2,5,6,1}\n",
    "print(s)"
   ]
  },
  {
   "cell_type": "code",
   "execution_count": 43,
   "id": "fbbd2e48-f978-425b-85b8-45bd0062e5b7",
   "metadata": {},
   "outputs": [
    {
     "ename": "SyntaxError",
     "evalue": "cannot assign to function call here. Maybe you meant '==' instead of '='? (2712001830.py, line 3)",
     "output_type": "error",
     "traceback": [
      "\u001b[1;36m  Cell \u001b[1;32mIn[43], line 3\u001b[1;36m\u001b[0m\n\u001b[1;33m    v(3)=0\u001b[0m\n\u001b[1;37m    ^\u001b[0m\n\u001b[1;31mSyntaxError\u001b[0m\u001b[1;31m:\u001b[0m cannot assign to function call here. Maybe you meant '==' instead of '='?\n"
     ]
    }
   ],
   "source": [
    "v=(11,11,22,33,44,55)\n",
    "print(type(v))\n",
    "v(3)=0\n",
    "print(v)"
   ]
  },
  {
   "cell_type": "code",
   "execution_count": 37,
   "id": "bb544367-8124-4cc4-a06c-b291fb9037e9",
   "metadata": {},
   "outputs": [
    {
     "name": "stdout",
     "output_type": "stream",
     "text": [
      "friend\n",
      "10 30\n",
      "<class 'int'>\n",
      "<class 'str'>\n"
     ]
    }
   ],
   "source": [
    "x=10 \n",
    "y=30\n",
    "abc=\"friend\"\n",
    "print(abc)\n",
    "print(x,y)\n",
    "print( type(x))\n",
    "print(type(abc))"
   ]
  },
  {
   "cell_type": "code",
   "execution_count": 51,
   "id": "7abf5a8c-3585-461f-a60f-df5d61198ac7",
   "metadata": {},
   "outputs": [
    {
     "name": "stdout",
     "output_type": "stream",
     "text": [
      "False\n",
      "True\n"
     ]
    }
   ],
   "source": [
    "#boolean\n",
    "x=10\n",
    "y=20\n",
    "print(x==y)\n",
    "print(bool(x!=y))"
   ]
  },
  {
   "cell_type": "code",
   "execution_count": 54,
   "id": "744ad4b7-20b0-41f9-a6ac-5963c0493b40",
   "metadata": {},
   "outputs": [
    {
     "name": "stdout",
     "output_type": "stream",
     "text": [
      "DSML\n"
     ]
    }
   ],
   "source": [
    "str=\"DSML\"\n",
    "print(str)\n"
   ]
  },
  {
   "cell_type": "code",
   "execution_count": 61,
   "id": "907bd695-52be-439e-9c10-13e5236bb515",
   "metadata": {},
   "outputs": [
    {
     "name": "stdout",
     "output_type": "stream",
     "text": [
      "<class 'str'>\n",
      "sneha\n"
     ]
    }
   ],
   "source": [
    "a='sneha'\n",
    "print(type(a))\n",
    "print(a)"
   ]
  },
  {
   "cell_type": "code",
   "execution_count": 40,
   "id": "34e43c02-e746-4c44-b0d2-c566b046be10",
   "metadata": {},
   "outputs": [
    {
     "name": "stdout",
     "output_type": "stream",
     "text": [
      "<class 'list'>\n",
      "[45, 67, 33, 100]\n"
     ]
    }
   ],
   "source": [
    "a=[45,67,89,100]\n",
    "print(type(a))\n",
    "a[2]=33\n",
    "print(a)"
   ]
  },
  {
   "cell_type": "code",
   "execution_count": 44,
   "id": "f4fac142-7421-4b63-a3cc-58c09e418cbf",
   "metadata": {},
   "outputs": [
    {
     "name": "stdout",
     "output_type": "stream",
     "text": [
      "<class 'tuple'>\n"
     ]
    }
   ],
   "source": [
    "b=(1,2,3,4,5)\n",
    "print(type(b))"
   ]
  },
  {
   "cell_type": "code",
   "execution_count": 48,
   "id": "ce5988d5-32ee-4aac-8af8-171edf4c7e62",
   "metadata": {},
   "outputs": [
    {
     "name": "stdout",
     "output_type": "stream",
     "text": [
      "<class 'dict'>\n",
      "{'a': 122, 'b': 455}\n"
     ]
    }
   ],
   "source": [
    "c={\"a\":122,\"b\":455}\n",
    "print(type(c))\n",
    "print(c)"
   ]
  },
  {
   "cell_type": "code",
   "execution_count": 63,
   "id": "5d1203bc-e76e-4626-a9a9-0bbbee97bde8",
   "metadata": {},
   "outputs": [
    {
     "name": "stdout",
     "output_type": "stream",
     "text": [
      "ahens\n"
     ]
    }
   ],
   "source": [
    "a=\"sneha\"\n",
    "b=a[-1]\n",
    "c=a[-2]\n",
    "d=a[-3]\n",
    "e=a[-4]\n",
    "f=a[-5]\n",
    "print(b+c+d+e+f)"
   ]
  },
  {
   "cell_type": "code",
   "execution_count": 78,
   "id": "b8312749-a3b0-4286-b555-505edc92990f",
   "metadata": {},
   "outputs": [
    {
     "name": "stdout",
     "output_type": "stream",
     "text": [
      "n\n",
      "o\n",
      "h\n",
      "t\n",
      "y\n",
      "p\n"
     ]
    }
   ],
   "source": [
    "h=\"python\"\n",
    "r=h[-1]\n",
    "print(r)\n",
    "s=h[-2]\n",
    "print(s)\n",
    "t=h[-3]\n",
    "print(t)\n",
    "t=h[-4]\n",
    "print(t)\n",
    "t=h[-5]\n",
    "print(t)\n",
    "t=h[-6]\n",
    "print(t)\n"
   ]
  },
  {
   "cell_type": "code",
   "execution_count": 66,
   "id": "598ef9d0-3a14-4fed-8314-a1707dc12394",
   "metadata": {},
   "outputs": [
    {
     "name": "stdout",
     "output_type": "stream",
     "text": [
      "<class 'NoneType'>\n"
     ]
    }
   ],
   "source": [
    "print(type(None))"
   ]
  },
  {
   "cell_type": "code",
   "execution_count": 79,
   "id": "4938d361-f2ff-4b0c-aee8-19d120671a82",
   "metadata": {},
   "outputs": [
    {
     "name": "stdout",
     "output_type": "stream",
     "text": [
      "h\n"
     ]
    }
   ],
   "source": [
    "p='hai'\n",
    "print(p[0])"
   ]
  },
  {
   "cell_type": "code",
   "execution_count": 85,
   "id": "f357c7bf-4077-45e3-96c9-493b4fd7a835",
   "metadata": {},
   "outputs": [
    {
     "name": "stdout",
     "output_type": "stream",
     "text": [
      "smile\n",
      "['smile', 6, 6, 5, 4, 3, 2]\n"
     ]
    }
   ],
   "source": [
    "list=[2,3,4,5,6,6,\"smile\"]\n",
    "print(list[-1])\n",
    "list.reverse( )\n",
    "print(list)"
   ]
  },
  {
   "cell_type": "code",
   "execution_count": 6,
   "id": "47439227-f129-4d82-987f-68e5e7f5efee",
   "metadata": {},
   "outputs": [
    {
     "name": "stdout",
     "output_type": "stream",
     "text": [
      "y\n"
     ]
    }
   ],
   "source": [
    "a=[[\"p\",\"y\",\"t\",\"h\",\"o\",\"n\"],1,2,3,4]\n",
    "print(a[0][1])"
   ]
  },
  {
   "cell_type": "code",
   "execution_count": 90,
   "id": "171c9f9b-8c91-4965-b201-cff1ee1dc184",
   "metadata": {},
   "outputs": [
    {
     "name": "stdout",
     "output_type": "stream",
     "text": [
      "15\n"
     ]
    }
   ],
   "source": [
    "#Practice\n",
    "list=[1,2,3,4,5]\n",
    "sum1=sum(list)\n",
    "print(sum1)\n"
   ]
  },
  {
   "cell_type": "code",
   "execution_count": 96,
   "id": "be0950fe-6d53-4b4b-87ff-e96b1d3a50e7",
   "metadata": {},
   "outputs": [
    {
     "name": "stdout",
     "output_type": "stream",
     "text": [
      "50\n",
      "3\n",
      "largest number is: 50\n",
      "smallest number is: 3\n"
     ]
    }
   ],
   "source": [
    "list=[20,3,40,50]\n",
    "largest = max(list)\n",
    "print(largest)\n",
    "smallest = min(list)\n",
    "print(smallest)\n",
    "print(\"largest number is:\",largest)\n",
    "print(\"smallest number is:\",smallest)"
   ]
  },
  {
   "cell_type": "code",
   "execution_count": 101,
   "id": "9cdd2a1b-45cd-4710-9c9f-fd99a8affd36",
   "metadata": {},
   "outputs": [
    {
     "name": "stdout",
     "output_type": "stream",
     "text": [
      "['red', 'Orange', 'red', 'Orange']\n",
      "2\n"
     ]
    }
   ],
   "source": [
    "l=[\"red\",\"Orange\",\"red\",\"Orange\"]\n",
    "print(l)\n",
    "print(l.count(\"red\"))"
   ]
  },
  {
   "cell_type": "code",
   "execution_count": 104,
   "id": "3bdc17c5-5316-476e-827b-6ed6efa4ff6f",
   "metadata": {},
   "outputs": [
    {
     "name": "stdout",
     "output_type": "stream",
     "text": [
      "['red', 'Orange', 'red']\n"
     ]
    }
   ],
   "source": [
    "l=[\"red\",\"Orange\",\"red\"]\n",
    "print(l)"
   ]
  },
  {
   "cell_type": "code",
   "execution_count": 102,
   "id": "7f0471a3-8750-4b80-9255-f5f95d555b86",
   "metadata": {},
   "outputs": [
    {
     "name": "stdout",
     "output_type": "stream",
     "text": [
      "4\n"
     ]
    }
   ],
   "source": [
    "l=[\"red\",\"Orange\",\"red\",\"Orange\"]\n",
    "print(len(l))"
   ]
  },
  {
   "cell_type": "code",
   "execution_count": 103,
   "id": "d3b7df59-b85e-448b-8a8b-461da4465c12",
   "metadata": {},
   "outputs": [
    {
     "name": "stdout",
     "output_type": "stream",
     "text": [
      "4\n"
     ]
    }
   ],
   "source": [
    "l=[\"python\",100,20.00,\"1+10k\"]\n",
    "print(len(l))"
   ]
  },
  {
   "cell_type": "code",
   "execution_count": 112,
   "id": "08f00920-7fc1-43a0-aa34-a639789dc0f1",
   "metadata": {},
   "outputs": [
    {
     "data": {
      "text/plain": [
       "500"
      ]
     },
     "execution_count": 112,
     "metadata": {},
     "output_type": "execute_result"
    }
   ],
   "source": [
    "l=[40,50,70,500]\n",
    "l.pop()"
   ]
  },
  {
   "cell_type": "code",
   "execution_count": 114,
   "id": "7b964be9-1fc5-47a6-8350-4f5bf1724a34",
   "metadata": {},
   "outputs": [
    {
     "name": "stdout",
     "output_type": "stream",
     "text": [
      "[40, 50, 70, 500, 60]\n"
     ]
    }
   ],
   "source": [
    "l=[40,50,70,500]\n",
    "#l.remove(0)\n",
    "l.append(60)\n",
    "print(l)"
   ]
  },
  {
   "cell_type": "code",
   "execution_count": 125,
   "id": "21dcb9bb-b29a-4474-ae17-f3234e0fb6e4",
   "metadata": {},
   "outputs": [
    {
     "name": "stdout",
     "output_type": "stream",
     "text": [
      "[40, 50, 5]\n"
     ]
    }
   ],
   "source": [
    "l=[40,50,70,5]\n",
    "l.remove(70)\n",
    "print(l)\n"
   ]
  },
  {
   "cell_type": "code",
   "execution_count": 127,
   "id": "94e2b297-24f9-455a-b8cc-912130780b9f",
   "metadata": {},
   "outputs": [
    {
     "name": "stdout",
     "output_type": "stream",
     "text": [
      "[40, 50, 100, 70, 5]\n"
     ]
    }
   ],
   "source": [
    "l=[40,50,70,5]\n",
    "l.insert(2,100)\n",
    "print(l)"
   ]
  },
  {
   "cell_type": "code",
   "execution_count": 128,
   "id": "576c4a36-a8c5-4e8f-8481-b3081405d84c",
   "metadata": {},
   "outputs": [
    {
     "name": "stdout",
     "output_type": "stream",
     "text": [
      "[40, 50, 70, 5, 100]\n"
     ]
    }
   ],
   "source": [
    "l=[40,50,70,5]\n",
    "l.append(100)\n",
    "print(l)"
   ]
  },
  {
   "cell_type": "code",
   "execution_count": 135,
   "id": "d723bf07-0b6a-4b82-8fd7-580f18ba2b4e",
   "metadata": {},
   "outputs": [
    {
     "name": "stdout",
     "output_type": "stream",
     "text": [
      "[40, 50, 70, 5, 4000]\n"
     ]
    }
   ],
   "source": [
    "l=[40,50,70,5]\n",
    "l.append(4000)\n",
    "print(l)"
   ]
  },
  {
   "cell_type": "markdown",
   "id": "c55561b2-8c09-45c6-b552-df6f848c8269",
   "metadata": {},
   "source": [
    "#lists"
   ]
  },
  {
   "cell_type": "markdown",
   "id": "2e4c258c-2fd6-49c1-b847-9461e87f9eb9",
   "metadata": {},
   "source": [
    "#DICTIONARIES"
   ]
  },
  {
   "cell_type": "code",
   "execution_count": null,
   "id": "3d9dcfda-40d6-4305-8338-8aa108caa6a1",
   "metadata": {},
   "outputs": [],
   "source": []
  },
  {
   "cell_type": "code",
   "execution_count": null,
   "id": "bcc8500e-b2f9-44c8-953b-0ef37840554a",
   "metadata": {},
   "outputs": [],
   "source": [
    "a=90\n",
    "b=100\n",
    "print(a)\n"
   ]
  },
  {
   "cell_type": "code",
   "execution_count": 1,
   "id": "6b07bcb3-006e-4b6c-809b-d36b21c1d61c",
   "metadata": {},
   "outputs": [
    {
     "name": "stdout",
     "output_type": "stream",
     "text": [
      "i am back\n"
     ]
    }
   ],
   "source": [
    "print(\"i am back\")"
   ]
  },
  {
   "cell_type": "code",
   "execution_count": 2,
   "id": "0ff4136f-a642-49ad-9997-05441d7afdc8",
   "metadata": {},
   "outputs": [
    {
     "data": {
      "text/plain": [
       "[1, 2, 3, 4, 5, 6]"
      ]
     },
     "execution_count": 2,
     "metadata": {},
     "output_type": "execute_result"
    }
   ],
   "source": [
    "list=[1,2,3,4,5,6]\n",
    "list"
   ]
  },
  {
   "cell_type": "code",
   "execution_count": 9,
   "id": "ec32f9d2-6504-4546-92b5-cb2998da8e35",
   "metadata": {},
   "outputs": [
    {
     "name": "stdout",
     "output_type": "stream",
     "text": [
      "[1, 2, 3, 4, 5, 6, 20]\n"
     ]
    }
   ],
   "source": [
    "list.append(20)\n",
    "print(list)"
   ]
  },
  {
   "cell_type": "code",
   "execution_count": 7,
   "id": "59fb1b4f-105a-4288-a145-dbb93cce5c1f",
   "metadata": {},
   "outputs": [
    {
     "data": {
      "text/plain": [
       "4"
      ]
     },
     "execution_count": 7,
     "metadata": {},
     "output_type": "execute_result"
    }
   ],
   "source": [
    "list[3]"
   ]
  },
  {
   "cell_type": "code",
   "execution_count": 8,
   "id": "011ede37-e561-435c-977f-a0750a51a13d",
   "metadata": {},
   "outputs": [
    {
     "data": {
      "text/plain": [
       "3"
      ]
     },
     "execution_count": 8,
     "metadata": {},
     "output_type": "execute_result"
    }
   ],
   "source": [
    "list[-4]"
   ]
  },
  {
   "cell_type": "code",
   "execution_count": 10,
   "id": "8e29de4b-1961-46ad-a8e1-0ffa5bce801b",
   "metadata": {},
   "outputs": [
    {
     "data": {
      "text/plain": [
       "[1, 3, 4, 5, 6, 20]"
      ]
     },
     "execution_count": 10,
     "metadata": {},
     "output_type": "execute_result"
    }
   ],
   "source": [
    "list.remove(2)\n",
    "list"
   ]
  },
  {
   "cell_type": "code",
   "execution_count": 11,
   "id": "1064cbde-71ce-443e-9a27-772a1b8a274f",
   "metadata": {},
   "outputs": [
    {
     "data": {
      "text/plain": [
       "[1, 3, 4, 5, 6]"
      ]
     },
     "execution_count": 11,
     "metadata": {},
     "output_type": "execute_result"
    }
   ],
   "source": [
    "list.pop(-1)\n",
    "list"
   ]
  },
  {
   "cell_type": "code",
   "execution_count": 13,
   "id": "e4264d06-7e12-47f0-9a17-8b7b1e0f8a5c",
   "metadata": {},
   "outputs": [
    {
     "data": {
      "text/plain": [
       "[1, 4, 5, 6]"
      ]
     },
     "execution_count": 13,
     "metadata": {},
     "output_type": "execute_result"
    }
   ],
   "source": [
    "list.pop(1)\n",
    "list"
   ]
  },
  {
   "cell_type": "code",
   "execution_count": 14,
   "id": "a3c5e698-ff9b-47a9-8e96-0fdbbef5108d",
   "metadata": {},
   "outputs": [
    {
     "data": {
      "text/plain": [
       "[1, 'sneha', 4, 5, 6]"
      ]
     },
     "execution_count": 14,
     "metadata": {},
     "output_type": "execute_result"
    }
   ],
   "source": [
    "list.insert(1,'sneha')\n",
    "list"
   ]
  },
  {
   "cell_type": "code",
   "execution_count": 15,
   "id": "f0d69042-1759-4ed0-b18d-3c6abb903c66",
   "metadata": {},
   "outputs": [
    {
     "data": {
      "text/plain": [
       "[1, 'sneha', 4, 5, 'Sneha', 6]"
      ]
     },
     "execution_count": 15,
     "metadata": {},
     "output_type": "execute_result"
    }
   ],
   "source": [
    "list.insert(-1,'Sneha')\n",
    "list"
   ]
  },
  {
   "cell_type": "code",
   "execution_count": 16,
   "id": "b2a62534-3825-429e-98fe-95903ac4f349",
   "metadata": {},
   "outputs": [
    {
     "data": {
      "text/plain": [
       "[1, 4, 5, 'Sneha', 6]"
      ]
     },
     "execution_count": 16,
     "metadata": {},
     "output_type": "execute_result"
    }
   ],
   "source": [
    "list.pop(1)\n",
    "list"
   ]
  },
  {
   "cell_type": "code",
   "execution_count": 21,
   "id": "3a6afe01-c5d5-4632-922f-ce408905034a",
   "metadata": {},
   "outputs": [
    {
     "data": {
      "text/plain": [
       "[5, 'Sneha']"
      ]
     },
     "execution_count": 21,
     "metadata": {},
     "output_type": "execute_result"
    }
   ],
   "source": [
    "list.remove(6)\n",
    "list"
   ]
  },
  {
   "cell_type": "code",
   "execution_count": 22,
   "id": "938e5c1c-5ab1-4daf-accc-bbd9b7ded95d",
   "metadata": {},
   "outputs": [
    {
     "data": {
      "text/plain": [
       "(1, 2, 3, 4, 5, 6)"
      ]
     },
     "execution_count": 22,
     "metadata": {},
     "output_type": "execute_result"
    }
   ],
   "source": [
    "T=(1,2,3,4,5,6)\n",
    "T\n"
   ]
  },
  {
   "cell_type": "code",
   "execution_count": 23,
   "id": "d1875d82-7d39-4e4c-af3b-ff1536375510",
   "metadata": {},
   "outputs": [
    {
     "data": {
      "text/plain": [
       "(1, 2, 3, 4, 5, 6, 3, 'sneha')"
      ]
     },
     "execution_count": 23,
     "metadata": {},
     "output_type": "execute_result"
    }
   ],
   "source": [
    "T1=T+(3,'sneha')\n",
    "T1"
   ]
  },
  {
   "cell_type": "code",
   "execution_count": 25,
   "id": "9015b2f6-8f3a-4822-bec4-621ca949f6f3",
   "metadata": {},
   "outputs": [
    {
     "data": {
      "text/plain": [
       "(1, 2, 3, 10000, 20000, 4, 5, 6, 3, 'sneha')"
      ]
     },
     "execution_count": 25,
     "metadata": {},
     "output_type": "execute_result"
    }
   ],
   "source": [
    "T2=T1[:3]+(10000,20000)+T1[3:]\n",
    "T2"
   ]
  },
  {
   "cell_type": "code",
   "execution_count": 26,
   "id": "8ec6a813-fe24-4d0c-8e17-ba27b306e2bc",
   "metadata": {},
   "outputs": [
    {
     "data": {
      "text/plain": [
       "(10000, 20000, 4, 5, 6, 3, 'sneha', 1, 2, 3)"
      ]
     },
     "execution_count": 26,
     "metadata": {},
     "output_type": "execute_result"
    }
   ],
   "source": [
    "T4=T2[3:]+T2[:3]\n",
    "T4\n"
   ]
  },
  {
   "cell_type": "code",
   "execution_count": 27,
   "id": "4d0e865e-695c-43cd-beb8-68d0fb627c03",
   "metadata": {},
   "outputs": [
    {
     "data": {
      "text/plain": [
       "(2, 10000)"
      ]
     },
     "execution_count": 27,
     "metadata": {},
     "output_type": "execute_result"
    }
   ],
   "source": [
    "T5=T2[1:5:2]\n",
    "T5"
   ]
  },
  {
   "cell_type": "code",
   "execution_count": 32,
   "id": "ee97d1bf-c545-414a-afb3-54ce4f43b834",
   "metadata": {},
   "outputs": [
    {
     "data": {
      "text/plain": [
       "{'name': 'sneha', 'age': 25}"
      ]
     },
     "execution_count": 32,
     "metadata": {},
     "output_type": "execute_result"
    }
   ],
   "source": [
    "dict={'name':'sneha','age':25}\n",
    "dict"
   ]
  },
  {
   "cell_type": "code",
   "execution_count": 43,
   "id": "c4af4c01-4303-49fe-ba28-e715576b283b",
   "metadata": {},
   "outputs": [
    {
     "name": "stdout",
     "output_type": "stream",
     "text": [
      "{'name': 'sneha', 'age': 25, 'gender': 'male'}\n"
     ]
    }
   ],
   "source": [
    "#adding key-value pair to the dictionary\n",
    "dict['gender']='male'\n",
    "print(dict)"
   ]
  },
  {
   "cell_type": "code",
   "execution_count": 44,
   "id": "b09f949f-ecf2-4c0e-9c37-7b978b9943dc",
   "metadata": {},
   "outputs": [
    {
     "data": {
      "text/plain": [
       "{'name': 'sneha', 'age': 26, 'gender': 'male'}"
      ]
     },
     "execution_count": 44,
     "metadata": {},
     "output_type": "execute_result"
    }
   ],
   "source": [
    "#modifying the dictionary\n",
    "dict['age']=26\n",
    "dict"
   ]
  },
  {
   "cell_type": "code",
   "execution_count": 47,
   "id": "de5d431c-d166-4f71-b0e2-a01cba8095c9",
   "metadata": {},
   "outputs": [
    {
     "data": {
      "text/plain": [
       "{'name': 'sneha', 'gender': 'male'}"
      ]
     },
     "execution_count": 47,
     "metadata": {},
     "output_type": "execute_result"
    }
   ],
   "source": [
    "dict.pop('age')\n",
    "dict"
   ]
  },
  {
   "cell_type": "code",
   "execution_count": 48,
   "id": "0f46791e-b7bf-4ba5-bd49-ae03a5d7868d",
   "metadata": {},
   "outputs": [
    {
     "data": {
      "text/plain": [
       "{'name': 'sneha', 'gender': 'male', 'city': 'Nellore'}"
      ]
     },
     "execution_count": 48,
     "metadata": {},
     "output_type": "execute_result"
    }
   ],
   "source": [
    "dict['city']='Nellore'\n",
    "dict"
   ]
  },
  {
   "cell_type": "code",
   "execution_count": 49,
   "id": "d8b68936-a903-4bb6-9e2a-9fadb21eff86",
   "metadata": {},
   "outputs": [
    {
     "data": {
      "text/plain": [
       "{'name': 'sneha', 'gender': 'female', 'city': 'Nellore'}"
      ]
     },
     "execution_count": 49,
     "metadata": {},
     "output_type": "execute_result"
    }
   ],
   "source": [
    "dict['gender']='female'\n",
    "dict"
   ]
  },
  {
   "cell_type": "code",
   "execution_count": 51,
   "id": "16841b8e-6ad3-4653-ada2-78fc756ab048",
   "metadata": {},
   "outputs": [
    {
     "data": {
      "text/plain": [
       "'Nellore'"
      ]
     },
     "execution_count": 51,
     "metadata": {},
     "output_type": "execute_result"
    }
   ],
   "source": [
    "dict.get('city')"
   ]
  },
  {
   "cell_type": "code",
   "execution_count": 54,
   "id": "682b861a-a77a-409a-9f34-d215394bf5a1",
   "metadata": {},
   "outputs": [
    {
     "data": {
      "text/plain": [
       "'sneha'"
      ]
     },
     "execution_count": 54,
     "metadata": {},
     "output_type": "execute_result"
    }
   ],
   "source": [
    "dict['name']"
   ]
  },
  {
   "cell_type": "code",
   "execution_count": 59,
   "id": "62d17212-734a-489b-bbe7-f3d533b3e523",
   "metadata": {},
   "outputs": [
    {
     "data": {
      "text/plain": [
       "{22, 33, 44}"
      ]
     },
     "execution_count": 59,
     "metadata": {},
     "output_type": "execute_result"
    }
   ],
   "source": [
    "#set\n",
    "s={22,33,44}\n",
    "s"
   ]
  },
  {
   "cell_type": "code",
   "execution_count": 60,
   "id": "55d5b2d7-9aaa-44cd-b20e-ee34b17700e8",
   "metadata": {},
   "outputs": [
    {
     "data": {
      "text/plain": [
       "{22, 30, 33, 44}"
      ]
     },
     "execution_count": 60,
     "metadata": {},
     "output_type": "execute_result"
    }
   ],
   "source": [
    "s.add(30)\n",
    "s"
   ]
  },
  {
   "cell_type": "code",
   "execution_count": 61,
   "id": "d3447de3-0d30-4f8f-a6ff-f29c09d43a4a",
   "metadata": {},
   "outputs": [
    {
     "data": {
      "text/plain": [
       "True"
      ]
     },
     "execution_count": 61,
     "metadata": {},
     "output_type": "execute_result"
    }
   ],
   "source": [
    "30 in s"
   ]
  },
  {
   "cell_type": "code",
   "execution_count": 62,
   "id": "b671e112-b1ca-44f4-88da-a3d28ad0d80c",
   "metadata": {},
   "outputs": [
    {
     "data": {
      "text/plain": [
       "False"
      ]
     },
     "execution_count": 62,
     "metadata": {},
     "output_type": "execute_result"
    }
   ],
   "source": [
    "88 in s\n"
   ]
  },
  {
   "cell_type": "code",
   "execution_count": 63,
   "id": "dcf63210-e6b5-408a-9957-97d27cf4dda8",
   "metadata": {},
   "outputs": [
    {
     "data": {
      "text/plain": [
       "True"
      ]
     },
     "execution_count": 63,
     "metadata": {},
     "output_type": "execute_result"
    }
   ],
   "source": [
    "70 not in s"
   ]
  },
  {
   "cell_type": "code",
   "execution_count": 65,
   "id": "f645168c-79a2-4630-9020-f95041428928",
   "metadata": {},
   "outputs": [],
   "source": [
    "s.discard(960)"
   ]
  },
  {
   "cell_type": "code",
   "execution_count": 68,
   "id": "c1e21c52-bae0-4077-8ec8-c44c8685377d",
   "metadata": {},
   "outputs": [
    {
     "ename": "KeyError",
     "evalue": "'44'",
     "output_type": "error",
     "traceback": [
      "\u001b[1;31m---------------------------------------------------------------------------\u001b[0m",
      "\u001b[1;31mKeyError\u001b[0m                                  Traceback (most recent call last)",
      "Cell \u001b[1;32mIn[68], line 1\u001b[0m\n\u001b[1;32m----> 1\u001b[0m s\u001b[38;5;241m.\u001b[39mremove(\u001b[38;5;124m'\u001b[39m\u001b[38;5;124m44\u001b[39m\u001b[38;5;124m'\u001b[39m)\n",
      "\u001b[1;31mKeyError\u001b[0m: '44'"
     ]
    }
   ],
   "source": [
    "s.remove('44')"
   ]
  },
  {
   "cell_type": "code",
   "execution_count": 69,
   "id": "33896211-3a7e-42c9-82bf-8d0b3fed6148",
   "metadata": {},
   "outputs": [
    {
     "data": {
      "text/plain": [
       "{22, 30, 33}"
      ]
     },
     "execution_count": 69,
     "metadata": {},
     "output_type": "execute_result"
    }
   ],
   "source": [
    "s"
   ]
  },
  {
   "cell_type": "code",
   "execution_count": 73,
   "id": "4a27a44d-2459-4011-932d-c58cf63bc931",
   "metadata": {},
   "outputs": [
    {
     "data": {
      "text/plain": [
       "{20, 22, 30, 33, 98}"
      ]
     },
     "execution_count": 73,
     "metadata": {},
     "output_type": "execute_result"
    }
   ],
   "source": [
    "s.add(20)\n",
    "s"
   ]
  },
  {
   "cell_type": "code",
   "execution_count": 76,
   "id": "eb162b26-2303-44fc-900a-d0f5c473fcf0",
   "metadata": {},
   "outputs": [
    {
     "data": {
      "text/plain": [
       "{20, 22, 30, 33, 98}"
      ]
     },
     "execution_count": 76,
     "metadata": {},
     "output_type": "execute_result"
    }
   ],
   "source": [
    "s.add(98)\n",
    "s"
   ]
  },
  {
   "cell_type": "code",
   "execution_count": 78,
   "id": "06e9f236-ebba-4ec5-bb5f-f300b84bcbc2",
   "metadata": {},
   "outputs": [
    {
     "name": "stdout",
     "output_type": "stream",
     "text": [
      "14\n",
      "6\n",
      "2\n",
      "2\n",
      "2.5\n",
      "40\n",
      "10000\n"
     ]
    }
   ],
   "source": [
    "# Arithematic Operators\n",
    "a=10\n",
    "b=4\n",
    "print(a+b)\n",
    "print(a-b)\n",
    "print(a%b) #remainder\n",
    "print(a//b) #quotient\n",
    "print(a/b)\n",
    "print(a*b)\n",
    "print(a**b) #exponentiation"
   ]
  },
  {
   "cell_type": "code",
   "execution_count": 79,
   "id": "53980022-6930-499c-81aa-6a31bd82d90d",
   "metadata": {},
   "outputs": [
    {
     "name": "stdout",
     "output_type": "stream",
     "text": [
      "False\n",
      "True\n",
      "False\n",
      "True\n",
      "False\n",
      "True\n"
     ]
    }
   ],
   "source": [
    "#Comparision Operators\n",
    "x=4\n",
    "y=6\n",
    "print(x==y)\n",
    "print(x!=y)\n",
    "print(x>=y)\n",
    "print(x<=y)\n",
    "print(x>y)\n",
    "print(x<y)"
   ]
  },
  {
   "cell_type": "code",
   "execution_count": 82,
   "id": "694c322f-926b-4cf3-b8c6-fac208139ff8",
   "metadata": {},
   "outputs": [],
   "source": [
    "#Assignment Operators\n",
    "a=2\n",
    "a+=8 #a=a+8\n",
    "a-=4 #a=a-4\n",
    "a/=4 #a=a/4\n",
    "a*=10 # a=a*10"
   ]
  },
  {
   "cell_type": "code",
   "execution_count": 87,
   "id": "3d0189c6-1b96-4644-92c6-70f41331f492",
   "metadata": {},
   "outputs": [
    {
     "name": "stdout",
     "output_type": "stream",
     "text": [
      "False\n",
      "True\n",
      "True\n",
      "False\n"
     ]
    }
   ],
   "source": [
    "#Logical Operators\n",
    "#and or not\n",
    "a=6\n",
    "b=8\n",
    "print(a>b and a<b) #returns false if one of the statements is false\n",
    "print(a>b or a<b) #returns true if one of the statements is true\n",
    "print (a!=b)\n",
    "print (not(a<b))"
   ]
  },
  {
   "cell_type": "code",
   "execution_count": 94,
   "id": "39897b15-4839-46f4-ae0d-e0c81064541d",
   "metadata": {},
   "outputs": [
    {
     "data": {
      "text/plain": [
       "False"
      ]
     },
     "execution_count": 94,
     "metadata": {},
     "output_type": "execute_result"
    }
   ],
   "source": [
    "#Membership Operators\n",
    "#in not in\n",
    "a=[11,33,55,55,88,99]\n",
    "a\n",
    "11 in a\n",
    "100 not in a\n",
    "56 in a"
   ]
  },
  {
   "cell_type": "markdown",
   "id": "13717f69-6cf2-4f3e-81c6-3b803aaf55c0",
   "metadata": {},
   "source": [
    "## Conditional statements"
   ]
  },
  {
   "cell_type": "code",
   "execution_count": 109,
   "id": "2faa5ebb-b492-4b84-a0ba-9fb05af8fc88",
   "metadata": {},
   "outputs": [
    {
     "name": "stdin",
     "output_type": "stream",
     "text": [
      " 17\n"
     ]
    }
   ],
   "source": [
    "# if elif nested if\n",
    "#if\n",
    "age=(input())\n"
   ]
  },
  {
   "cell_type": "code",
   "execution_count": 137,
   "id": "358255fe-ebc3-41d2-a3a8-042d75ed8cc0",
   "metadata": {},
   "outputs": [
    {
     "ename": "TypeError",
     "evalue": "'>' not supported between instances of 'str' and 'int'",
     "output_type": "error",
     "traceback": [
      "\u001b[1;31m---------------------------------------------------------------------------\u001b[0m",
      "\u001b[1;31mTypeError\u001b[0m                                 Traceback (most recent call last)",
      "Cell \u001b[1;32mIn[137], line 1\u001b[0m\n\u001b[1;32m----> 1\u001b[0m \u001b[38;5;28;01mif\u001b[39;00m age\u001b[38;5;241m>\u001b[39m\u001b[38;5;241m18\u001b[39m:\n\u001b[0;32m      2\u001b[0m      \u001b[38;5;28mprint\u001b[39m(\u001b[38;5;124m\"\u001b[39m\u001b[38;5;124meligible\u001b[39m\u001b[38;5;124m\"\u001b[39m)\n\u001b[0;32m      3\u001b[0m \u001b[38;5;28;01melif\u001b[39;00m age\u001b[38;5;241m<\u001b[39m\u001b[38;5;241m18\u001b[39m:\n",
      "\u001b[1;31mTypeError\u001b[0m: '>' not supported between instances of 'str' and 'int'"
     ]
    }
   ],
   "source": [
    " if age>18:\n",
    "      print(\"eligible\")\n",
    " elif age<18:\n",
    "     print(\"not eligible\")"
   ]
  },
  {
   "cell_type": "code",
   "execution_count": 114,
   "id": "07edb2f9-61af-4d0b-a881-42c0d96fe459",
   "metadata": {},
   "outputs": [
    {
     "ename": "TypeError",
     "evalue": "'<' not supported between instances of 'str' and 'int'",
     "output_type": "error",
     "traceback": [
      "\u001b[1;31m---------------------------------------------------------------------------\u001b[0m",
      "\u001b[1;31mTypeError\u001b[0m                                 Traceback (most recent call last)",
      "Cell \u001b[1;32mIn[114], line 1\u001b[0m\n\u001b[1;32m----> 1\u001b[0m \u001b[38;5;28;01mif\u001b[39;00m(age\u001b[38;5;241m<\u001b[39m\u001b[38;5;241m18\u001b[39m):\n\u001b[0;32m      2\u001b[0m     \u001b[38;5;28mprint\u001b[39m(\u001b[38;5;124m\"\u001b[39m\u001b[38;5;124meligible\u001b[39m\u001b[38;5;124m\"\u001b[39m)\n",
      "\u001b[1;31mTypeError\u001b[0m: '<' not supported between instances of 'str' and 'int'"
     ]
    }
   ],
   "source": [
    "if(age<18):\n",
    "    print(\"eligible\")\n",
    "    "
   ]
  },
  {
   "cell_type": "code",
   "execution_count": 143,
   "id": "8d5fb27c-475f-4d17-bda2-3258f03ebac6",
   "metadata": {},
   "outputs": [
    {
     "name": "stdin",
     "output_type": "stream",
     "text": [
      " 68\n"
     ]
    }
   ],
   "source": [
    "age=(input())"
   ]
  },
  {
   "cell_type": "code",
   "execution_count": 152,
   "id": "2440e7f0-753d-4d90-b8e9-d74d2ac574b4",
   "metadata": {},
   "outputs": [
    {
     "name": "stdout",
     "output_type": "stream",
     "text": [
      "senior citizen\n"
     ]
    }
   ],
   "source": [
    "age=68\n",
    "if age >= 65:\n",
    "    print(\"senior citizen\")\n",
    "elif age < 45:\n",
    "    print(\"not a senior citizen\")\n",
    "else:\n",
    "    print(\"senior citizen\")  \n"
   ]
  },
  {
   "cell_type": "code",
   "execution_count": 120,
   "id": "5012c7dd-6161-4ba1-bd86-8b01f4d602b1",
   "metadata": {},
   "outputs": [
    {
     "name": "stdout",
     "output_type": "stream",
     "text": [
      "0\n"
     ]
    }
   ],
   "source": [
    "\n",
    "x=5 #0101\n",
    "x&=2 #0010\n",
    "print(x)"
   ]
  },
  {
   "cell_type": "code",
   "execution_count": 121,
   "id": "8529f174-1b4c-4238-b048-1b6811cf13d0",
   "metadata": {},
   "outputs": [
    {
     "name": "stdout",
     "output_type": "stream",
     "text": [
      "13\n"
     ]
    }
   ],
   "source": [
    "x=5 #0101\n",
    "x|=9 #1001\n",
    "print(x) #1101"
   ]
  },
  {
   "cell_type": "markdown",
   "id": "d85df833-facc-48d1-8601-60b1320e72b7",
   "metadata": {},
   "source": [
    "# logical operators"
   ]
  },
  {
   "cell_type": "code",
   "execution_count": 123,
   "id": "8bb1c06d-4933-4730-9520-2859ed30a709",
   "metadata": {},
   "outputs": [
    {
     "name": "stdout",
     "output_type": "stream",
     "text": [
      "False\n"
     ]
    }
   ],
   "source": [
    "# and:true if both the conditions are true\n",
    "a=6\n",
    "print(a>4 and a>7)"
   ]
  },
  {
   "cell_type": "code",
   "execution_count": 124,
   "id": "1318d4d8-14e2-4153-9a59-c2ae02d3ae61",
   "metadata": {},
   "outputs": [
    {
     "name": "stdout",
     "output_type": "stream",
     "text": [
      "True\n"
     ]
    }
   ],
   "source": [
    "# or:true if one of the conditions are true\n",
    "a=6\n",
    "print(a>4 or a>7)"
   ]
  },
  {
   "cell_type": "code",
   "execution_count": 126,
   "id": "90fc3916-e4df-4565-87c2-1bfbcf5abf3e",
   "metadata": {},
   "outputs": [
    {
     "name": "stdout",
     "output_type": "stream",
     "text": [
      "False\n"
     ]
    }
   ],
   "source": [
    "#not reverses the output\n",
    "print (not(a>2))"
   ]
  },
  {
   "cell_type": "markdown",
   "id": "e8bae133-3c49-4104-9754-6e78ffec68cd",
   "metadata": {},
   "source": [
    "# Identity Operators"
   ]
  },
  {
   "cell_type": "code",
   "execution_count": null,
   "id": "6242f18c-2bee-4138-8b36-acce43459b98",
   "metadata": {},
   "outputs": [],
   "source": [
    "#is: returns true if both the variables are referring to same object\n",
    "#is not:returns true ifboth the variables are not referring to the same object"
   ]
  },
  {
   "cell_type": "code",
   "execution_count": 128,
   "id": "b9205750-b6b3-4986-b3cf-c79e20eb281d",
   "metadata": {},
   "outputs": [
    {
     "name": "stdout",
     "output_type": "stream",
     "text": [
      "False\n",
      "True\n"
     ]
    }
   ],
   "source": [
    "x=10\n",
    "y=20\n",
    "print(x is y)\n",
    "print(x is not y)\n"
   ]
  },
  {
   "cell_type": "markdown",
   "id": "ad12b541-34d3-4daa-abcc-fe85cc7d9285",
   "metadata": {},
   "source": [
    "# membership operators"
   ]
  },
  {
   "cell_type": "code",
   "execution_count": 129,
   "id": "73c71719-5c50-459a-9abf-1646ea71191a",
   "metadata": {},
   "outputs": [
    {
     "data": {
      "text/plain": [
       "{1, 2, 3, 5, 6, 44}"
      ]
     },
     "execution_count": 129,
     "metadata": {},
     "output_type": "execute_result"
    }
   ],
   "source": [
    "#in :returns true if the element is specified in the sequence\n",
    "x={1,2,3,44,5,5,6}\n",
    "x"
   ]
  },
  {
   "cell_type": "code",
   "execution_count": 130,
   "id": "f8c91ca1-8471-4bbf-86b8-62978a7f293b",
   "metadata": {},
   "outputs": [
    {
     "data": {
      "text/plain": [
       "True"
      ]
     },
     "execution_count": 130,
     "metadata": {},
     "output_type": "execute_result"
    }
   ],
   "source": [
    "1 in x"
   ]
  },
  {
   "cell_type": "code",
   "execution_count": 132,
   "id": "2e14ccec-316d-482b-8ae4-ca5248b22227",
   "metadata": {},
   "outputs": [
    {
     "data": {
      "text/plain": [
       "True"
      ]
     },
     "execution_count": 132,
     "metadata": {},
     "output_type": "execute_result"
    }
   ],
   "source": [
    "s=['sne','anu','banu','sonu']\n",
    "'sne' in s"
   ]
  },
  {
   "cell_type": "code",
   "execution_count": 134,
   "id": "bb86f166-fe33-4814-b771-72ae4800608f",
   "metadata": {},
   "outputs": [
    {
     "data": {
      "text/plain": [
       "True"
      ]
     },
     "execution_count": 134,
     "metadata": {},
     "output_type": "execute_result"
    }
   ],
   "source": [
    "'monu' not in s\n"
   ]
  },
  {
   "cell_type": "markdown",
   "id": "4b9b2b5f-4a44-4a6e-931c-97746bc902ca",
   "metadata": {},
   "source": [
    "# Bitwise Operators\n",
    "used to compare binary values"
   ]
  },
  {
   "cell_type": "code",
   "execution_count": 135,
   "id": "8935d442-37bb-49a5-97a3-b4dec942416a",
   "metadata": {},
   "outputs": [
    {
     "name": "stdout",
     "output_type": "stream",
     "text": [
      "2\n"
     ]
    }
   ],
   "source": [
    "# & : sets each bit to 1 if both bits are 1\n",
    "print(6 &3) \n",
    "#6- 0110\n",
    "#3- 0011\n",
    "#2 - 0010"
   ]
  },
  {
   "cell_type": "code",
   "execution_count": 136,
   "id": "431ebcc7-9a46-4cf9-a112-28e08fcf89c0",
   "metadata": {},
   "outputs": [
    {
     "name": "stdout",
     "output_type": "stream",
     "text": [
      "7\n"
     ]
    }
   ],
   "source": [
    "# | :sets each bit to 1 if one of the bits is 1\n",
    "print(6|3)"
   ]
  },
  {
   "cell_type": "code",
   "execution_count": null,
   "id": "1933d6cb-59dc-4a5b-8f39-928435192ac8",
   "metadata": {},
   "outputs": [],
   "source": [
    "# XOR: sets each bit to 1\n",
    "# ~Not:reverses the output\n",
    "# << left shift:shift left by pushing zeros from the right and let the left most bits fall off\n",
    "# >> right shift:shift right by pushing the copies of the left most bit from the left and let the right most bits fall off"
   ]
  },
  {
   "cell_type": "code",
   "execution_count": null,
   "id": "23691e2c-0dcb-4b8d-a263-8a4f6f24a19f",
   "metadata": {},
   "outputs": [],
   "source": []
  },
  {
   "cell_type": "code",
   "execution_count": null,
   "id": "1485c0eb-0860-40a1-a577-c3842850d171",
   "metadata": {},
   "outputs": [],
   "source": []
  },
  {
   "cell_type": "markdown",
   "id": "113cee08-ce4b-4b82-9955-f93c7b49b775",
   "metadata": {},
   "source": [
    "#loops"
   ]
  },
  {
   "cell_type": "code",
   "execution_count": 8,
   "id": "e60c6d9b-dd5e-460f-9d18-be1ac838dbaf",
   "metadata": {},
   "outputs": [
    {
     "name": "stdout",
     "output_type": "stream",
     "text": [
      "[1, 4, 9, 16, 25]\n"
     ]
    }
   ],
   "source": [
    "squares=[x**2 for x in range (1,6)]\n",
    "print(squares)"
   ]
  },
  {
   "cell_type": "code",
   "execution_count": 7,
   "id": "6a38016d-b534-4a13-9148-9d2d92a0f2e4",
   "metadata": {},
   "outputs": [
    {
     "name": "stdout",
     "output_type": "stream",
     "text": [
      "[2, 4, 6, 8, 10, 12, 14, 16, 18, 20, 22, 24, 26, 28]\n"
     ]
    }
   ],
   "source": [
    "even=[x for x in range (2,30) if x%2==0]\n",
    "print(even)"
   ]
  },
  {
   "cell_type": "code",
   "execution_count": 11,
   "id": "3302b324-24de-4b72-a213-1fea1ef7adc6",
   "metadata": {},
   "outputs": [
    {
     "name": "stdout",
     "output_type": "stream",
     "text": [
      "[3, 4, 5]\n"
     ]
    }
   ],
   "source": [
    "l1=[1,2,3,4,5]\n",
    "l2=[3,4,5,6]\n",
    "common=[x for x in l1 if x in l2]\n",
    "print(common)"
   ]
  },
  {
   "cell_type": "code",
   "execution_count": 28,
   "id": "601c82b8-cc4c-4a5c-87d7-c29a6001cd6b",
   "metadata": {},
   "outputs": [
    {
     "name": "stdout",
     "output_type": "stream",
     "text": [
      "[1, 2, 3, 4]\n"
     ]
    }
   ],
   "source": [
    "list=[1,2,2,3,3,4]\n",
    "values=[x for x in set(list)]\n",
    "print(values)\n"
   ]
  },
  {
   "cell_type": "code",
   "execution_count": 4,
   "id": "46850719-0064-4d59-9552-0e9299147378",
   "metadata": {},
   "outputs": [
    {
     "name": "stdout",
     "output_type": "stream",
     "text": [
      "['Amaran', 'Vettaiyan', 'Nana', 'Pushpa', 'Varsham']\n"
     ]
    }
   ],
   "source": [
    "M=['Amaran','Vettaiyan','Nana','Pushpa','Varsham']\n",
    "print(M)"
   ]
  },
  {
   "cell_type": "code",
   "execution_count": 13,
   "id": "ca210646-e95e-4660-b2e3-a9b467ad9903",
   "metadata": {},
   "outputs": [
    {
     "name": "stdout",
     "output_type": "stream",
     "text": [
      "Amaran\n"
     ]
    }
   ],
   "source": [
    "print(M[0])"
   ]
  },
  {
   "cell_type": "code",
   "execution_count": 21,
   "id": "280dbb42-36a8-4405-a7d1-7b88a4de02d8",
   "metadata": {},
   "outputs": [
    {
     "name": "stdout",
     "output_type": "stream",
     "text": [
      "Vettaiyan   Nana\n"
     ]
    }
   ],
   "source": [
    "print(M[1],\" \",M[2])"
   ]
  },
  {
   "cell_type": "code",
   "execution_count": 2,
   "id": "cb948df1-8f53-48ef-a977-678e68515921",
   "metadata": {},
   "outputs": [
    {
     "name": "stdout",
     "output_type": "stream",
     "text": [
      "('Amaran', 'Vettaiyan', 'Nana', 'Pushpa', 'Varsham')\n"
     ]
    }
   ],
   "source": [
    "M=['Amaran','Vettaiyan','Nana','Pushpa','Varsham']\n",
    "S=tuple(M)\n",
    "print(S)"
   ]
  },
  {
   "cell_type": "code",
   "execution_count": 11,
   "id": "366f6b13-344b-420f-99e3-0553d0e256ea",
   "metadata": {},
   "outputs": [
    {
     "name": "stdout",
     "output_type": "stream",
     "text": [
      "['Amaran', 'Vettaiyan', 'Nana', 'Pushpa', 'Varsham', 'Roja']\n"
     ]
    }
   ],
   "source": [
    "#Add a new movie to the end of the list.\n",
    "M=['Amaran','Vettaiyan','Nana','Pushpa','Varsham']\n",
    "M.append('Roja')\n",
    "print(M)\n"
   ]
  },
  {
   "cell_type": "code",
   "execution_count": 20,
   "id": "ca5fc069-03f2-45b1-a114-758d511c9313",
   "metadata": {},
   "outputs": [
    {
     "name": "stdout",
     "output_type": "stream",
     "text": [
      "['Amaran', 'Vettaiyan', 'Nana', 'Pushpa']\n"
     ]
    }
   ],
   "source": [
    "#Remove the third movie from the list.\n",
    "M=['Amaran','Vettaiyan','Nana','Pushpa','Varsham']\n",
    "M\n",
    "M.pop(4)\n",
    "print(M)"
   ]
  },
  {
   "cell_type": "code",
   "execution_count": 22,
   "id": "b8b0e020-be29-4f2b-b1b4-be8b9883aadb",
   "metadata": {},
   "outputs": [
    {
     "name": "stdout",
     "output_type": "stream",
     "text": [
      "['Amaran', 'Vettaiyan', 'Nana', 'Pushpa']\n"
     ]
    }
   ],
   "source": [
    "#Print the updated list.\n",
    "print(M)"
   ]
  },
  {
   "cell_type": "code",
   "execution_count": 25,
   "id": "27e2be01-00d1-44e3-af3b-8256d035f428",
   "metadata": {},
   "outputs": [
    {
     "name": "stdout",
     "output_type": "stream",
     "text": [
      "{'Name': 'Saranya', 'Age': 20, 'Course': 'Computer Science', 'Marks': [85, 90, 78]}\n"
     ]
    }
   ],
   "source": [
    "#Create a dictionary\n",
    "student = {\"Name\": \"Saranya\",\"Age\": 20,\"Course\": \"Computer Science\",\"Marks\": [85, 90, 78] }\n",
    "print(student)"
   ]
  },
  {
   "cell_type": "code",
   "execution_count": 32,
   "id": "0b5f49aa-62be-42ac-ae30-35e6a69185b8",
   "metadata": {},
   "outputs": [
    {
     "name": "stdout",
     "output_type": "stream",
     "text": [
      "Student's Name: Saranya\n",
      "Student's Marks: [85, 90, 78]\n"
     ]
    }
   ],
   "source": [
    "\n",
    "# Access and print the student's name and marks\n",
    "print(\"Name:\", student[\"Name\"])\n",
    "print(\"Marks:\", student[\"Marks\"])\n"
   ]
  },
  {
   "cell_type": "code",
   "execution_count": 109,
   "id": "e9c06f85-c34f-40c4-b81e-2231ac5b1ccc",
   "metadata": {},
   "outputs": [
    {
     "name": "stdout",
     "output_type": "stream",
     "text": [
      "Updated dictionary: {'Name': 'Saranya', 'Age': 20, 'Course': 'Computer Science', 'Marks': [85, 95, 78]}\n"
     ]
    },
    {
     "data": {
      "text/plain": [
       "{'Name': 'Saranya',\n",
       " 'Age': 20,\n",
       " 'Course': 'Computer Science',\n",
       " 'Marks': [85, 95, 78]}"
      ]
     },
     "execution_count": 109,
     "metadata": {},
     "output_type": "execute_result"
    }
   ],
   "source": [
    "\n",
    "# Update the marks of the second subject\n",
    "student[\"Marks\"][1] = 95  \n",
    "\n",
    "# Print the updated dictionary\n",
    "print(\"Updated dictionary:\", student)\n",
    "student"
   ]
  },
  {
   "cell_type": "code",
   "execution_count": 5,
   "id": "ed3c5558-0967-4a30-8eb7-cbf622facec5",
   "metadata": {},
   "outputs": [
    {
     "name": "stdout",
     "output_type": "stream",
     "text": [
      "{1, 2, 3, 4, 5, 6, 7, 8}\n"
     ]
    }
   ],
   "source": [
    "#Create two sets:\n",
    "set1={1,2,3,4,5}\n",
    "set2={4,5,6,7,8}\n",
    "unionset=set1.union(set2)\n",
    "print(unionset)"
   ]
  },
  {
   "cell_type": "code",
   "execution_count": 6,
   "id": "4ebc0d1b-9ce5-4ceb-9f53-b44d6303e5d1",
   "metadata": {},
   "outputs": [
    {
     "name": "stdout",
     "output_type": "stream",
     "text": [
      "{4, 5}\n"
     ]
    }
   ],
   "source": [
    "intersectionset=set1.intersection(set2)\n",
    "print(intersectionset)"
   ]
  },
  {
   "cell_type": "code",
   "execution_count": 8,
   "id": "32788822-f44e-430f-aff6-bb049d4cb8f3",
   "metadata": {},
   "outputs": [
    {
     "name": "stdout",
     "output_type": "stream",
     "text": [
      "{1, 2, 3}\n"
     ]
    }
   ],
   "source": [
    "difference=set1.difference(set2)\n",
    "print(difference)"
   ]
  },
  {
   "cell_type": "code",
   "execution_count": 47,
   "id": "0df882a8-aa2f-4200-ba4a-0825099194b0",
   "metadata": {},
   "outputs": [
    {
     "name": "stdout",
     "output_type": "stream",
     "text": [
      "{1, 2, 3, 4, 5, 6, 7, 8}\n"
     ]
    }
   ],
   "source": [
    "union=set1.union(set2)\n",
    "print(union)"
   ]
  },
  {
   "cell_type": "code",
   "execution_count": 48,
   "id": "618e63ad-35af-4bad-96f6-6d77e21352ed",
   "metadata": {},
   "outputs": [
    {
     "data": {
      "text/plain": [
       "{4, 5}"
      ]
     },
     "execution_count": 48,
     "metadata": {},
     "output_type": "execute_result"
    }
   ],
   "source": [
    "set1.intersection(set2)"
   ]
  },
  {
   "cell_type": "code",
   "execution_count": 79,
   "id": "83615033-d416-44b4-9db2-e7990595c145",
   "metadata": {},
   "outputs": [
    {
     "name": "stdin",
     "output_type": "stream",
     "text": [
      "Enter a number:  -34\n"
     ]
    },
    {
     "name": "stdout",
     "output_type": "stream",
     "text": [
      "Entered number is negative.\n"
     ]
    }
   ],
   "source": [
    "# Write a program that checks if a given number is positive, negative, or zero using an if-else statement.\n",
    "\n",
    "i = int(input('Enter a number: '))\n",
    "\n",
    "if i > 0:\n",
    "    print(\"Entered number is positive.\")\n",
    "elif i < 0:\n",
    "    print(\"Entered number is negative.\")\n",
    "else:\n",
    "    print(\"Entered number is zero.\")\n"
   ]
  },
  {
   "cell_type": "code",
   "execution_count": 80,
   "id": "6071ef5b-e3d5-43b7-9683-3849a6503f48",
   "metadata": {},
   "outputs": [
    {
     "name": "stdin",
     "output_type": "stream",
     "text": [
      "Enter an integer: 5\n"
     ]
    },
    {
     "name": "stdout",
     "output_type": "stream",
     "text": [
      "5\n",
      "4\n",
      "3\n",
      "2\n",
      "1\n"
     ]
    }
   ],
   "source": [
    "#.Write a program that takes an integer input from the user and uses a while loop to print numbers from that input down to 1.\n",
    "x=int(input(\"Enter an integer:\"))\n",
    "while x>=1:\n",
    "   print(x)\n",
    "   x=x-1"
   ]
  },
  {
   "cell_type": "code",
   "execution_count": 93,
   "id": "28f007df-59a5-4d37-be6a-748b96338f7c",
   "metadata": {},
   "outputs": [
    {
     "name": "stdout",
     "output_type": "stream",
     "text": [
      "['a', 'b', 'c', 'd']\n"
     ]
    }
   ],
   "source": [
    "#Create a new list using list comprehension that contains the first letter of each word in the list ['apple', 'banana', 'cherry', 'date'].\n",
    "\n",
    "list=['apple', 'banana', 'cherry', 'date']\n",
    "newlist=[word[0] for word in list]\n",
    "\n",
    "print(newlist)"
   ]
  },
  {
   "cell_type": "code",
   "execution_count": 103,
   "id": "0400a87e-4e9d-4b28-bcc5-f95cfd5ee70c",
   "metadata": {},
   "outputs": [
    {
     "name": "stdout",
     "output_type": "stream",
     "text": [
      "[1, 4, 9, 16, 25]\n"
     ]
    }
   ],
   "source": [
    "#Using list comprehension, create a list of tuples where each tuple contains a number and its square for numbers from 1 to 5.\n",
    "\n",
    "list1=[x*x for x in range(1,6)]\n",
    "print(list1)\n"
   ]
  },
  {
   "cell_type": "code",
   "execution_count": null,
   "id": "db037aaf-549c-4fe9-8cdf-b372f68ea499",
   "metadata": {},
   "outputs": [],
   "source": []
  },
  {
   "cell_type": "code",
   "execution_count": 16,
   "id": "3875defd-8065-488f-a619-dcd18e3eb75f",
   "metadata": {},
   "outputs": [
    {
     "name": "stdout",
     "output_type": "stream",
     "text": [
      "{'tinku': 23, 'rinku': 40, 'pinku': 60}\n"
     ]
    }
   ],
   "source": [
    "dict={'tinku':23,'rinku':40,'pinku':60}\n",
    "print(dict)"
   ]
  },
  {
   "cell_type": "code",
   "execution_count": 18,
   "id": "dded6c92-88bd-40a5-a8f6-ef7ee1cdf793",
   "metadata": {},
   "outputs": [
    {
     "name": "stdout",
     "output_type": "stream",
     "text": [
      "dict_keys(['tinku', 'rinku', 'pinku'])\n",
      "dict_values([23, 40, 60])\n"
     ]
    }
   ],
   "source": [
    "print(dict.keys()) \n",
    "print(dict.values())"
   ]
  },
  {
   "cell_type": "code",
   "execution_count": 19,
   "id": "459601e7-78d5-4f9c-9f88-3fdb0e6640a0",
   "metadata": {},
   "outputs": [
    {
     "name": "stdout",
     "output_type": "stream",
     "text": [
      "dict_items([('tinku', 23), ('rinku', 40), ('pinku', 60)])\n"
     ]
    }
   ],
   "source": [
    "print(dict.items())"
   ]
  },
  {
   "cell_type": "code",
   "execution_count": 26,
   "id": "4ffd9449-74d3-4797-b8e9-14da6a0bbf34",
   "metadata": {},
   "outputs": [
    {
     "name": "stdout",
     "output_type": "stream",
     "text": [
      "[('pinku', 60), ('rinku', 40), ('tinku', 23)]\n"
     ]
    }
   ],
   "source": [
    "print(sorted(dict.items()))"
   ]
  },
  {
   "cell_type": "code",
   "execution_count": 27,
   "id": "dd653255-f3ae-4ee9-9279-df6964dba650",
   "metadata": {},
   "outputs": [
    {
     "name": "stdout",
     "output_type": "stream",
     "text": [
      "40\n"
     ]
    }
   ],
   "source": [
    "print(dict.get('rinku'))"
   ]
  },
  {
   "cell_type": "code",
   "execution_count": 41,
   "id": "a4568cdc-1ade-4358-803d-59dbc44a4b9d",
   "metadata": {},
   "outputs": [
    {
     "name": "stdout",
     "output_type": "stream",
     "text": [
      "{'tinku': 23, 'rinku': 100, 'pinku': 60}\n"
     ]
    }
   ],
   "source": [
    "dict.update({'rinku':100})\n",
    "print(dict)"
   ]
  },
  {
   "cell_type": "code",
   "execution_count": 42,
   "id": "f9d83518-8eac-4a50-83f8-8efda3fe7f2a",
   "metadata": {},
   "outputs": [
    {
     "name": "stdout",
     "output_type": "stream",
     "text": [
      "{'tinku': 23, 'rinku': 100, 'pinku': 90}\n"
     ]
    }
   ],
   "source": [
    "dict.update({'pinku':90})\n",
    "print(dict)"
   ]
  },
  {
   "cell_type": "code",
   "execution_count": 44,
   "id": "fbd9b503-4567-4bcf-ac8e-bfbf10810f14",
   "metadata": {},
   "outputs": [
    {
     "name": "stdout",
     "output_type": "stream",
     "text": [
      "{'tinku': 40, 'rinku': 100, 'pinku': 90}\n"
     ]
    }
   ],
   "source": [
    "dict['tinku']=40\n",
    "print(dict)"
   ]
  },
  {
   "cell_type": "code",
   "execution_count": 45,
   "id": "52f6504e-34cc-4d3f-8c0c-c6076e19f372",
   "metadata": {},
   "outputs": [
    {
     "name": "stdout",
     "output_type": "stream",
     "text": [
      "{'tinku': 66, 'rinku': 100, 'pinku': 90}\n"
     ]
    }
   ],
   "source": [
    "dict.update({'tinku':66})\n",
    "print(dict)"
   ]
  },
  {
   "cell_type": "code",
   "execution_count": 46,
   "id": "b7d0cb0b-9176-4df8-b3f2-cb251d8461f8",
   "metadata": {},
   "outputs": [
    {
     "name": "stdout",
     "output_type": "stream",
     "text": [
      "{'tinku': 66, 'rinku': 100, 'pinku': 55}\n"
     ]
    }
   ],
   "source": [
    "dict['pinku']=55\n",
    "print(dict)"
   ]
  },
  {
   "cell_type": "code",
   "execution_count": 107,
   "id": "45464ef6-ae65-474d-a829-8b58c067bacb",
   "metadata": {},
   "outputs": [
    {
     "name": "stdout",
     "output_type": "stream",
     "text": [
      "{'Name': 'Saranya', 'Age': 20, 'Course': 'Computer Science', 'Marks': [85, 90, 78]}\n"
     ]
    },
    {
     "ename": "NameError",
     "evalue": "name 'Marks' is not defined",
     "output_type": "error",
     "traceback": [
      "\u001b[1;31m---------------------------------------------------------------------------\u001b[0m",
      "\u001b[1;31mNameError\u001b[0m                                 Traceback (most recent call last)",
      "Cell \u001b[1;32mIn[107], line 4\u001b[0m\n\u001b[0;32m      1\u001b[0m student \u001b[38;5;241m=\u001b[39m {\u001b[38;5;124m\"\u001b[39m\u001b[38;5;124mName\u001b[39m\u001b[38;5;124m\"\u001b[39m: \u001b[38;5;124m\"\u001b[39m\u001b[38;5;124mSaranya\u001b[39m\u001b[38;5;124m\"\u001b[39m,\u001b[38;5;124m\"\u001b[39m\u001b[38;5;124mAge\u001b[39m\u001b[38;5;124m\"\u001b[39m: \u001b[38;5;241m20\u001b[39m,\u001b[38;5;124m\"\u001b[39m\u001b[38;5;124mCourse\u001b[39m\u001b[38;5;124m\"\u001b[39m: \u001b[38;5;124m\"\u001b[39m\u001b[38;5;124mComputer Science\u001b[39m\u001b[38;5;124m\"\u001b[39m,\u001b[38;5;124m\"\u001b[39m\u001b[38;5;124mMarks\u001b[39m\u001b[38;5;124m\"\u001b[39m: [\u001b[38;5;241m85\u001b[39m, \u001b[38;5;241m90\u001b[39m, \u001b[38;5;241m78\u001b[39m] }\n\u001b[0;32m      2\u001b[0m \u001b[38;5;28mprint\u001b[39m(student)\n\u001b[1;32m----> 4\u001b[0m student\u001b[38;5;241m.\u001b[39mupdate({Marks[\u001b[38;5;241m1\u001b[39m]:\u001b[38;5;241m95\u001b[39m})\n\u001b[0;32m      5\u001b[0m \u001b[38;5;28mprint\u001b[39m(student)\n",
      "\u001b[1;31mNameError\u001b[0m: name 'Marks' is not defined"
     ]
    }
   ],
   "source": [
    "student = {\"Name\": \"Saranya\",\"Age\": 20,\"Course\": \"Computer Science\",\"Marks\": [85, 90, 78] }\n",
    "print(student)\n",
    "\n",
    "student.update({Marks[1]:95})\n",
    "print(student)"
   ]
  }
 ],
 "metadata": {
  "kernelspec": {
   "display_name": "Python 3 (ipykernel)",
   "language": "python",
   "name": "python3"
  },
  "language_info": {
   "codemirror_mode": {
    "name": "ipython",
    "version": 3
   },
   "file_extension": ".py",
   "mimetype": "text/x-python",
   "name": "python",
   "nbconvert_exporter": "python",
   "pygments_lexer": "ipython3",
   "version": "3.12.4"
  }
 },
 "nbformat": 4,
 "nbformat_minor": 5
}
