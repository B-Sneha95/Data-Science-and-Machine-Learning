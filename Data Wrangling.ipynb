{
 "cells": [
  {
   "cell_type": "markdown",
   "id": "d027027d-16b4-455d-951c-0680cd5e64f9",
   "metadata": {},
   "source": [
    "# Data Wrangling"
   ]
  },
  {
   "cell_type": "code",
   "execution_count": null,
   "id": "0884b622-139a-47d9-8c57-b45146e5569a",
   "metadata": {},
   "outputs": [],
   "source": [
    "#Data wrangling is also known as data munging.The process of transforming or organizing the raw data in to a format thet is easier to analyze\n",
    "#steps of data wrangling\n",
    "# 1.Discover data\n",
    "# 2.Structure\n",
    "# 3.cleaning the data\n",
    "# 4.Validate\n",
    "# 4.publish\n",
    "\n",
    "#after data wrangling,it is easy to do data analysis\n",
    "#improved data quality\n",
    "#improved data quality and consistency\n",
    "#Increased analysis expression\n",
    "#enhanced reproducibility\n",
    "#decision making and reduced error"
   ]
  },
  {
   "cell_type": "markdown",
   "id": "0678825c-f67f-48ea-ae45-837318e0d1dc",
   "metadata": {},
   "source": [
    "# Data wrangling techniques\n",
    "# Merge"
   ]
  },
  {
   "cell_type": "code",
   "execution_count": null,
   "id": "8506922b-bf56-4be9-b115-81cf8b853a10",
   "metadata": {},
   "outputs": [],
   "source": [
    "#if you have two lists of ingredients and want to combine them based on whats common between them,you would use merge"
   ]
  },
  {
   "cell_type": "code",
   "execution_count": null,
   "id": "6258b13e-050c-40f3-aea7-f74cd731295f",
   "metadata": {},
   "outputs": [],
   "source": [
    "import pandas as pd"
   ]
  },
  {
   "cell_type": "code",
   "execution_count": 1,
   "id": "41c5915b-d218-4366-878f-341365f5a511",
   "metadata": {},
   "outputs": [
    {
     "name": "stdout",
     "output_type": "stream",
     "text": [
      "   Student_ID   Name  Score\n",
      "0         101  Alice     85\n"
     ]
    }
   ],
   "source": [
    "#creating two data frames\n",
    "import pandas as pd\n",
    "students=pd.DataFrame({'Student_ID':[101,102,103],\n",
    "                       'Name':['Alice','Bob','Smith']\n",
    "                      })\n",
    "scores=pd.DataFrame({'Student_ID':[101,104,105],\n",
    "                     'Score':[85,90,95]})\n",
    "\n",
    "Merge=pd.merge(students,scores,on='Student_ID')\n",
    "print(Merge)\n"
   ]
  },
  {
   "cell_type": "code",
   "execution_count": 3,
   "id": "56aea9f9-2728-4f16-acc2-cf15f1f48b1d",
   "metadata": {},
   "outputs": [
    {
     "name": "stdout",
     "output_type": "stream",
     "text": [
      "   Student_ID   Name  Score\n",
      "0         101  Alice     85\n"
     ]
    }
   ],
   "source": [
    "join=pd.merge(students,scores,on='Student_ID',how='inner')\n",
    "print(join)"
   ]
  },
  {
   "cell_type": "code",
   "execution_count": 4,
   "id": "0824bf41-4435-490a-b7e9-b9ed8b2b39d6",
   "metadata": {},
   "outputs": [
    {
     "name": "stdout",
     "output_type": "stream",
     "text": [
      "   Student_ID   Name  Score\n",
      "0         101  Alice   85.0\n",
      "1         102    Bob    NaN\n",
      "2         103  Smith    NaN\n"
     ]
    }
   ],
   "source": [
    "leftjoin=pd.merge(students,scores,on='Student_ID',how='left')\n",
    "print(leftjoin)"
   ]
  },
  {
   "cell_type": "code",
   "execution_count": 5,
   "id": "3834120f-c50b-4026-ac72-5337363596c7",
   "metadata": {},
   "outputs": [
    {
     "name": "stdout",
     "output_type": "stream",
     "text": [
      "   Student_ID   Name  Score\n",
      "0         101  Alice     85\n",
      "1         104    NaN     90\n",
      "2         105    NaN     95\n"
     ]
    }
   ],
   "source": [
    "rightjoin=pd.merge(students,scores,on='Student_ID',how='right')\n",
    "print(rightjoin)"
   ]
  },
  {
   "cell_type": "markdown",
   "id": "bdddce25-f088-4119-8de9-15f29bdc2c77",
   "metadata": {},
   "source": [
    "# Concat"
   ]
  },
  {
   "cell_type": "code",
   "execution_count": 8,
   "id": "61cf31b3-aec1-4792-9332-ae8cf965da79",
   "metadata": {},
   "outputs": [
    {
     "data": {
      "text/html": [
       "<div>\n",
       "<style scoped>\n",
       "    .dataframe tbody tr th:only-of-type {\n",
       "        vertical-align: middle;\n",
       "    }\n",
       "\n",
       "    .dataframe tbody tr th {\n",
       "        vertical-align: top;\n",
       "    }\n",
       "\n",
       "    .dataframe thead th {\n",
       "        text-align: right;\n",
       "    }\n",
       "</style>\n",
       "<table border=\"1\" class=\"dataframe\">\n",
       "  <thead>\n",
       "    <tr style=\"text-align: right;\">\n",
       "      <th></th>\n",
       "      <th>Name</th>\n",
       "      <th>Grade</th>\n",
       "      <th>Percent</th>\n",
       "    </tr>\n",
       "  </thead>\n",
       "  <tbody>\n",
       "    <tr>\n",
       "      <th>0</th>\n",
       "      <td>Ramana</td>\n",
       "      <td>3</td>\n",
       "      <td>93</td>\n",
       "    </tr>\n",
       "    <tr>\n",
       "      <th>1</th>\n",
       "      <td>RenaRaj</td>\n",
       "      <td>1</td>\n",
       "      <td>97</td>\n",
       "    </tr>\n",
       "    <tr>\n",
       "      <th>2</th>\n",
       "      <td>Samantha</td>\n",
       "      <td>3</td>\n",
       "      <td>94</td>\n",
       "    </tr>\n",
       "    <tr>\n",
       "      <th>3</th>\n",
       "      <td>Gunasekhar</td>\n",
       "      <td>4</td>\n",
       "      <td>96</td>\n",
       "    </tr>\n",
       "  </tbody>\n",
       "</table>\n",
       "</div>"
      ],
      "text/plain": [
       "         Name  Grade  Percent\n",
       "0      Ramana      3       93\n",
       "1     RenaRaj      1       97\n",
       "2    Samantha      3       94\n",
       "3  Gunasekhar      4       96"
      ]
     },
     "execution_count": 8,
     "metadata": {},
     "output_type": "execute_result"
    }
   ],
   "source": [
    "classA=pd.DataFrame({'Name':['Ram','Rena','Sam','Guna'],'Grade':[1,2,3,4],'Percent':[90,97,95,96]})\n",
    "classA\n",
    "classB=pd.DataFrame({'Name':['Ramana','RenaRaj','Samantha','Gunasekhar'],'Grade':[3,1,3,4],'Percent':[93,97,94,96]})\n",
    "classB"
   ]
  },
  {
   "cell_type": "code",
   "execution_count": 14,
   "id": "eeb81d9a-54f3-4fef-ba75-1c8d58f5285b",
   "metadata": {},
   "outputs": [
    {
     "data": {
      "text/html": [
       "<div>\n",
       "<style scoped>\n",
       "    .dataframe tbody tr th:only-of-type {\n",
       "        vertical-align: middle;\n",
       "    }\n",
       "\n",
       "    .dataframe tbody tr th {\n",
       "        vertical-align: top;\n",
       "    }\n",
       "\n",
       "    .dataframe thead th {\n",
       "        text-align: right;\n",
       "    }\n",
       "</style>\n",
       "<table border=\"1\" class=\"dataframe\">\n",
       "  <thead>\n",
       "    <tr style=\"text-align: right;\">\n",
       "      <th></th>\n",
       "      <th>Name</th>\n",
       "      <th>Grade</th>\n",
       "      <th>Percent</th>\n",
       "    </tr>\n",
       "  </thead>\n",
       "  <tbody>\n",
       "    <tr>\n",
       "      <th>0</th>\n",
       "      <td>Ram</td>\n",
       "      <td>1</td>\n",
       "      <td>90</td>\n",
       "    </tr>\n",
       "    <tr>\n",
       "      <th>1</th>\n",
       "      <td>Rena</td>\n",
       "      <td>2</td>\n",
       "      <td>97</td>\n",
       "    </tr>\n",
       "    <tr>\n",
       "      <th>2</th>\n",
       "      <td>Sam</td>\n",
       "      <td>3</td>\n",
       "      <td>95</td>\n",
       "    </tr>\n",
       "    <tr>\n",
       "      <th>3</th>\n",
       "      <td>Guna</td>\n",
       "      <td>4</td>\n",
       "      <td>96</td>\n",
       "    </tr>\n",
       "    <tr>\n",
       "      <th>4</th>\n",
       "      <td>Ramana</td>\n",
       "      <td>3</td>\n",
       "      <td>93</td>\n",
       "    </tr>\n",
       "    <tr>\n",
       "      <th>5</th>\n",
       "      <td>RenaRaj</td>\n",
       "      <td>1</td>\n",
       "      <td>97</td>\n",
       "    </tr>\n",
       "    <tr>\n",
       "      <th>6</th>\n",
       "      <td>Samantha</td>\n",
       "      <td>3</td>\n",
       "      <td>94</td>\n",
       "    </tr>\n",
       "    <tr>\n",
       "      <th>7</th>\n",
       "      <td>Gunasekhar</td>\n",
       "      <td>4</td>\n",
       "      <td>96</td>\n",
       "    </tr>\n",
       "  </tbody>\n",
       "</table>\n",
       "</div>"
      ],
      "text/plain": [
       "         Name  Grade  Percent\n",
       "0         Ram      1       90\n",
       "1        Rena      2       97\n",
       "2         Sam      3       95\n",
       "3        Guna      4       96\n",
       "4      Ramana      3       93\n",
       "5     RenaRaj      1       97\n",
       "6    Samantha      3       94\n",
       "7  Gunasekhar      4       96"
      ]
     },
     "execution_count": 14,
     "metadata": {},
     "output_type": "execute_result"
    }
   ],
   "source": [
    "concat_data=pd.concat([classA,classB],ignore_index='True')\n",
    "concat_data"
   ]
  },
  {
   "cell_type": "markdown",
   "id": "8a996159-f17a-4780-942c-e7bc8b08c0ed",
   "metadata": {},
   "source": [
    "# GroupBy"
   ]
  },
  {
   "cell_type": "code",
   "execution_count": 23,
   "id": "0d460346-2951-470e-b0db-fea8f029739e",
   "metadata": {},
   "outputs": [
    {
     "data": {
      "text/html": [
       "<div>\n",
       "<style scoped>\n",
       "    .dataframe tbody tr th:only-of-type {\n",
       "        vertical-align: middle;\n",
       "    }\n",
       "\n",
       "    .dataframe tbody tr th {\n",
       "        vertical-align: top;\n",
       "    }\n",
       "\n",
       "    .dataframe thead th {\n",
       "        text-align: right;\n",
       "    }\n",
       "</style>\n",
       "<table border=\"1\" class=\"dataframe\">\n",
       "  <thead>\n",
       "    <tr style=\"text-align: right;\">\n",
       "      <th></th>\n",
       "      <th>SalesPerson</th>\n",
       "      <th>product</th>\n",
       "      <th>Sales</th>\n",
       "    </tr>\n",
       "  </thead>\n",
       "  <tbody>\n",
       "    <tr>\n",
       "      <th>0</th>\n",
       "      <td>Shaobana</td>\n",
       "      <td>ornaments</td>\n",
       "      <td>100000</td>\n",
       "    </tr>\n",
       "    <tr>\n",
       "      <th>1</th>\n",
       "      <td>Sahasra</td>\n",
       "      <td>Fabric</td>\n",
       "      <td>50000</td>\n",
       "    </tr>\n",
       "    <tr>\n",
       "      <th>2</th>\n",
       "      <td>Sarayu</td>\n",
       "      <td>silver</td>\n",
       "      <td>90000</td>\n",
       "    </tr>\n",
       "    <tr>\n",
       "      <th>3</th>\n",
       "      <td>Sruthi</td>\n",
       "      <td>Furniture</td>\n",
       "      <td>80000</td>\n",
       "    </tr>\n",
       "  </tbody>\n",
       "</table>\n",
       "</div>"
      ],
      "text/plain": [
       "  SalesPerson    product   Sales\n",
       "0    Shaobana  ornaments  100000\n",
       "1     Sahasra     Fabric   50000\n",
       "2      Sarayu     silver   90000\n",
       "3      Sruthi  Furniture   80000"
      ]
     },
     "execution_count": 23,
     "metadata": {},
     "output_type": "execute_result"
    }
   ],
   "source": [
    "data=pd.DataFrame({'SalesPerson':['Shaobana','Sahasra','Sarayu','Sruthi'],\n",
    "       'product':['ornaments','Fabric','silver','Furniture'],\n",
    "       'Sales':[100000,50000,90000,80000]})\n",
    "data\n",
    "                   "
   ]
  },
  {
   "cell_type": "code",
   "execution_count": 30,
   "id": "0b3448e3-37ee-4e11-9aa9-df2d839f5f32",
   "metadata": {},
   "outputs": [
    {
     "name": "stdout",
     "output_type": "stream",
     "text": [
      "SalesPerson\n",
      "Sahasra      50000\n",
      "Sarayu       90000\n",
      "Shaobana    100000\n",
      "Sruthi       80000\n",
      "Name: Sales, dtype: int64\n"
     ]
    }
   ],
   "source": [
    "df=pd.DataFrame(data)\n",
    "grp_data=df.groupby('SalesPerson')['Sales'].sum()\n",
    "print(grp_data)"
   ]
  },
  {
   "cell_type": "code",
   "execution_count": 31,
   "id": "788ea338-2825-4b4f-a4c8-31349c489993",
   "metadata": {},
   "outputs": [
    {
     "name": "stdout",
     "output_type": "stream",
     "text": [
      "Columns: ['SalesPerson', 'product', 'Sales']\n"
     ]
    }
   ],
   "source": [
    "print(\"Columns:\", df.columns.tolist())"
   ]
  },
  {
   "cell_type": "code",
   "execution_count": 32,
   "id": "8dcd944d-50aa-40ed-9948-dad1d07de8f6",
   "metadata": {},
   "outputs": [
    {
     "name": "stdout",
     "output_type": "stream",
     "text": [
      "\n",
      "Missing Values:\n",
      "SalesPerson    0\n",
      "product        0\n",
      "Sales          0\n",
      "dtype: int64\n"
     ]
    }
   ],
   "source": [
    "print(\"\\nMissing Values:\")\n",
    "print(df.isnull().sum())\n"
   ]
  },
  {
   "cell_type": "code",
   "execution_count": null,
   "id": "e8644485-d945-4474-8818-a1cf6cdeb798",
   "metadata": {},
   "outputs": [],
   "source": []
  },
  {
   "cell_type": "code",
   "execution_count": 4,
   "id": "8326388a-b1e5-4c4b-a4fb-08969159fb50",
   "metadata": {},
   "outputs": [
    {
     "data": {
      "text/plain": [
       "['Hello', 'python']"
      ]
     },
     "execution_count": 4,
     "metadata": {},
     "output_type": "execute_result"
    }
   ],
   "source": [
    "string='Hello python'\n",
    "string.split()"
   ]
  },
  {
   "cell_type": "code",
   "execution_count": 8,
   "id": "056395bb-034a-49c4-9294-6f3d8bbeb466",
   "metadata": {},
   "outputs": [
    {
     "name": "stdout",
     "output_type": "stream",
     "text": [
      "nohtyp olleH\n"
     ]
    }
   ],
   "source": [
    "string='Hello python'\n",
    "rev_string = \"\"\n",
    "for char in string:\n",
    "    rev_string = char + rev_string    \n",
    "print(rev_string)    "
   ]
  },
  {
   "cell_type": "code",
   "execution_count": null,
   "id": "e508c0a8-5491-4bdb-bcee-928d5b69cec6",
   "metadata": {},
   "outputs": [],
   "source": []
  },
  {
   "cell_type": "code",
   "execution_count": null,
   "id": "deed9dde-065d-4b5b-91a6-98373c0c6efb",
   "metadata": {},
   "outputs": [],
   "source": []
  },
  {
   "cell_type": "code",
   "execution_count": null,
   "id": "75560333-575b-4f50-ab57-70ffe506c443",
   "metadata": {},
   "outputs": [],
   "source": []
  },
  {
   "cell_type": "code",
   "execution_count": null,
   "id": "370bc789-40fe-48dc-8fa6-0ed93a9e7329",
   "metadata": {},
   "outputs": [],
   "source": []
  },
  {
   "cell_type": "code",
   "execution_count": null,
   "id": "ffc5310c-8ad9-4187-a23d-2a7725b14197",
   "metadata": {},
   "outputs": [],
   "source": []
  },
  {
   "cell_type": "code",
   "execution_count": null,
   "id": "d8884d1b-14de-468a-a7de-ffd71de54142",
   "metadata": {},
   "outputs": [],
   "source": []
  },
  {
   "cell_type": "code",
   "execution_count": null,
   "id": "1611fd91-8406-49aa-8f52-b3aef43dde2c",
   "metadata": {},
   "outputs": [],
   "source": []
  },
  {
   "cell_type": "code",
   "execution_count": null,
   "id": "3ac12810-dddd-4164-82fb-88fc50fbbacc",
   "metadata": {},
   "outputs": [],
   "source": []
  },
  {
   "cell_type": "code",
   "execution_count": null,
   "id": "317242d4-31f3-4c91-b7f8-54857da27fe2",
   "metadata": {},
   "outputs": [],
   "source": []
  },
  {
   "cell_type": "code",
   "execution_count": null,
   "id": "cc3ad161-5490-42de-89f8-a601147e28d4",
   "metadata": {},
   "outputs": [],
   "source": []
  }
 ],
 "metadata": {
  "kernelspec": {
   "display_name": "Python 3 (ipykernel)",
   "language": "python",
   "name": "python3"
  },
  "language_info": {
   "codemirror_mode": {
    "name": "ipython",
    "version": 3
   },
   "file_extension": ".py",
   "mimetype": "text/x-python",
   "name": "python",
   "nbconvert_exporter": "python",
   "pygments_lexer": "ipython3",
   "version": "3.12.4"
  }
 },
 "nbformat": 4,
 "nbformat_minor": 5
}
