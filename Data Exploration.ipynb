{
 "cells": [
  {
   "cell_type": "markdown",
   "id": "3ca4e4df-99f9-4e5e-9f5f-23b2f8d566ce",
   "metadata": {},
   "source": [
    "# Data Exploration"
   ]
  },
  {
   "cell_type": "code",
   "execution_count": 2,
   "id": "23df014b-8441-43b2-86ef-9ec6180316df",
   "metadata": {},
   "outputs": [
    {
     "data": {
      "text/plain": [
       "{'S.no': [1, 2, 3, 4, 5, 6, 7],\n",
       " 'Name': ['Ram', 'Sam', 'Tom', 'Com', 'Pom', 'Lom', 'Lom'],\n",
       " 'Age': [23, 34, 50, 43, 65, 43, 21],\n",
       " 'Product': ['Soap', 'Bands', 'Radish', 'Shampoo', 'Pulses', 'Grains', 'Nuts'],\n",
       " 'Price': [20, 30, 34, 700, 360, 456, 800],\n",
       " 'Payment': ['cash', 'UPI', 'cash', 'UPI', 'cash', 'UPI', 'cash']}"
      ]
     },
     "execution_count": 2,
     "metadata": {},
     "output_type": "execute_result"
    }
   ],
   "source": [
    "data={'S.no':[1,2,3,4,5,6,7],\n",
    "      'Name':['Ram','Sam','Tom','Com','Pom','Lom','Lom'],\n",
    "      'Age':[23,34,50,43,65,43,21],\n",
    "      'Product':['Soap','Bands','Radish','Shampoo','Pulses','Grains','Nuts'],\n",
    "      'Price':[20,30,34,700,360,456,800],\n",
    "      'Payment':['cash','UPI','cash','UPI','cash','UPI','cash']\n",
    "}\n",
    "\n",
    "data"
   ]
  },
  {
   "cell_type": "code",
   "execution_count": 4,
   "id": "74304933-ea49-4c9f-a599-48229c6eba93",
   "metadata": {},
   "outputs": [
    {
     "data": {
      "text/html": [
       "<div>\n",
       "<style scoped>\n",
       "    .dataframe tbody tr th:only-of-type {\n",
       "        vertical-align: middle;\n",
       "    }\n",
       "\n",
       "    .dataframe tbody tr th {\n",
       "        vertical-align: top;\n",
       "    }\n",
       "\n",
       "    .dataframe thead th {\n",
       "        text-align: right;\n",
       "    }\n",
       "</style>\n",
       "<table border=\"1\" class=\"dataframe\">\n",
       "  <thead>\n",
       "    <tr style=\"text-align: right;\">\n",
       "      <th></th>\n",
       "      <th>S.no</th>\n",
       "      <th>Name</th>\n",
       "      <th>Age</th>\n",
       "      <th>Product</th>\n",
       "      <th>Price</th>\n",
       "      <th>Payment</th>\n",
       "    </tr>\n",
       "  </thead>\n",
       "  <tbody>\n",
       "    <tr>\n",
       "      <th>0</th>\n",
       "      <td>1</td>\n",
       "      <td>Ram</td>\n",
       "      <td>23</td>\n",
       "      <td>Soap</td>\n",
       "      <td>20</td>\n",
       "      <td>cash</td>\n",
       "    </tr>\n",
       "    <tr>\n",
       "      <th>1</th>\n",
       "      <td>2</td>\n",
       "      <td>Sam</td>\n",
       "      <td>34</td>\n",
       "      <td>Bands</td>\n",
       "      <td>30</td>\n",
       "      <td>UPI</td>\n",
       "    </tr>\n",
       "    <tr>\n",
       "      <th>2</th>\n",
       "      <td>3</td>\n",
       "      <td>Tom</td>\n",
       "      <td>50</td>\n",
       "      <td>Radish</td>\n",
       "      <td>34</td>\n",
       "      <td>cash</td>\n",
       "    </tr>\n",
       "    <tr>\n",
       "      <th>3</th>\n",
       "      <td>4</td>\n",
       "      <td>Com</td>\n",
       "      <td>43</td>\n",
       "      <td>Shampoo</td>\n",
       "      <td>700</td>\n",
       "      <td>UPI</td>\n",
       "    </tr>\n",
       "    <tr>\n",
       "      <th>4</th>\n",
       "      <td>5</td>\n",
       "      <td>Pom</td>\n",
       "      <td>65</td>\n",
       "      <td>Pulses</td>\n",
       "      <td>360</td>\n",
       "      <td>cash</td>\n",
       "    </tr>\n",
       "    <tr>\n",
       "      <th>5</th>\n",
       "      <td>6</td>\n",
       "      <td>Lom</td>\n",
       "      <td>43</td>\n",
       "      <td>Grains</td>\n",
       "      <td>456</td>\n",
       "      <td>UPI</td>\n",
       "    </tr>\n",
       "    <tr>\n",
       "      <th>6</th>\n",
       "      <td>7</td>\n",
       "      <td>Lom</td>\n",
       "      <td>21</td>\n",
       "      <td>Nuts</td>\n",
       "      <td>800</td>\n",
       "      <td>cash</td>\n",
       "    </tr>\n",
       "  </tbody>\n",
       "</table>\n",
       "</div>"
      ],
      "text/plain": [
       "   S.no Name  Age  Product  Price Payment\n",
       "0     1  Ram   23     Soap     20    cash\n",
       "1     2  Sam   34    Bands     30     UPI\n",
       "2     3  Tom   50   Radish     34    cash\n",
       "3     4  Com   43  Shampoo    700     UPI\n",
       "4     5  Pom   65   Pulses    360    cash\n",
       "5     6  Lom   43   Grains    456     UPI\n",
       "6     7  Lom   21     Nuts    800    cash"
      ]
     },
     "execution_count": 4,
     "metadata": {},
     "output_type": "execute_result"
    }
   ],
   "source": [
    "import pandas as pd\n",
    "df=pd.DataFrame(data)\n",
    "df"
   ]
  },
  {
   "cell_type": "code",
   "execution_count": 7,
   "id": "bee9a821-f648-418c-9db0-397704b045cd",
   "metadata": {},
   "outputs": [
    {
     "data": {
      "text/html": [
       "<div>\n",
       "<style scoped>\n",
       "    .dataframe tbody tr th:only-of-type {\n",
       "        vertical-align: middle;\n",
       "    }\n",
       "\n",
       "    .dataframe tbody tr th {\n",
       "        vertical-align: top;\n",
       "    }\n",
       "\n",
       "    .dataframe thead th {\n",
       "        text-align: right;\n",
       "    }\n",
       "</style>\n",
       "<table border=\"1\" class=\"dataframe\">\n",
       "  <thead>\n",
       "    <tr style=\"text-align: right;\">\n",
       "      <th></th>\n",
       "      <th>S.no</th>\n",
       "      <th>Name</th>\n",
       "      <th>Age</th>\n",
       "      <th>Product</th>\n",
       "      <th>Price</th>\n",
       "      <th>Payment</th>\n",
       "      <th>City</th>\n",
       "    </tr>\n",
       "  </thead>\n",
       "  <tbody>\n",
       "    <tr>\n",
       "      <th>0</th>\n",
       "      <td>1</td>\n",
       "      <td>Ram</td>\n",
       "      <td>23</td>\n",
       "      <td>Soap</td>\n",
       "      <td>20</td>\n",
       "      <td>cash</td>\n",
       "      <td>HYD</td>\n",
       "    </tr>\n",
       "    <tr>\n",
       "      <th>1</th>\n",
       "      <td>2</td>\n",
       "      <td>Sam</td>\n",
       "      <td>34</td>\n",
       "      <td>Bands</td>\n",
       "      <td>30</td>\n",
       "      <td>UPI</td>\n",
       "      <td>SEC</td>\n",
       "    </tr>\n",
       "    <tr>\n",
       "      <th>2</th>\n",
       "      <td>3</td>\n",
       "      <td>Tom</td>\n",
       "      <td>50</td>\n",
       "      <td>Radish</td>\n",
       "      <td>34</td>\n",
       "      <td>cash</td>\n",
       "      <td>HYD</td>\n",
       "    </tr>\n",
       "    <tr>\n",
       "      <th>3</th>\n",
       "      <td>4</td>\n",
       "      <td>Com</td>\n",
       "      <td>43</td>\n",
       "      <td>Shampoo</td>\n",
       "      <td>700</td>\n",
       "      <td>UPI</td>\n",
       "      <td>SEC</td>\n",
       "    </tr>\n",
       "    <tr>\n",
       "      <th>4</th>\n",
       "      <td>5</td>\n",
       "      <td>Pom</td>\n",
       "      <td>65</td>\n",
       "      <td>Pulses</td>\n",
       "      <td>360</td>\n",
       "      <td>cash</td>\n",
       "      <td>HYD</td>\n",
       "    </tr>\n",
       "    <tr>\n",
       "      <th>5</th>\n",
       "      <td>6</td>\n",
       "      <td>Lom</td>\n",
       "      <td>43</td>\n",
       "      <td>Grains</td>\n",
       "      <td>456</td>\n",
       "      <td>UPI</td>\n",
       "      <td>SEC</td>\n",
       "    </tr>\n",
       "    <tr>\n",
       "      <th>6</th>\n",
       "      <td>7</td>\n",
       "      <td>Lom</td>\n",
       "      <td>21</td>\n",
       "      <td>Nuts</td>\n",
       "      <td>800</td>\n",
       "      <td>cash</td>\n",
       "      <td>HYD</td>\n",
       "    </tr>\n",
       "  </tbody>\n",
       "</table>\n",
       "</div>"
      ],
      "text/plain": [
       "   S.no Name  Age  Product  Price Payment City\n",
       "0     1  Ram   23     Soap     20    cash  HYD\n",
       "1     2  Sam   34    Bands     30     UPI  SEC\n",
       "2     3  Tom   50   Radish     34    cash  HYD\n",
       "3     4  Com   43  Shampoo    700     UPI  SEC\n",
       "4     5  Pom   65   Pulses    360    cash  HYD\n",
       "5     6  Lom   43   Grains    456     UPI  SEC\n",
       "6     7  Lom   21     Nuts    800    cash  HYD"
      ]
     },
     "execution_count": 7,
     "metadata": {},
     "output_type": "execute_result"
    }
   ],
   "source": [
    "df['City']=['HYD','SEC','HYD','SEC','HYD','SEC','HYD']\n",
    "df"
   ]
  },
  {
   "cell_type": "markdown",
   "id": "980490b6-abe5-41e4-a697-a1d1a72327cc",
   "metadata": {},
   "source": [
    "# Head"
   ]
  },
  {
   "cell_type": "code",
   "execution_count": null,
   "id": "40e32c7e-0260-43d7-b670-dbc342522836",
   "metadata": {},
   "outputs": [],
   "source": [
    "#shows the first few rows of the dataset\n",
    "#It gives a quick lookat the data to understand the content"
   ]
  },
  {
   "cell_type": "code",
   "execution_count": 8,
   "id": "dcad66a7-2827-4ab5-8bd9-8e3c0a40e78c",
   "metadata": {},
   "outputs": [
    {
     "data": {
      "text/html": [
       "<div>\n",
       "<style scoped>\n",
       "    .dataframe tbody tr th:only-of-type {\n",
       "        vertical-align: middle;\n",
       "    }\n",
       "\n",
       "    .dataframe tbody tr th {\n",
       "        vertical-align: top;\n",
       "    }\n",
       "\n",
       "    .dataframe thead th {\n",
       "        text-align: right;\n",
       "    }\n",
       "</style>\n",
       "<table border=\"1\" class=\"dataframe\">\n",
       "  <thead>\n",
       "    <tr style=\"text-align: right;\">\n",
       "      <th></th>\n",
       "      <th>S.no</th>\n",
       "      <th>Name</th>\n",
       "      <th>Age</th>\n",
       "      <th>Product</th>\n",
       "      <th>Price</th>\n",
       "      <th>Payment</th>\n",
       "      <th>City</th>\n",
       "    </tr>\n",
       "  </thead>\n",
       "  <tbody>\n",
       "    <tr>\n",
       "      <th>0</th>\n",
       "      <td>1</td>\n",
       "      <td>Ram</td>\n",
       "      <td>23</td>\n",
       "      <td>Soap</td>\n",
       "      <td>20</td>\n",
       "      <td>cash</td>\n",
       "      <td>HYD</td>\n",
       "    </tr>\n",
       "    <tr>\n",
       "      <th>1</th>\n",
       "      <td>2</td>\n",
       "      <td>Sam</td>\n",
       "      <td>34</td>\n",
       "      <td>Bands</td>\n",
       "      <td>30</td>\n",
       "      <td>UPI</td>\n",
       "      <td>SEC</td>\n",
       "    </tr>\n",
       "    <tr>\n",
       "      <th>2</th>\n",
       "      <td>3</td>\n",
       "      <td>Tom</td>\n",
       "      <td>50</td>\n",
       "      <td>Radish</td>\n",
       "      <td>34</td>\n",
       "      <td>cash</td>\n",
       "      <td>HYD</td>\n",
       "    </tr>\n",
       "    <tr>\n",
       "      <th>3</th>\n",
       "      <td>4</td>\n",
       "      <td>Com</td>\n",
       "      <td>43</td>\n",
       "      <td>Shampoo</td>\n",
       "      <td>700</td>\n",
       "      <td>UPI</td>\n",
       "      <td>SEC</td>\n",
       "    </tr>\n",
       "    <tr>\n",
       "      <th>4</th>\n",
       "      <td>5</td>\n",
       "      <td>Pom</td>\n",
       "      <td>65</td>\n",
       "      <td>Pulses</td>\n",
       "      <td>360</td>\n",
       "      <td>cash</td>\n",
       "      <td>HYD</td>\n",
       "    </tr>\n",
       "  </tbody>\n",
       "</table>\n",
       "</div>"
      ],
      "text/plain": [
       "   S.no Name  Age  Product  Price Payment City\n",
       "0     1  Ram   23     Soap     20    cash  HYD\n",
       "1     2  Sam   34    Bands     30     UPI  SEC\n",
       "2     3  Tom   50   Radish     34    cash  HYD\n",
       "3     4  Com   43  Shampoo    700     UPI  SEC\n",
       "4     5  Pom   65   Pulses    360    cash  HYD"
      ]
     },
     "execution_count": 8,
     "metadata": {},
     "output_type": "execute_result"
    }
   ],
   "source": [
    "df.head()"
   ]
  },
  {
   "cell_type": "code",
   "execution_count": null,
   "id": "753dd937-1b01-4329-8b5a-b8523cf5a2f7",
   "metadata": {},
   "outputs": [],
   "source": []
  },
  {
   "cell_type": "markdown",
   "id": "abe915a1-84c8-4df4-a5d5-ec9697c8b6d4",
   "metadata": {},
   "source": [
    "# Tail"
   ]
  },
  {
   "cell_type": "code",
   "execution_count": null,
   "id": "0fcc214f-dc36-4472-a082-2bddc6cfc8d8",
   "metadata": {},
   "outputs": [],
   "source": [
    "#shows the few rows of the data set\n",
    "#gives an idea about how the data ends and helps you to understand the size of the dataset"
   ]
  },
  {
   "cell_type": "code",
   "execution_count": 9,
   "id": "560b0442-e168-4fcf-b5a8-738a412cb24e",
   "metadata": {},
   "outputs": [
    {
     "data": {
      "text/html": [
       "<div>\n",
       "<style scoped>\n",
       "    .dataframe tbody tr th:only-of-type {\n",
       "        vertical-align: middle;\n",
       "    }\n",
       "\n",
       "    .dataframe tbody tr th {\n",
       "        vertical-align: top;\n",
       "    }\n",
       "\n",
       "    .dataframe thead th {\n",
       "        text-align: right;\n",
       "    }\n",
       "</style>\n",
       "<table border=\"1\" class=\"dataframe\">\n",
       "  <thead>\n",
       "    <tr style=\"text-align: right;\">\n",
       "      <th></th>\n",
       "      <th>S.no</th>\n",
       "      <th>Name</th>\n",
       "      <th>Age</th>\n",
       "      <th>Product</th>\n",
       "      <th>Price</th>\n",
       "      <th>Payment</th>\n",
       "      <th>City</th>\n",
       "    </tr>\n",
       "  </thead>\n",
       "  <tbody>\n",
       "    <tr>\n",
       "      <th>2</th>\n",
       "      <td>3</td>\n",
       "      <td>Tom</td>\n",
       "      <td>50</td>\n",
       "      <td>Radish</td>\n",
       "      <td>34</td>\n",
       "      <td>cash</td>\n",
       "      <td>HYD</td>\n",
       "    </tr>\n",
       "    <tr>\n",
       "      <th>3</th>\n",
       "      <td>4</td>\n",
       "      <td>Com</td>\n",
       "      <td>43</td>\n",
       "      <td>Shampoo</td>\n",
       "      <td>700</td>\n",
       "      <td>UPI</td>\n",
       "      <td>SEC</td>\n",
       "    </tr>\n",
       "    <tr>\n",
       "      <th>4</th>\n",
       "      <td>5</td>\n",
       "      <td>Pom</td>\n",
       "      <td>65</td>\n",
       "      <td>Pulses</td>\n",
       "      <td>360</td>\n",
       "      <td>cash</td>\n",
       "      <td>HYD</td>\n",
       "    </tr>\n",
       "    <tr>\n",
       "      <th>5</th>\n",
       "      <td>6</td>\n",
       "      <td>Lom</td>\n",
       "      <td>43</td>\n",
       "      <td>Grains</td>\n",
       "      <td>456</td>\n",
       "      <td>UPI</td>\n",
       "      <td>SEC</td>\n",
       "    </tr>\n",
       "    <tr>\n",
       "      <th>6</th>\n",
       "      <td>7</td>\n",
       "      <td>Lom</td>\n",
       "      <td>21</td>\n",
       "      <td>Nuts</td>\n",
       "      <td>800</td>\n",
       "      <td>cash</td>\n",
       "      <td>HYD</td>\n",
       "    </tr>\n",
       "  </tbody>\n",
       "</table>\n",
       "</div>"
      ],
      "text/plain": [
       "   S.no Name  Age  Product  Price Payment City\n",
       "2     3  Tom   50   Radish     34    cash  HYD\n",
       "3     4  Com   43  Shampoo    700     UPI  SEC\n",
       "4     5  Pom   65   Pulses    360    cash  HYD\n",
       "5     6  Lom   43   Grains    456     UPI  SEC\n",
       "6     7  Lom   21     Nuts    800    cash  HYD"
      ]
     },
     "execution_count": 9,
     "metadata": {},
     "output_type": "execute_result"
    }
   ],
   "source": [
    "df.tail()"
   ]
  },
  {
   "cell_type": "markdown",
   "id": "0f8536ce-c558-4cce-8522-118d06762166",
   "metadata": {},
   "source": [
    "# shape"
   ]
  },
  {
   "cell_type": "code",
   "execution_count": 11,
   "id": "34ca73f8-6b0f-467c-9188-db55a330b85c",
   "metadata": {},
   "outputs": [
    {
     "data": {
      "text/plain": [
       "(7, 7)"
      ]
     },
     "execution_count": 11,
     "metadata": {},
     "output_type": "execute_result"
    }
   ],
   "source": [
    "#Tells you the number of rows and columns in a dataset\n",
    "df.shape"
   ]
  },
  {
   "cell_type": "markdown",
   "id": "9490b645-7654-47c8-a664-2c048735047c",
   "metadata": {},
   "source": [
    "# Column"
   ]
  },
  {
   "cell_type": "code",
   "execution_count": 13,
   "id": "be36e4b0-9af4-4d9e-981f-7b6b94a3b69e",
   "metadata": {},
   "outputs": [
    {
     "data": {
      "text/plain": [
       "Index(['S.no', 'Name', 'Age', 'Product', 'Price', 'Payment', 'City'], dtype='object')"
      ]
     },
     "execution_count": 13,
     "metadata": {},
     "output_type": "execute_result"
    }
   ],
   "source": [
    "#Lists all the column names\n",
    "#helps you to see what kind of datatypes that a dataset contains\n",
    "df.columns"
   ]
  },
  {
   "cell_type": "markdown",
   "id": "a69c9053-55a2-4ad5-b121-e8d472723f04",
   "metadata": {},
   "source": [
    "# info"
   ]
  },
  {
   "cell_type": "code",
   "execution_count": 14,
   "id": "efc38a7a-676a-463c-a46d-b16b56564a7f",
   "metadata": {},
   "outputs": [
    {
     "data": {
      "text/plain": [
       "<bound method DataFrame.info of    S.no Name  Age  Product  Price Payment City\n",
       "0     1  Ram   23     Soap     20    cash  HYD\n",
       "1     2  Sam   34    Bands     30     UPI  SEC\n",
       "2     3  Tom   50   Radish     34    cash  HYD\n",
       "3     4  Com   43  Shampoo    700     UPI  SEC\n",
       "4     5  Pom   65   Pulses    360    cash  HYD\n",
       "5     6  Lom   43   Grains    456     UPI  SEC\n",
       "6     7  Lom   21     Nuts    800    cash  HYD>"
      ]
     },
     "execution_count": 14,
     "metadata": {},
     "output_type": "execute_result"
    }
   ],
   "source": [
    "#we can get the whole summary of the data\n",
    "df.info"
   ]
  },
  {
   "cell_type": "markdown",
   "id": "e8a74628-7cf2-46b3-9e3e-6af19cb14ade",
   "metadata": {},
   "source": [
    "# Dtypes"
   ]
  },
  {
   "cell_type": "code",
   "execution_count": 15,
   "id": "7a61225e-7c67-4d00-b9f9-d372d4069015",
   "metadata": {},
   "outputs": [
    {
     "data": {
      "text/plain": [
       "S.no        int64\n",
       "Name       object\n",
       "Age         int64\n",
       "Product    object\n",
       "Price       int64\n",
       "Payment    object\n",
       "City       object\n",
       "dtype: object"
      ]
     },
     "execution_count": 15,
     "metadata": {},
     "output_type": "execute_result"
    }
   ],
   "source": [
    "#shows the data type of each column\n",
    "#it makes sure the data types are appropriate\n",
    "df.dtypes"
   ]
  },
  {
   "cell_type": "markdown",
   "id": "d042db8f-c49c-441d-9219-049540236df9",
   "metadata": {},
   "source": [
    "# describe()"
   ]
  },
  {
   "cell_type": "code",
   "execution_count": 16,
   "id": "e9ff1636-f7b4-4322-be2d-67d38d04af6c",
   "metadata": {},
   "outputs": [
    {
     "data": {
      "text/html": [
       "<div>\n",
       "<style scoped>\n",
       "    .dataframe tbody tr th:only-of-type {\n",
       "        vertical-align: middle;\n",
       "    }\n",
       "\n",
       "    .dataframe tbody tr th {\n",
       "        vertical-align: top;\n",
       "    }\n",
       "\n",
       "    .dataframe thead th {\n",
       "        text-align: right;\n",
       "    }\n",
       "</style>\n",
       "<table border=\"1\" class=\"dataframe\">\n",
       "  <thead>\n",
       "    <tr style=\"text-align: right;\">\n",
       "      <th></th>\n",
       "      <th>S.no</th>\n",
       "      <th>Age</th>\n",
       "      <th>Price</th>\n",
       "    </tr>\n",
       "  </thead>\n",
       "  <tbody>\n",
       "    <tr>\n",
       "      <th>count</th>\n",
       "      <td>7.000000</td>\n",
       "      <td>7.000000</td>\n",
       "      <td>7.000000</td>\n",
       "    </tr>\n",
       "    <tr>\n",
       "      <th>mean</th>\n",
       "      <td>4.000000</td>\n",
       "      <td>39.857143</td>\n",
       "      <td>342.857143</td>\n",
       "    </tr>\n",
       "    <tr>\n",
       "      <th>std</th>\n",
       "      <td>2.160247</td>\n",
       "      <td>15.431878</td>\n",
       "      <td>328.414082</td>\n",
       "    </tr>\n",
       "    <tr>\n",
       "      <th>min</th>\n",
       "      <td>1.000000</td>\n",
       "      <td>21.000000</td>\n",
       "      <td>20.000000</td>\n",
       "    </tr>\n",
       "    <tr>\n",
       "      <th>25%</th>\n",
       "      <td>2.500000</td>\n",
       "      <td>28.500000</td>\n",
       "      <td>32.000000</td>\n",
       "    </tr>\n",
       "    <tr>\n",
       "      <th>50%</th>\n",
       "      <td>4.000000</td>\n",
       "      <td>43.000000</td>\n",
       "      <td>360.000000</td>\n",
       "    </tr>\n",
       "    <tr>\n",
       "      <th>75%</th>\n",
       "      <td>5.500000</td>\n",
       "      <td>46.500000</td>\n",
       "      <td>578.000000</td>\n",
       "    </tr>\n",
       "    <tr>\n",
       "      <th>max</th>\n",
       "      <td>7.000000</td>\n",
       "      <td>65.000000</td>\n",
       "      <td>800.000000</td>\n",
       "    </tr>\n",
       "  </tbody>\n",
       "</table>\n",
       "</div>"
      ],
      "text/plain": [
       "           S.no        Age       Price\n",
       "count  7.000000   7.000000    7.000000\n",
       "mean   4.000000  39.857143  342.857143\n",
       "std    2.160247  15.431878  328.414082\n",
       "min    1.000000  21.000000   20.000000\n",
       "25%    2.500000  28.500000   32.000000\n",
       "50%    4.000000  43.000000  360.000000\n",
       "75%    5.500000  46.500000  578.000000\n",
       "max    7.000000  65.000000  800.000000"
      ]
     },
     "execution_count": 16,
     "metadata": {},
     "output_type": "execute_result"
    }
   ],
   "source": [
    "#provides summary of statistics\n",
    "#gives quick idea of distribution and range of numeric data\n",
    "df.describe()"
   ]
  },
  {
   "cell_type": "markdown",
   "id": "a5197c72-ca2a-4f71-b05c-62aa065e3220",
   "metadata": {},
   "source": [
    "# unique()"
   ]
  },
  {
   "cell_type": "code",
   "execution_count": 20,
   "id": "aef163c8-bee9-40b3-a524-8f81807d3c3a",
   "metadata": {},
   "outputs": [
    {
     "data": {
      "text/plain": [
       "array(['HYD', 'SEC'], dtype=object)"
      ]
     },
     "execution_count": 20,
     "metadata": {},
     "output_type": "execute_result"
    }
   ],
   "source": [
    "# shows the unique values in a column\n",
    "#helps you to understand the variety od data in a column\n",
    "df['City'].unique()"
   ]
  },
  {
   "cell_type": "markdown",
   "id": "2f5233be-9f61-4006-a612-8ad1ff587917",
   "metadata": {},
   "source": [
    "# Value Counts"
   ]
  },
  {
   "cell_type": "code",
   "execution_count": 22,
   "id": "0e30e5b4-a65e-4446-ae3c-cfc85a71f700",
   "metadata": {},
   "outputs": [
    {
     "data": {
      "text/plain": [
       "Product\n",
       "Soap       1\n",
       "Bands      1\n",
       "Radish     1\n",
       "Shampoo    1\n",
       "Pulses     1\n",
       "Grains     1\n",
       "Nuts       1\n",
       "Name: count, dtype: int64"
      ]
     },
     "execution_count": 22,
     "metadata": {},
     "output_type": "execute_result"
    }
   ],
   "source": [
    "#tells how many times each unique value appears in a column\n",
    "#helps you spot trends or patterns of your data\n",
    "df['Product'].value_counts()"
   ]
  },
  {
   "cell_type": "code",
   "execution_count": null,
   "id": "690476fa-2143-4e42-b7d0-49e88b65b8b2",
   "metadata": {},
   "outputs": [],
   "source": []
  },
  {
   "cell_type": "code",
   "execution_count": null,
   "id": "9d9dd4fd-12da-4e3b-b281-350b06ae9458",
   "metadata": {},
   "outputs": [],
   "source": []
  },
  {
   "cell_type": "code",
   "execution_count": null,
   "id": "2e3244d5-f038-4e9e-95ae-e23c60bb7e94",
   "metadata": {},
   "outputs": [],
   "source": []
  }
 ],
 "metadata": {
  "kernelspec": {
   "display_name": "Python 3 (ipykernel)",
   "language": "python",
   "name": "python3"
  },
  "language_info": {
   "codemirror_mode": {
    "name": "ipython",
    "version": 3
   },
   "file_extension": ".py",
   "mimetype": "text/x-python",
   "name": "python",
   "nbconvert_exporter": "python",
   "pygments_lexer": "ipython3",
   "version": "3.12.4"
  }
 },
 "nbformat": 4,
 "nbformat_minor": 5
}
